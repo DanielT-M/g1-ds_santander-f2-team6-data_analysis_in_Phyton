{
 "cells": [
  {
   "cell_type": "code",
   "execution_count": 1,
   "id": "006ba503",
   "metadata": {},
   "outputs": [],
   "source": [
    "import numpy as np\n",
    "import pandas as pd\n",
    "import matplotlib.pyplot as plt\n",
    "import seaborn as sns\n",
    "import scipy.optimize as opt\n",
    "from sklearn import preprocessing\n",
    "from sklearn.model_selection import train_test_split\n",
    "from sklearn.linear_model import LogisticRegression\n",
    "from sklearn.metrics import confusion_matrix, classification_report"
   ]
  },
  {
   "cell_type": "code",
   "execution_count": 2,
   "id": "775e9cc0",
   "metadata": {},
   "outputs": [],
   "source": [
    "path = 'Entrega_Final_Procesamiento_DanielTapia_LuisZanabria_NorbertoPena_HaroldVasquez/datasets/bike_buyers.csv'\n",
    "df = pd.read_csv(path)\n",
    "df_copy = df.copy()"
   ]
  },
  {
   "cell_type": "code",
   "execution_count": 3,
   "id": "4ac48002",
   "metadata": {},
   "outputs": [
    {
     "data": {
      "text/html": [
       "<div>\n",
       "<style scoped>\n",
       "    .dataframe tbody tr th:only-of-type {\n",
       "        vertical-align: middle;\n",
       "    }\n",
       "\n",
       "    .dataframe tbody tr th {\n",
       "        vertical-align: top;\n",
       "    }\n",
       "\n",
       "    .dataframe thead th {\n",
       "        text-align: right;\n",
       "    }\n",
       "</style>\n",
       "<table border=\"1\" class=\"dataframe\">\n",
       "  <thead>\n",
       "    <tr style=\"text-align: right;\">\n",
       "      <th></th>\n",
       "      <th>ID</th>\n",
       "      <th>Marital Status</th>\n",
       "      <th>Gender</th>\n",
       "      <th>Income</th>\n",
       "      <th>Children</th>\n",
       "      <th>Education</th>\n",
       "      <th>Occupation</th>\n",
       "      <th>Home Owner</th>\n",
       "      <th>Cars</th>\n",
       "      <th>Commute Distance</th>\n",
       "      <th>Region</th>\n",
       "      <th>Age</th>\n",
       "      <th>Purchased Bike</th>\n",
       "    </tr>\n",
       "  </thead>\n",
       "  <tbody>\n",
       "    <tr>\n",
       "      <th>0</th>\n",
       "      <td>12496</td>\n",
       "      <td>Married</td>\n",
       "      <td>Female</td>\n",
       "      <td>40000.0</td>\n",
       "      <td>1.0</td>\n",
       "      <td>Bachelors</td>\n",
       "      <td>Skilled Manual</td>\n",
       "      <td>Yes</td>\n",
       "      <td>0.0</td>\n",
       "      <td>0-1 Miles</td>\n",
       "      <td>Europe</td>\n",
       "      <td>42.0</td>\n",
       "      <td>No</td>\n",
       "    </tr>\n",
       "    <tr>\n",
       "      <th>1</th>\n",
       "      <td>24107</td>\n",
       "      <td>Married</td>\n",
       "      <td>Male</td>\n",
       "      <td>30000.0</td>\n",
       "      <td>3.0</td>\n",
       "      <td>Partial College</td>\n",
       "      <td>Clerical</td>\n",
       "      <td>Yes</td>\n",
       "      <td>1.0</td>\n",
       "      <td>0-1 Miles</td>\n",
       "      <td>Europe</td>\n",
       "      <td>43.0</td>\n",
       "      <td>No</td>\n",
       "    </tr>\n",
       "    <tr>\n",
       "      <th>2</th>\n",
       "      <td>14177</td>\n",
       "      <td>Married</td>\n",
       "      <td>Male</td>\n",
       "      <td>80000.0</td>\n",
       "      <td>5.0</td>\n",
       "      <td>Partial College</td>\n",
       "      <td>Professional</td>\n",
       "      <td>No</td>\n",
       "      <td>2.0</td>\n",
       "      <td>2-5 Miles</td>\n",
       "      <td>Europe</td>\n",
       "      <td>60.0</td>\n",
       "      <td>No</td>\n",
       "    </tr>\n",
       "    <tr>\n",
       "      <th>3</th>\n",
       "      <td>24381</td>\n",
       "      <td>Single</td>\n",
       "      <td>NaN</td>\n",
       "      <td>70000.0</td>\n",
       "      <td>0.0</td>\n",
       "      <td>Bachelors</td>\n",
       "      <td>Professional</td>\n",
       "      <td>Yes</td>\n",
       "      <td>1.0</td>\n",
       "      <td>5-10 Miles</td>\n",
       "      <td>Pacific</td>\n",
       "      <td>41.0</td>\n",
       "      <td>Yes</td>\n",
       "    </tr>\n",
       "    <tr>\n",
       "      <th>4</th>\n",
       "      <td>25597</td>\n",
       "      <td>Single</td>\n",
       "      <td>Male</td>\n",
       "      <td>30000.0</td>\n",
       "      <td>0.0</td>\n",
       "      <td>Bachelors</td>\n",
       "      <td>Clerical</td>\n",
       "      <td>No</td>\n",
       "      <td>0.0</td>\n",
       "      <td>0-1 Miles</td>\n",
       "      <td>Europe</td>\n",
       "      <td>36.0</td>\n",
       "      <td>Yes</td>\n",
       "    </tr>\n",
       "  </tbody>\n",
       "</table>\n",
       "</div>"
      ],
      "text/plain": [
       "      ID Marital Status  Gender   Income  Children        Education  \\\n",
       "0  12496        Married  Female  40000.0       1.0        Bachelors   \n",
       "1  24107        Married    Male  30000.0       3.0  Partial College   \n",
       "2  14177        Married    Male  80000.0       5.0  Partial College   \n",
       "3  24381         Single     NaN  70000.0       0.0        Bachelors   \n",
       "4  25597         Single    Male  30000.0       0.0        Bachelors   \n",
       "\n",
       "       Occupation Home Owner  Cars Commute Distance   Region   Age  \\\n",
       "0  Skilled Manual        Yes   0.0        0-1 Miles   Europe  42.0   \n",
       "1        Clerical        Yes   1.0        0-1 Miles   Europe  43.0   \n",
       "2    Professional         No   2.0        2-5 Miles   Europe  60.0   \n",
       "3    Professional        Yes   1.0       5-10 Miles  Pacific  41.0   \n",
       "4        Clerical         No   0.0        0-1 Miles   Europe  36.0   \n",
       "\n",
       "  Purchased Bike  \n",
       "0             No  \n",
       "1             No  \n",
       "2             No  \n",
       "3            Yes  \n",
       "4            Yes  "
      ]
     },
     "execution_count": 3,
     "metadata": {},
     "output_type": "execute_result"
    }
   ],
   "source": [
    "df_copy.head()"
   ]
  },
  {
   "cell_type": "markdown",
   "id": "2a4f335f",
   "metadata": {},
   "source": [
    "# Limpieza de los datos"
   ]
  },
  {
   "cell_type": "markdown",
   "id": "8dd57c1a",
   "metadata": {},
   "source": [
    "Vamos a limpiar nuestro dataset para seleccionar nuestras variables independientes X y nuestra variable dependiente y, además de procesar los datos para transformar valores categóricos a su representación númerica"
   ]
  },
  {
   "cell_type": "markdown",
   "id": "3d38d087",
   "metadata": {},
   "source": [
    "Revisaremos primero si podemos sustituir valores nulos de algunas columnas para no remover filas de nuestro dataset"
   ]
  },
  {
   "cell_type": "code",
   "execution_count": 4,
   "id": "f45c46db",
   "metadata": {},
   "outputs": [
    {
     "data": {
      "text/plain": [
       "ID                   0\n",
       "Marital Status       7\n",
       "Gender              11\n",
       "Income               6\n",
       "Children             8\n",
       "Education            0\n",
       "Occupation           0\n",
       "Home Owner           4\n",
       "Cars                 9\n",
       "Commute Distance     0\n",
       "Region               0\n",
       "Age                  8\n",
       "Purchased Bike       0\n",
       "dtype: int64"
      ]
     },
     "execution_count": 4,
     "metadata": {},
     "output_type": "execute_result"
    }
   ],
   "source": [
    "df_copy.isna().sum()"
   ]
  },
  {
   "cell_type": "code",
   "execution_count": 5,
   "id": "6b201bf6",
   "metadata": {},
   "outputs": [
    {
     "data": {
      "text/plain": [
       "ID                   0\n",
       "Marital Status       0\n",
       "Gender              10\n",
       "Income               0\n",
       "Children             0\n",
       "Education            0\n",
       "Occupation           0\n",
       "Home Owner           0\n",
       "Cars                 0\n",
       "Commute Distance     0\n",
       "Region               0\n",
       "Age                  0\n",
       "Purchased Bike       0\n",
       "dtype: int64"
      ]
     },
     "execution_count": 5,
     "metadata": {},
     "output_type": "execute_result"
    }
   ],
   "source": [
    "df_copy.dropna(subset = ['Income','Children','Home Owner', 'Cars','Age','Marital Status'], axis = 0, inplace = True)\n",
    "df_copy.isna().sum()"
   ]
  },
  {
   "cell_type": "code",
   "execution_count": 6,
   "id": "e45a6ddf",
   "metadata": {},
   "outputs": [
    {
     "data": {
      "text/plain": [
       "array(['Female', 'Male', nan], dtype=object)"
      ]
     },
     "execution_count": 6,
     "metadata": {},
     "output_type": "execute_result"
    }
   ],
   "source": [
    "pd.unique(df_copy['Gender'])"
   ]
  },
  {
   "cell_type": "code",
   "execution_count": 7,
   "id": "a43253de",
   "metadata": {},
   "outputs": [],
   "source": [
    "df_copy['Gender'].replace(np.nan, 'Other', inplace=True)"
   ]
  },
  {
   "cell_type": "code",
   "execution_count": 8,
   "id": "964d803a",
   "metadata": {},
   "outputs": [
    {
     "data": {
      "text/plain": [
       "array(['Female', 'Male', 'Other'], dtype=object)"
      ]
     },
     "execution_count": 8,
     "metadata": {},
     "output_type": "execute_result"
    }
   ],
   "source": [
    "pd.unique(df_copy['Gender'])"
   ]
  },
  {
   "cell_type": "code",
   "execution_count": 9,
   "id": "af52506b",
   "metadata": {},
   "outputs": [
    {
     "data": {
      "text/plain": [
       "ID                  0\n",
       "Marital Status      0\n",
       "Gender              0\n",
       "Income              0\n",
       "Children            0\n",
       "Education           0\n",
       "Occupation          0\n",
       "Home Owner          0\n",
       "Cars                0\n",
       "Commute Distance    0\n",
       "Region              0\n",
       "Age                 0\n",
       "Purchased Bike      0\n",
       "dtype: int64"
      ]
     },
     "execution_count": 9,
     "metadata": {},
     "output_type": "execute_result"
    }
   ],
   "source": [
    "df_copy.isna().sum()"
   ]
  },
  {
   "cell_type": "code",
   "execution_count": 10,
   "id": "74dc43c8",
   "metadata": {},
   "outputs": [],
   "source": [
    "df_copy.reset_index(drop = True, inplace = True)"
   ]
  },
  {
   "cell_type": "markdown",
   "id": "e66c09ac",
   "metadata": {},
   "source": [
    "# Transformación de los datos"
   ]
  },
  {
   "cell_type": "markdown",
   "id": "9b3fa70b",
   "metadata": {},
   "source": [
    "Vamos a obtener la representación númerica de las variables categóricas del conjunto de datos"
   ]
  },
  {
   "cell_type": "code",
   "execution_count": 11,
   "id": "52528716",
   "metadata": {},
   "outputs": [],
   "source": [
    "df_copy['Purchased Bike'] = df_copy['Purchased Bike'].map({'Yes':1, 'No':0})\n",
    "#df_copy['Marital Status'] = df_copy['Marital Status'].map({'Married':1, 'Single':0})\n",
    "#df_copy['Home Owner'] = df_copy['Home Owner'].map({'Yes':1, 'No':0})\n",
    "\n",
    "df_copy = df_copy.drop(['ID'], axis = 1)"
   ]
  },
  {
   "cell_type": "code",
   "execution_count": 12,
   "id": "cbe116dc",
   "metadata": {},
   "outputs": [
    {
     "data": {
      "text/html": [
       "<div>\n",
       "<style scoped>\n",
       "    .dataframe tbody tr th:only-of-type {\n",
       "        vertical-align: middle;\n",
       "    }\n",
       "\n",
       "    .dataframe tbody tr th {\n",
       "        vertical-align: top;\n",
       "    }\n",
       "\n",
       "    .dataframe thead th {\n",
       "        text-align: right;\n",
       "    }\n",
       "</style>\n",
       "<table border=\"1\" class=\"dataframe\">\n",
       "  <thead>\n",
       "    <tr style=\"text-align: right;\">\n",
       "      <th></th>\n",
       "      <th>Marital Status</th>\n",
       "      <th>Gender</th>\n",
       "      <th>Income</th>\n",
       "      <th>Children</th>\n",
       "      <th>Education</th>\n",
       "      <th>Occupation</th>\n",
       "      <th>Home Owner</th>\n",
       "      <th>Cars</th>\n",
       "      <th>Commute Distance</th>\n",
       "      <th>Region</th>\n",
       "      <th>Age</th>\n",
       "      <th>Purchased Bike</th>\n",
       "    </tr>\n",
       "  </thead>\n",
       "  <tbody>\n",
       "    <tr>\n",
       "      <th>0</th>\n",
       "      <td>Married</td>\n",
       "      <td>Female</td>\n",
       "      <td>40000.0</td>\n",
       "      <td>1.0</td>\n",
       "      <td>Bachelors</td>\n",
       "      <td>Skilled Manual</td>\n",
       "      <td>Yes</td>\n",
       "      <td>0.0</td>\n",
       "      <td>0-1 Miles</td>\n",
       "      <td>Europe</td>\n",
       "      <td>42.0</td>\n",
       "      <td>0</td>\n",
       "    </tr>\n",
       "    <tr>\n",
       "      <th>1</th>\n",
       "      <td>Married</td>\n",
       "      <td>Male</td>\n",
       "      <td>30000.0</td>\n",
       "      <td>3.0</td>\n",
       "      <td>Partial College</td>\n",
       "      <td>Clerical</td>\n",
       "      <td>Yes</td>\n",
       "      <td>1.0</td>\n",
       "      <td>0-1 Miles</td>\n",
       "      <td>Europe</td>\n",
       "      <td>43.0</td>\n",
       "      <td>0</td>\n",
       "    </tr>\n",
       "    <tr>\n",
       "      <th>2</th>\n",
       "      <td>Married</td>\n",
       "      <td>Male</td>\n",
       "      <td>80000.0</td>\n",
       "      <td>5.0</td>\n",
       "      <td>Partial College</td>\n",
       "      <td>Professional</td>\n",
       "      <td>No</td>\n",
       "      <td>2.0</td>\n",
       "      <td>2-5 Miles</td>\n",
       "      <td>Europe</td>\n",
       "      <td>60.0</td>\n",
       "      <td>0</td>\n",
       "    </tr>\n",
       "    <tr>\n",
       "      <th>3</th>\n",
       "      <td>Single</td>\n",
       "      <td>Other</td>\n",
       "      <td>70000.0</td>\n",
       "      <td>0.0</td>\n",
       "      <td>Bachelors</td>\n",
       "      <td>Professional</td>\n",
       "      <td>Yes</td>\n",
       "      <td>1.0</td>\n",
       "      <td>5-10 Miles</td>\n",
       "      <td>Pacific</td>\n",
       "      <td>41.0</td>\n",
       "      <td>1</td>\n",
       "    </tr>\n",
       "    <tr>\n",
       "      <th>4</th>\n",
       "      <td>Single</td>\n",
       "      <td>Male</td>\n",
       "      <td>30000.0</td>\n",
       "      <td>0.0</td>\n",
       "      <td>Bachelors</td>\n",
       "      <td>Clerical</td>\n",
       "      <td>No</td>\n",
       "      <td>0.0</td>\n",
       "      <td>0-1 Miles</td>\n",
       "      <td>Europe</td>\n",
       "      <td>36.0</td>\n",
       "      <td>1</td>\n",
       "    </tr>\n",
       "  </tbody>\n",
       "</table>\n",
       "</div>"
      ],
      "text/plain": [
       "  Marital Status  Gender   Income  Children        Education      Occupation  \\\n",
       "0        Married  Female  40000.0       1.0        Bachelors  Skilled Manual   \n",
       "1        Married    Male  30000.0       3.0  Partial College        Clerical   \n",
       "2        Married    Male  80000.0       5.0  Partial College    Professional   \n",
       "3         Single   Other  70000.0       0.0        Bachelors    Professional   \n",
       "4         Single    Male  30000.0       0.0        Bachelors        Clerical   \n",
       "\n",
       "  Home Owner  Cars Commute Distance   Region   Age  Purchased Bike  \n",
       "0        Yes   0.0        0-1 Miles   Europe  42.0               0  \n",
       "1        Yes   1.0        0-1 Miles   Europe  43.0               0  \n",
       "2         No   2.0        2-5 Miles   Europe  60.0               0  \n",
       "3        Yes   1.0       5-10 Miles  Pacific  41.0               1  \n",
       "4         No   0.0        0-1 Miles   Europe  36.0               1  "
      ]
     },
     "execution_count": 12,
     "metadata": {},
     "output_type": "execute_result"
    }
   ],
   "source": [
    "df_copy.head()"
   ]
  },
  {
   "cell_type": "markdown",
   "id": "771de68c",
   "metadata": {},
   "source": [
    "## Obtención de de dummies para variables categóricas"
   ]
  },
  {
   "cell_type": "code",
   "execution_count": 13,
   "id": "67fc2e22",
   "metadata": {},
   "outputs": [],
   "source": [
    "X_list = ['Marital Status', 'Gender','Income', 'Region','Home Owner', 'Cars','Age'] #Lista para seleccionar los atributos para el modelo\n",
    "X_list_excluded = df_copy.columns.difference(X_list) #Lista con los atributos que NO se usaran\n",
    "categorical_list = ['Marital Status', 'Gender','Home Owner', 'Region'] #Lista con los atributos de los que obtendremos los dummies"
   ]
  },
  {
   "cell_type": "code",
   "execution_count": 14,
   "id": "d36dd42d",
   "metadata": {},
   "outputs": [],
   "source": [
    "df_list = []\n",
    "for categorical in categorical_list:\n",
    "    df_list.append(pd.get_dummies(df_copy[categorical], drop_first=True))"
   ]
  },
  {
   "cell_type": "code",
   "execution_count": 15,
   "id": "3183eee7",
   "metadata": {},
   "outputs": [
    {
     "data": {
      "text/html": [
       "<div>\n",
       "<style scoped>\n",
       "    .dataframe tbody tr th:only-of-type {\n",
       "        vertical-align: middle;\n",
       "    }\n",
       "\n",
       "    .dataframe tbody tr th {\n",
       "        vertical-align: top;\n",
       "    }\n",
       "\n",
       "    .dataframe thead th {\n",
       "        text-align: right;\n",
       "    }\n",
       "</style>\n",
       "<table border=\"1\" class=\"dataframe\">\n",
       "  <thead>\n",
       "    <tr style=\"text-align: right;\">\n",
       "      <th></th>\n",
       "      <th>Marital Status</th>\n",
       "      <th>Gender</th>\n",
       "      <th>Income</th>\n",
       "      <th>Children</th>\n",
       "      <th>Education</th>\n",
       "      <th>Occupation</th>\n",
       "      <th>Home Owner</th>\n",
       "      <th>Cars</th>\n",
       "      <th>Commute Distance</th>\n",
       "      <th>Region</th>\n",
       "      <th>Age</th>\n",
       "      <th>Purchased Bike</th>\n",
       "      <th>Single</th>\n",
       "      <th>Male</th>\n",
       "      <th>Other</th>\n",
       "      <th>Yes</th>\n",
       "      <th>North America</th>\n",
       "      <th>Pacific</th>\n",
       "    </tr>\n",
       "  </thead>\n",
       "  <tbody>\n",
       "    <tr>\n",
       "      <th>0</th>\n",
       "      <td>Married</td>\n",
       "      <td>Female</td>\n",
       "      <td>40000.0</td>\n",
       "      <td>1.0</td>\n",
       "      <td>Bachelors</td>\n",
       "      <td>Skilled Manual</td>\n",
       "      <td>Yes</td>\n",
       "      <td>0.0</td>\n",
       "      <td>0-1 Miles</td>\n",
       "      <td>Europe</td>\n",
       "      <td>42.0</td>\n",
       "      <td>0</td>\n",
       "      <td>0</td>\n",
       "      <td>0</td>\n",
       "      <td>0</td>\n",
       "      <td>1</td>\n",
       "      <td>0</td>\n",
       "      <td>0</td>\n",
       "    </tr>\n",
       "    <tr>\n",
       "      <th>1</th>\n",
       "      <td>Married</td>\n",
       "      <td>Male</td>\n",
       "      <td>30000.0</td>\n",
       "      <td>3.0</td>\n",
       "      <td>Partial College</td>\n",
       "      <td>Clerical</td>\n",
       "      <td>Yes</td>\n",
       "      <td>1.0</td>\n",
       "      <td>0-1 Miles</td>\n",
       "      <td>Europe</td>\n",
       "      <td>43.0</td>\n",
       "      <td>0</td>\n",
       "      <td>0</td>\n",
       "      <td>1</td>\n",
       "      <td>0</td>\n",
       "      <td>1</td>\n",
       "      <td>0</td>\n",
       "      <td>0</td>\n",
       "    </tr>\n",
       "    <tr>\n",
       "      <th>2</th>\n",
       "      <td>Married</td>\n",
       "      <td>Male</td>\n",
       "      <td>80000.0</td>\n",
       "      <td>5.0</td>\n",
       "      <td>Partial College</td>\n",
       "      <td>Professional</td>\n",
       "      <td>No</td>\n",
       "      <td>2.0</td>\n",
       "      <td>2-5 Miles</td>\n",
       "      <td>Europe</td>\n",
       "      <td>60.0</td>\n",
       "      <td>0</td>\n",
       "      <td>0</td>\n",
       "      <td>1</td>\n",
       "      <td>0</td>\n",
       "      <td>0</td>\n",
       "      <td>0</td>\n",
       "      <td>0</td>\n",
       "    </tr>\n",
       "    <tr>\n",
       "      <th>3</th>\n",
       "      <td>Single</td>\n",
       "      <td>Other</td>\n",
       "      <td>70000.0</td>\n",
       "      <td>0.0</td>\n",
       "      <td>Bachelors</td>\n",
       "      <td>Professional</td>\n",
       "      <td>Yes</td>\n",
       "      <td>1.0</td>\n",
       "      <td>5-10 Miles</td>\n",
       "      <td>Pacific</td>\n",
       "      <td>41.0</td>\n",
       "      <td>1</td>\n",
       "      <td>1</td>\n",
       "      <td>0</td>\n",
       "      <td>1</td>\n",
       "      <td>1</td>\n",
       "      <td>0</td>\n",
       "      <td>1</td>\n",
       "    </tr>\n",
       "    <tr>\n",
       "      <th>4</th>\n",
       "      <td>Single</td>\n",
       "      <td>Male</td>\n",
       "      <td>30000.0</td>\n",
       "      <td>0.0</td>\n",
       "      <td>Bachelors</td>\n",
       "      <td>Clerical</td>\n",
       "      <td>No</td>\n",
       "      <td>0.0</td>\n",
       "      <td>0-1 Miles</td>\n",
       "      <td>Europe</td>\n",
       "      <td>36.0</td>\n",
       "      <td>1</td>\n",
       "      <td>1</td>\n",
       "      <td>1</td>\n",
       "      <td>0</td>\n",
       "      <td>0</td>\n",
       "      <td>0</td>\n",
       "      <td>0</td>\n",
       "    </tr>\n",
       "  </tbody>\n",
       "</table>\n",
       "</div>"
      ],
      "text/plain": [
       "  Marital Status  Gender   Income  Children        Education      Occupation  \\\n",
       "0        Married  Female  40000.0       1.0        Bachelors  Skilled Manual   \n",
       "1        Married    Male  30000.0       3.0  Partial College        Clerical   \n",
       "2        Married    Male  80000.0       5.0  Partial College    Professional   \n",
       "3         Single   Other  70000.0       0.0        Bachelors    Professional   \n",
       "4         Single    Male  30000.0       0.0        Bachelors        Clerical   \n",
       "\n",
       "  Home Owner  Cars Commute Distance   Region   Age  Purchased Bike  Single  \\\n",
       "0        Yes   0.0        0-1 Miles   Europe  42.0               0       0   \n",
       "1        Yes   1.0        0-1 Miles   Europe  43.0               0       0   \n",
       "2         No   2.0        2-5 Miles   Europe  60.0               0       0   \n",
       "3        Yes   1.0       5-10 Miles  Pacific  41.0               1       1   \n",
       "4         No   0.0        0-1 Miles   Europe  36.0               1       1   \n",
       "\n",
       "   Male  Other  Yes  North America  Pacific  \n",
       "0     0      0    1              0        0  \n",
       "1     1      0    1              0        0  \n",
       "2     1      0    0              0        0  \n",
       "3     0      1    1              0        1  \n",
       "4     1      0    0              0        0  "
      ]
     },
     "execution_count": 15,
     "metadata": {},
     "output_type": "execute_result"
    }
   ],
   "source": [
    "for dataframe in df_list:\n",
    "    df_copy = pd.concat([df_copy, dataframe], axis = 1)\n",
    "    \n",
    "df_copy.head()"
   ]
  },
  {
   "cell_type": "code",
   "execution_count": 16,
   "id": "9cd5a18a",
   "metadata": {},
   "outputs": [],
   "source": [
    "df_copy = df_copy.drop(categorical_list, axis = 1)"
   ]
  },
  {
   "cell_type": "code",
   "execution_count": 17,
   "id": "fd14b580",
   "metadata": {},
   "outputs": [
    {
     "data": {
      "text/html": [
       "<div>\n",
       "<style scoped>\n",
       "    .dataframe tbody tr th:only-of-type {\n",
       "        vertical-align: middle;\n",
       "    }\n",
       "\n",
       "    .dataframe tbody tr th {\n",
       "        vertical-align: top;\n",
       "    }\n",
       "\n",
       "    .dataframe thead th {\n",
       "        text-align: right;\n",
       "    }\n",
       "</style>\n",
       "<table border=\"1\" class=\"dataframe\">\n",
       "  <thead>\n",
       "    <tr style=\"text-align: right;\">\n",
       "      <th></th>\n",
       "      <th>Income</th>\n",
       "      <th>Children</th>\n",
       "      <th>Education</th>\n",
       "      <th>Occupation</th>\n",
       "      <th>Cars</th>\n",
       "      <th>Commute Distance</th>\n",
       "      <th>Age</th>\n",
       "      <th>Purchased Bike</th>\n",
       "      <th>Single</th>\n",
       "      <th>Male</th>\n",
       "      <th>Other</th>\n",
       "      <th>Yes</th>\n",
       "      <th>North America</th>\n",
       "      <th>Pacific</th>\n",
       "    </tr>\n",
       "  </thead>\n",
       "  <tbody>\n",
       "    <tr>\n",
       "      <th>0</th>\n",
       "      <td>40000.0</td>\n",
       "      <td>1.0</td>\n",
       "      <td>Bachelors</td>\n",
       "      <td>Skilled Manual</td>\n",
       "      <td>0.0</td>\n",
       "      <td>0-1 Miles</td>\n",
       "      <td>42.0</td>\n",
       "      <td>0</td>\n",
       "      <td>0</td>\n",
       "      <td>0</td>\n",
       "      <td>0</td>\n",
       "      <td>1</td>\n",
       "      <td>0</td>\n",
       "      <td>0</td>\n",
       "    </tr>\n",
       "    <tr>\n",
       "      <th>1</th>\n",
       "      <td>30000.0</td>\n",
       "      <td>3.0</td>\n",
       "      <td>Partial College</td>\n",
       "      <td>Clerical</td>\n",
       "      <td>1.0</td>\n",
       "      <td>0-1 Miles</td>\n",
       "      <td>43.0</td>\n",
       "      <td>0</td>\n",
       "      <td>0</td>\n",
       "      <td>1</td>\n",
       "      <td>0</td>\n",
       "      <td>1</td>\n",
       "      <td>0</td>\n",
       "      <td>0</td>\n",
       "    </tr>\n",
       "    <tr>\n",
       "      <th>2</th>\n",
       "      <td>80000.0</td>\n",
       "      <td>5.0</td>\n",
       "      <td>Partial College</td>\n",
       "      <td>Professional</td>\n",
       "      <td>2.0</td>\n",
       "      <td>2-5 Miles</td>\n",
       "      <td>60.0</td>\n",
       "      <td>0</td>\n",
       "      <td>0</td>\n",
       "      <td>1</td>\n",
       "      <td>0</td>\n",
       "      <td>0</td>\n",
       "      <td>0</td>\n",
       "      <td>0</td>\n",
       "    </tr>\n",
       "    <tr>\n",
       "      <th>3</th>\n",
       "      <td>70000.0</td>\n",
       "      <td>0.0</td>\n",
       "      <td>Bachelors</td>\n",
       "      <td>Professional</td>\n",
       "      <td>1.0</td>\n",
       "      <td>5-10 Miles</td>\n",
       "      <td>41.0</td>\n",
       "      <td>1</td>\n",
       "      <td>1</td>\n",
       "      <td>0</td>\n",
       "      <td>1</td>\n",
       "      <td>1</td>\n",
       "      <td>0</td>\n",
       "      <td>1</td>\n",
       "    </tr>\n",
       "    <tr>\n",
       "      <th>4</th>\n",
       "      <td>30000.0</td>\n",
       "      <td>0.0</td>\n",
       "      <td>Bachelors</td>\n",
       "      <td>Clerical</td>\n",
       "      <td>0.0</td>\n",
       "      <td>0-1 Miles</td>\n",
       "      <td>36.0</td>\n",
       "      <td>1</td>\n",
       "      <td>1</td>\n",
       "      <td>1</td>\n",
       "      <td>0</td>\n",
       "      <td>0</td>\n",
       "      <td>0</td>\n",
       "      <td>0</td>\n",
       "    </tr>\n",
       "  </tbody>\n",
       "</table>\n",
       "</div>"
      ],
      "text/plain": [
       "    Income  Children        Education      Occupation  Cars Commute Distance  \\\n",
       "0  40000.0       1.0        Bachelors  Skilled Manual   0.0        0-1 Miles   \n",
       "1  30000.0       3.0  Partial College        Clerical   1.0        0-1 Miles   \n",
       "2  80000.0       5.0  Partial College    Professional   2.0        2-5 Miles   \n",
       "3  70000.0       0.0        Bachelors    Professional   1.0       5-10 Miles   \n",
       "4  30000.0       0.0        Bachelors        Clerical   0.0        0-1 Miles   \n",
       "\n",
       "    Age  Purchased Bike  Single  Male  Other  Yes  North America  Pacific  \n",
       "0  42.0               0       0     0      0    1              0        0  \n",
       "1  43.0               0       0     1      0    1              0        0  \n",
       "2  60.0               0       0     1      0    0              0        0  \n",
       "3  41.0               1       1     0      1    1              0        1  \n",
       "4  36.0               1       1     1      0    0              0        0  "
      ]
     },
     "execution_count": 17,
     "metadata": {},
     "output_type": "execute_result"
    }
   ],
   "source": [
    "df_copy.head()"
   ]
  },
  {
   "cell_type": "markdown",
   "id": "7721fb71",
   "metadata": {},
   "source": [
    "# Selección de atributos y modelo logístico"
   ]
  },
  {
   "cell_type": "code",
   "execution_count": 18,
   "id": "46cf32aa",
   "metadata": {},
   "outputs": [],
   "source": [
    "X = np.asarray(df_copy.drop(X_list_excluded, axis = 1))\n",
    "y = np.asarray(df_copy['Purchased Bike'].astype('int'))"
   ]
  },
  {
   "cell_type": "markdown",
   "id": "94c12d45",
   "metadata": {},
   "source": [
    "Normalizaremos el conjunto de datos"
   ]
  },
  {
   "cell_type": "code",
   "execution_count": 19,
   "id": "cd426081",
   "metadata": {},
   "outputs": [
    {
     "data": {
      "text/plain": [
       "array([[-0.52247698, -1.31080576, -0.19636846, -0.91426356, -0.9958506 ,\n",
       "        -0.10249001,  0.67971029, -1.02526714, -0.48468192],\n",
       "       [-0.84800991, -0.40880637, -0.10842318, -0.91426356,  1.00416668,\n",
       "        -0.10249001,  0.67971029, -1.02526714, -0.48468192],\n",
       "       [ 0.77965476,  0.49319301,  1.38664658, -0.91426356,  1.00416668,\n",
       "        -0.10249001, -1.47121504, -1.02526714, -0.48468192],\n",
       "       [ 0.45412183, -0.40880637, -0.28431374,  1.0937765 , -0.9958506 ,\n",
       "         9.75704873,  0.67971029, -1.02526714,  2.06320881],\n",
       "       [-0.84800991, -1.31080576, -0.72404014,  1.0937765 ,  1.00416668,\n",
       "        -0.10249001, -1.47121504, -1.02526714, -0.48468192]])"
      ]
     },
     "execution_count": 19,
     "metadata": {},
     "output_type": "execute_result"
    }
   ],
   "source": [
    "X = preprocessing.StandardScaler().fit(X).transform(X)\n",
    "X[0:5]"
   ]
  },
  {
   "cell_type": "markdown",
   "id": "0970c218",
   "metadata": {},
   "source": [
    "## Entrenamiento/Pruebas del modelo"
   ]
  },
  {
   "cell_type": "markdown",
   "id": "2650d9b0",
   "metadata": {},
   "source": [
    "Dividiremos los datos en un 80% para entrenamiento y el 20% restante para probar el modelo"
   ]
  },
  {
   "cell_type": "code",
   "execution_count": 20,
   "id": "a8ac850c",
   "metadata": {},
   "outputs": [
    {
     "name": "stdout",
     "output_type": "stream",
     "text": [
      "Train set: (769, 9) (769,)\n",
      "Test set: (193, 9) (193,)\n"
     ]
    }
   ],
   "source": [
    "X_train, X_test, y_train, y_test = train_test_split( X, y, test_size=0.2, random_state=4)\n",
    "print ('Train set:', X_train.shape,  y_train.shape)\n",
    "print ('Test set:', X_test.shape,  y_test.shape)"
   ]
  },
  {
   "cell_type": "markdown",
   "id": "760ad5cf",
   "metadata": {},
   "source": [
    "Definimos nuestro modelo logístico"
   ]
  },
  {
   "cell_type": "code",
   "execution_count": 21,
   "id": "265fa028",
   "metadata": {},
   "outputs": [
    {
     "data": {
      "text/html": [
       "<style>#sk-container-id-1 {color: black;background-color: white;}#sk-container-id-1 pre{padding: 0;}#sk-container-id-1 div.sk-toggleable {background-color: white;}#sk-container-id-1 label.sk-toggleable__label {cursor: pointer;display: block;width: 100%;margin-bottom: 0;padding: 0.3em;box-sizing: border-box;text-align: center;}#sk-container-id-1 label.sk-toggleable__label-arrow:before {content: \"▸\";float: left;margin-right: 0.25em;color: #696969;}#sk-container-id-1 label.sk-toggleable__label-arrow:hover:before {color: black;}#sk-container-id-1 div.sk-estimator:hover label.sk-toggleable__label-arrow:before {color: black;}#sk-container-id-1 div.sk-toggleable__content {max-height: 0;max-width: 0;overflow: hidden;text-align: left;background-color: #f0f8ff;}#sk-container-id-1 div.sk-toggleable__content pre {margin: 0.2em;color: black;border-radius: 0.25em;background-color: #f0f8ff;}#sk-container-id-1 input.sk-toggleable__control:checked~div.sk-toggleable__content {max-height: 200px;max-width: 100%;overflow: auto;}#sk-container-id-1 input.sk-toggleable__control:checked~label.sk-toggleable__label-arrow:before {content: \"▾\";}#sk-container-id-1 div.sk-estimator input.sk-toggleable__control:checked~label.sk-toggleable__label {background-color: #d4ebff;}#sk-container-id-1 div.sk-label input.sk-toggleable__control:checked~label.sk-toggleable__label {background-color: #d4ebff;}#sk-container-id-1 input.sk-hidden--visually {border: 0;clip: rect(1px 1px 1px 1px);clip: rect(1px, 1px, 1px, 1px);height: 1px;margin: -1px;overflow: hidden;padding: 0;position: absolute;width: 1px;}#sk-container-id-1 div.sk-estimator {font-family: monospace;background-color: #f0f8ff;border: 1px dotted black;border-radius: 0.25em;box-sizing: border-box;margin-bottom: 0.5em;}#sk-container-id-1 div.sk-estimator:hover {background-color: #d4ebff;}#sk-container-id-1 div.sk-parallel-item::after {content: \"\";width: 100%;border-bottom: 1px solid gray;flex-grow: 1;}#sk-container-id-1 div.sk-label:hover label.sk-toggleable__label {background-color: #d4ebff;}#sk-container-id-1 div.sk-serial::before {content: \"\";position: absolute;border-left: 1px solid gray;box-sizing: border-box;top: 0;bottom: 0;left: 50%;z-index: 0;}#sk-container-id-1 div.sk-serial {display: flex;flex-direction: column;align-items: center;background-color: white;padding-right: 0.2em;padding-left: 0.2em;position: relative;}#sk-container-id-1 div.sk-item {position: relative;z-index: 1;}#sk-container-id-1 div.sk-parallel {display: flex;align-items: stretch;justify-content: center;background-color: white;position: relative;}#sk-container-id-1 div.sk-item::before, #sk-container-id-1 div.sk-parallel-item::before {content: \"\";position: absolute;border-left: 1px solid gray;box-sizing: border-box;top: 0;bottom: 0;left: 50%;z-index: -1;}#sk-container-id-1 div.sk-parallel-item {display: flex;flex-direction: column;z-index: 1;position: relative;background-color: white;}#sk-container-id-1 div.sk-parallel-item:first-child::after {align-self: flex-end;width: 50%;}#sk-container-id-1 div.sk-parallel-item:last-child::after {align-self: flex-start;width: 50%;}#sk-container-id-1 div.sk-parallel-item:only-child::after {width: 0;}#sk-container-id-1 div.sk-dashed-wrapped {border: 1px dashed gray;margin: 0 0.4em 0.5em 0.4em;box-sizing: border-box;padding-bottom: 0.4em;background-color: white;}#sk-container-id-1 div.sk-label label {font-family: monospace;font-weight: bold;display: inline-block;line-height: 1.2em;}#sk-container-id-1 div.sk-label-container {text-align: center;}#sk-container-id-1 div.sk-container {/* jupyter's `normalize.less` sets `[hidden] { display: none; }` but bootstrap.min.css set `[hidden] { display: none !important; }` so we also need the `!important` here to be able to override the default hidden behavior on the sphinx rendered scikit-learn.org. See: https://github.com/scikit-learn/scikit-learn/issues/21755 */display: inline-block !important;position: relative;}#sk-container-id-1 div.sk-text-repr-fallback {display: none;}</style><div id=\"sk-container-id-1\" class=\"sk-top-container\"><div class=\"sk-text-repr-fallback\"><pre>LogisticRegression(C=0.01, solver=&#x27;liblinear&#x27;)</pre><b>In a Jupyter environment, please rerun this cell to show the HTML representation or trust the notebook. <br />On GitHub, the HTML representation is unable to render, please try loading this page with nbviewer.org.</b></div><div class=\"sk-container\" hidden><div class=\"sk-item\"><div class=\"sk-estimator sk-toggleable\"><input class=\"sk-toggleable__control sk-hidden--visually\" id=\"sk-estimator-id-1\" type=\"checkbox\" checked><label for=\"sk-estimator-id-1\" class=\"sk-toggleable__label sk-toggleable__label-arrow\">LogisticRegression</label><div class=\"sk-toggleable__content\"><pre>LogisticRegression(C=0.01, solver=&#x27;liblinear&#x27;)</pre></div></div></div></div></div>"
      ],
      "text/plain": [
       "LogisticRegression(C=0.01, solver='liblinear')"
      ]
     },
     "execution_count": 21,
     "metadata": {},
     "output_type": "execute_result"
    }
   ],
   "source": [
    "LR = LogisticRegression(C=0.01, solver='liblinear').fit(X_train,y_train)\n",
    "LR"
   ]
  },
  {
   "cell_type": "markdown",
   "id": "90e1d068",
   "metadata": {},
   "source": [
    "Ahora vamos a predecir usando nuestros datos de pruebas"
   ]
  },
  {
   "cell_type": "code",
   "execution_count": 22,
   "id": "ffb77a86",
   "metadata": {},
   "outputs": [
    {
     "data": {
      "text/plain": [
       "array([0, 0, 0, 1, 0, 1, 1, 0, 1, 1, 1, 0, 0, 1, 1, 1, 1, 0, 1, 1, 0, 1,\n",
       "       0, 1, 1, 0, 1, 0, 0, 0, 1, 1, 0, 1, 1, 0, 1, 1, 0, 1, 1, 1, 0, 0,\n",
       "       0, 1, 1, 0, 1, 0, 1, 0, 0, 0, 1, 0, 1, 0, 0, 0, 0, 1, 1, 1, 0, 0,\n",
       "       1, 1, 0, 1, 1, 0, 1, 0, 0, 1, 1, 0, 1, 1, 1, 1, 0, 0, 1, 0, 1, 1,\n",
       "       1, 1, 1, 0, 1, 0, 1, 1, 1, 0, 0, 1, 0, 0, 1, 0, 0, 1, 1, 1, 1, 1,\n",
       "       1, 1, 1, 1, 1, 1, 1, 1, 1, 0, 1, 1, 0, 1, 0, 1, 0, 0, 1, 0, 0, 1,\n",
       "       0, 1, 0, 1, 0, 1, 1, 0, 1, 0, 0, 0, 0, 0, 0, 0, 1, 0, 0, 0, 0, 0,\n",
       "       0, 0, 0, 1, 1, 0, 0, 0, 0, 0, 1, 0, 0, 1, 1, 0, 1, 0, 1, 0, 1, 0,\n",
       "       1, 0, 0, 0, 0, 1, 0, 1, 0, 0, 0, 1, 1, 1, 1, 0, 1])"
      ]
     },
     "execution_count": 22,
     "metadata": {},
     "output_type": "execute_result"
    }
   ],
   "source": [
    "yhat = LR.predict(X_test)\n",
    "yhat"
   ]
  },
  {
   "cell_type": "markdown",
   "id": "7c0f58cb",
   "metadata": {},
   "source": [
    "**predict_proba** devuelve estimaciones para todas las clases, ordenadas por la etiqueta de las clases. Entonces, la primera columna es la probabilidad de la clase 0, P(Y=0|X), y la segunda columna es la probabilidad de la clase 1, P(Y=1|X):"
   ]
  },
  {
   "cell_type": "code",
   "execution_count": 23,
   "id": "b96331c8",
   "metadata": {},
   "outputs": [
    {
     "data": {
      "text/plain": [
       "array([[0.53080935, 0.46919065],\n",
       "       [0.54788873, 0.45211127],\n",
       "       [0.66608032, 0.33391968],\n",
       "       [0.47095189, 0.52904811],\n",
       "       [0.56461804, 0.43538196],\n",
       "       [0.41582345, 0.58417655],\n",
       "       [0.49183316, 0.50816684],\n",
       "       [0.64951225, 0.35048775],\n",
       "       [0.48528655, 0.51471345],\n",
       "       [0.44224853, 0.55775147],\n",
       "       [0.44598993, 0.55401007],\n",
       "       [0.54596455, 0.45403545],\n",
       "       [0.65460789, 0.34539211],\n",
       "       [0.49223321, 0.50776679],\n",
       "       [0.43245515, 0.56754485],\n",
       "       [0.4130762 , 0.5869238 ],\n",
       "       [0.44300664, 0.55699336],\n",
       "       [0.55522083, 0.44477917],\n",
       "       [0.45956319, 0.54043681],\n",
       "       [0.456245  , 0.543755  ],\n",
       "       [0.55121342, 0.44878658],\n",
       "       [0.40708905, 0.59291095],\n",
       "       [0.56585812, 0.43414188],\n",
       "       [0.47822305, 0.52177695],\n",
       "       [0.44615259, 0.55384741],\n",
       "       [0.58211523, 0.41788477],\n",
       "       [0.39849848, 0.60150152],\n",
       "       [0.52119972, 0.47880028],\n",
       "       [0.51616386, 0.48383614],\n",
       "       [0.6225145 , 0.3774855 ],\n",
       "       [0.43789401, 0.56210599],\n",
       "       [0.4656279 , 0.5343721 ],\n",
       "       [0.6000518 , 0.3999482 ],\n",
       "       [0.41213345, 0.58786655],\n",
       "       [0.33564237, 0.66435763],\n",
       "       [0.55316464, 0.44683536],\n",
       "       [0.44011503, 0.55988497],\n",
       "       [0.44973949, 0.55026051],\n",
       "       [0.5740629 , 0.4259371 ],\n",
       "       [0.36902961, 0.63097039],\n",
       "       [0.40135535, 0.59864465],\n",
       "       [0.44051375, 0.55948625],\n",
       "       [0.5081289 , 0.4918711 ],\n",
       "       [0.64913341, 0.35086659],\n",
       "       [0.58348826, 0.41651174],\n",
       "       [0.41249355, 0.58750645],\n",
       "       [0.36380609, 0.63619391],\n",
       "       [0.53261353, 0.46738647],\n",
       "       [0.44953261, 0.55046739],\n",
       "       [0.50474793, 0.49525207],\n",
       "       [0.44107846, 0.55892154],\n",
       "       [0.60465509, 0.39534491],\n",
       "       [0.57977427, 0.42022573],\n",
       "       [0.58468904, 0.41531096],\n",
       "       [0.47972282, 0.52027718],\n",
       "       [0.60629333, 0.39370667],\n",
       "       [0.42671315, 0.57328685],\n",
       "       [0.69040184, 0.30959816],\n",
       "       [0.54782107, 0.45217893],\n",
       "       [0.64572422, 0.35427578],\n",
       "       [0.66967063, 0.33032937],\n",
       "       [0.36375247, 0.63624753],\n",
       "       [0.40862376, 0.59137624],\n",
       "       [0.44836646, 0.55163354],\n",
       "       [0.6897066 , 0.3102934 ],\n",
       "       [0.59946929, 0.40053071],\n",
       "       [0.44917058, 0.55082942],\n",
       "       [0.31732227, 0.68267773],\n",
       "       [0.53831176, 0.46168824],\n",
       "       [0.43931419, 0.56068581],\n",
       "       [0.41688981, 0.58311019],\n",
       "       [0.69322159, 0.30677841],\n",
       "       [0.44021494, 0.55978506],\n",
       "       [0.58750266, 0.41249734],\n",
       "       [0.54336203, 0.45663797],\n",
       "       [0.48665477, 0.51334523],\n",
       "       [0.40498219, 0.59501781],\n",
       "       [0.63824433, 0.36175567],\n",
       "       [0.4773911 , 0.5226089 ],\n",
       "       [0.49432893, 0.50567107],\n",
       "       [0.43184978, 0.56815022],\n",
       "       [0.49140792, 0.50859208],\n",
       "       [0.55024625, 0.44975375],\n",
       "       [0.55613101, 0.44386899],\n",
       "       [0.35051792, 0.64948208],\n",
       "       [0.66436617, 0.33563383],\n",
       "       [0.47853866, 0.52146134],\n",
       "       [0.41213345, 0.58786655],\n",
       "       [0.37221357, 0.62778643],\n",
       "       [0.42023203, 0.57976797],\n",
       "       [0.46623619, 0.53376381],\n",
       "       [0.55744678, 0.44255322],\n",
       "       [0.37436569, 0.62563431],\n",
       "       [0.51846785, 0.48153215],\n",
       "       [0.46000715, 0.53999285],\n",
       "       [0.42798655, 0.57201345],\n",
       "       [0.41245049, 0.58754951],\n",
       "       [0.51402841, 0.48597159],\n",
       "       [0.58556367, 0.41443633],\n",
       "       [0.43441859, 0.56558141],\n",
       "       [0.56530831, 0.43469169],\n",
       "       [0.5375847 , 0.4624153 ],\n",
       "       [0.4512686 , 0.5487314 ],\n",
       "       [0.55841088, 0.44158912],\n",
       "       [0.59773697, 0.40226303],\n",
       "       [0.4563413 , 0.5436587 ],\n",
       "       [0.37256089, 0.62743911],\n",
       "       [0.39169724, 0.60830276],\n",
       "       [0.47992847, 0.52007153],\n",
       "       [0.46228265, 0.53771735],\n",
       "       [0.49596963, 0.50403037],\n",
       "       [0.48704644, 0.51295356],\n",
       "       [0.43424134, 0.56575866],\n",
       "       [0.34781267, 0.65218733],\n",
       "       [0.3984133 , 0.6015867 ],\n",
       "       [0.39056964, 0.60943036],\n",
       "       [0.42930528, 0.57069472],\n",
       "       [0.39356156, 0.60643844],\n",
       "       [0.3199067 , 0.6800933 ],\n",
       "       [0.50826211, 0.49173789],\n",
       "       [0.35546138, 0.64453862],\n",
       "       [0.45420782, 0.54579218],\n",
       "       [0.63852393, 0.36147607],\n",
       "       [0.43929568, 0.56070432],\n",
       "       [0.56854075, 0.43145925],\n",
       "       [0.38395999, 0.61604001],\n",
       "       [0.62731648, 0.37268352],\n",
       "       [0.68641668, 0.31358332],\n",
       "       [0.4717568 , 0.5282432 ],\n",
       "       [0.64389302, 0.35610698],\n",
       "       [0.6639861 , 0.3360139 ],\n",
       "       [0.49515933, 0.50484067],\n",
       "       [0.51855924, 0.48144076],\n",
       "       [0.49601633, 0.50398367],\n",
       "       [0.62095902, 0.37904098],\n",
       "       [0.49864177, 0.50135823],\n",
       "       [0.50389665, 0.49610335],\n",
       "       [0.39453733, 0.60546267],\n",
       "       [0.26969795, 0.73030205],\n",
       "       [0.60129993, 0.39870007],\n",
       "       [0.4740602 , 0.5259398 ],\n",
       "       [0.54958698, 0.45041302],\n",
       "       [0.55744678, 0.44255322],\n",
       "       [0.68546613, 0.31453387],\n",
       "       [0.57894437, 0.42105563],\n",
       "       [0.58084891, 0.41915109],\n",
       "       [0.56866164, 0.43133836],\n",
       "       [0.53590511, 0.46409489],\n",
       "       [0.44107846, 0.55892154],\n",
       "       [0.55571034, 0.44428966],\n",
       "       [0.51329694, 0.48670306],\n",
       "       [0.58912068, 0.41087932],\n",
       "       [0.61068218, 0.38931782],\n",
       "       [0.54052415, 0.45947585],\n",
       "       [0.52713297, 0.47286703],\n",
       "       [0.54032898, 0.45967102],\n",
       "       [0.61255207, 0.38744793],\n",
       "       [0.31893835, 0.68106165],\n",
       "       [0.42567   , 0.57433   ],\n",
       "       [0.54330272, 0.45669728],\n",
       "       [0.61308477, 0.38691523],\n",
       "       [0.63367841, 0.36632159],\n",
       "       [0.58199053, 0.41800947],\n",
       "       [0.5787528 , 0.4212472 ],\n",
       "       [0.36380609, 0.63619391],\n",
       "       [0.55841088, 0.44158912],\n",
       "       [0.59721157, 0.40278843],\n",
       "       [0.38454848, 0.61545152],\n",
       "       [0.49854051, 0.50145949],\n",
       "       [0.61800748, 0.38199252],\n",
       "       [0.36792104, 0.63207896],\n",
       "       [0.66259758, 0.33740242],\n",
       "       [0.43711429, 0.56288571],\n",
       "       [0.52404409, 0.47595591],\n",
       "       [0.42986105, 0.57013895],\n",
       "       [0.60629333, 0.39370667],\n",
       "       [0.46605191, 0.53394809],\n",
       "       [0.65421314, 0.34578686],\n",
       "       [0.63761952, 0.36238048],\n",
       "       [0.62302448, 0.37697552],\n",
       "       [0.51123102, 0.48876898],\n",
       "       [0.42858286, 0.57141714],\n",
       "       [0.72391923, 0.27608077],\n",
       "       [0.48802078, 0.51197922],\n",
       "       [0.50611166, 0.49388834],\n",
       "       [0.53730595, 0.46269405],\n",
       "       [0.64461918, 0.35538082],\n",
       "       [0.42390836, 0.57609164],\n",
       "       [0.49809161, 0.50190839],\n",
       "       [0.24818027, 0.75181973],\n",
       "       [0.45696335, 0.54303665],\n",
       "       [0.51520616, 0.48479384],\n",
       "       [0.4019958 , 0.5980042 ]])"
      ]
     },
     "execution_count": 23,
     "metadata": {},
     "output_type": "execute_result"
    }
   ],
   "source": [
    "yhat_prob = LR.predict_proba(X_test)\n",
    "yhat_prob"
   ]
  },
  {
   "cell_type": "markdown",
   "id": "be516e5a",
   "metadata": {},
   "source": [
    "# Evaluación"
   ]
  },
  {
   "cell_type": "markdown",
   "id": "b51f89ab",
   "metadata": {},
   "source": [
    "## Matriz de confusión"
   ]
  },
  {
   "cell_type": "markdown",
   "id": "7311f187",
   "metadata": {},
   "source": [
    "Vamos a evaluar nuestro modelo con la matriz de confusión."
   ]
  },
  {
   "cell_type": "code",
   "execution_count": 24,
   "id": "8451652e",
   "metadata": {},
   "outputs": [
    {
     "name": "stdout",
     "output_type": "stream",
     "text": [
      "[[55 24]\n",
      " [44 70]]\n"
     ]
    }
   ],
   "source": [
    "print(confusion_matrix(y_test, yhat, labels=[1,0]))"
   ]
  },
  {
   "cell_type": "code",
   "execution_count": 25,
   "id": "f04ea805",
   "metadata": {},
   "outputs": [
    {
     "name": "stdout",
     "output_type": "stream",
     "text": [
      "              precision    recall  f1-score   support\n",
      "\n",
      "           0       0.74      0.61      0.67       114\n",
      "           1       0.56      0.70      0.62        79\n",
      "\n",
      "    accuracy                           0.65       193\n",
      "   macro avg       0.65      0.66      0.65       193\n",
      "weighted avg       0.67      0.65      0.65       193\n",
      "\n"
     ]
    }
   ],
   "source": [
    "print(classification_report(y_test, yhat))"
   ]
  },
  {
   "cell_type": "code",
   "execution_count": 26,
   "id": "a2fcd312",
   "metadata": {},
   "outputs": [
    {
     "data": {
      "text/plain": [
       "0.6459360366220858"
      ]
     },
     "execution_count": 26,
     "metadata": {},
     "output_type": "execute_result"
    }
   ],
   "source": [
    "from sklearn.metrics import log_loss\n",
    "log_loss(y_test, yhat_prob)"
   ]
  },
  {
   "cell_type": "code",
   "execution_count": 27,
   "id": "aef5fcc9",
   "metadata": {},
   "outputs": [
    {
     "data": {
      "image/png": "[encoded data removed]",
      "text/plain": [
       "<Figure size 432x288 with 1 Axes>"
      ]
     },
     "metadata": {
      "needs_background": "light"
     },
     "output_type": "display_data"
    }
   ],
   "source": [
    "importance = LR.coef_.flatten()\n",
    "plt.rcParams[\"figure.figsize\"] = (10,10)\n",
    "plt.barh(df_copy.drop(X_list_excluded, axis = 1).columns, importance)\n",
    "plt.title('Resumen de la importancia de los atributos')\n",
    "plt.xlabel('Puntuación')\n",
    "plt.show()\n"
   ]
  },
  {
   "cell_type": "code",
   "execution_count": 28,
   "id": "01d5d001",
   "metadata": {},
   "outputs": [
    {
     "data": {
      "text/plain": [
       "0.6476683937823834"
      ]
     },
     "execution_count": 28,
     "metadata": {},
     "output_type": "execute_result"
    }
   ],
   "source": [
    "LR.score(X_test, y_test)"
   ]
  },
  {
   "cell_type": "code",
   "execution_count": null,
   "id": "d72d9cfb",
   "metadata": {},
   "outputs": [],
   "source": []
  }
 ],
 "metadata": {
  "kernelspec": {
   "display_name": "Python 3.10.6 (DS)",
   "language": "python",
   "name": "datasciencepython3106"
  },
  "language_info": {
   "codemirror_mode": {
    "name": "ipython",
    "version": 3
   },
   "file_extension": ".py",
   "mimetype": "text/x-python",
   "name": "python",
   "nbconvert_exporter": "python",
   "pygments_lexer": "ipython3",
   "version": "3.10.6"
  }
 },
 "nbformat": 4,
 "nbformat_minor": 5
}
