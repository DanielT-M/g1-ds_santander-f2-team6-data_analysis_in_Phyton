{
  "nbformat": 4,
  "nbformat_minor": 0,
  "metadata": {
    "colab": {
      "provenance": [],
      "include_colab_link": true
    },
    "kernelspec": {
      "name": "python3",
      "display_name": "Python 3"
    },
    "language_info": {
      "name": "python"
    }
  },
  "cells": [
    {
      "cell_type": "markdown",
      "metadata": {
        "id": "view-in-github",
        "colab_type": "text"
      },
      "source": [
        "<a href=\"https://colab.research.google.com/github/hvasquez28/g1-ds_santander-f2-team7-Phyton/blob/main/Entrega_Final_Procesamiento_DanielTapia_LuisZanabria_NorbertoPena_HaroldVasquez/ProyectoPhytonGrupo7.ipynb\" target=\"_parent\"><img src=\"https://colab.research.google.com/assets/colab-badge.svg\" alt=\"Open In Colab\"/></a>"
      ]
    },
    {
      "cell_type": "markdown",
      "source": [
        "# Tabla de contenido\n",
        "\n",
        "[1. Identificación del problema](#ident_problema)\n",
        "\n",
        "[4. Análisis Exploratorio de nuestro Dataset](#analisis)"
      ],
      "metadata": {
        "id": "cMDAbRuqyUqY"
      }
    },
    {
      "cell_type": "markdown",
      "source": [
        "<a id=\"ident_problema\"></a>\n",
        "# Identificación del Problema\n",
        "\n",
        "> Para cualquier nuevo emprendedor, existe una serie de retos que lo abruman en su aventura de iniciar un nuevo negocio. La mayor incertidumbre es poder disponer de la información necesaria que lo apoye en la toma correcta de decisiones y así mitigar los riesgos de una mala inversión de tiempo y dinero.\n",
        "\n",
        "> Para esto, sería de gran ayuda proveerle a cada emprendedor de herramientas que le aporten información ordenada, certera y fidedigna; de tal forma que le otorgue seguridad y mayor certeza de si su idea será rentable o no.\n",
        "\n",
        "> Por lo tanto, sin lugar a duda, la **ciencia de datos** es la mejor herramienta que permitiría la creación de este tipo de herramientas de apoyo para un emprendedor y su nuevo negocio.\n",
        "\n",
        "### Investigación al respecto del problema\n",
        "\n",
        "En esta sección ira la investigación\n",
        "\n",
        "### Búsqueda de soluciones anteriores\n",
        "\n",
        "En esta sección irá las soluciones previas"
      ],
      "metadata": {
        "id": "z2qEgfpuUquP"
      }
    },
    {
      "cell_type": "code",
      "source": [
        "import pandas as pd"
      ],
      "metadata": {
        "id": "mSGJBDhyUsoK"
      },
      "execution_count": null,
      "outputs": []
    },
    {
      "cell_type": "markdown",
      "source": [
        "## Colección de Datos\n",
        "El siguiente data set se encontro en link, y se decidio usar este porque ....."
      ],
      "metadata": {
        "id": "rmRnB11oZ6U1"
      }
    },
    {
      "cell_type": "code",
      "source": [],
      "metadata": {
        "id": "F-RonTkKaKfX"
      },
      "execution_count": null,
      "outputs": []
    },
    {
      "cell_type": "markdown",
      "source": [
        "<a id=\"analisis\"></a>\n",
        "# Análisis Exploratorio de nuestro Dataset\n",
        "fddgdfgd"
      ],
      "metadata": {
        "id": "bJVUo0YRaa-T"
      }
    },
    {
      "cell_type": "code",
      "source": [
        "Funciona?"
      ],
      "metadata": {
        "id": "l5L_H5bJcaoH"
      },
      "execution_count": null,
      "outputs": []
    },
    {
      "cell_type": "markdown",
      "source": [
        "Texto de harold"
      ],
      "metadata": {
        "id": "FClC45zYdaU7"
      }
    }
  ]
}