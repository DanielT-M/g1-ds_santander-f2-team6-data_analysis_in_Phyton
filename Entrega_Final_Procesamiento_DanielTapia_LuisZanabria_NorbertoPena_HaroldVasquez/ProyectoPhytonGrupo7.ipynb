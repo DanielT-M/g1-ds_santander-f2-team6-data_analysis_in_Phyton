{
  "nbformat": 4,
  "nbformat_minor": 0,
  "metadata": {
    "colab": {
      "provenance": [],
      "include_colab_link": true
    },
    "kernelspec": {
      "name": "python3",
      "display_name": "Python 3"
    },
    "language_info": {
      "name": "python"
    }
  },
  "cells": [
    {
      "cell_type": "markdown",
      "metadata": {
        "id": "view-in-github",
        "colab_type": "text"
      },
      "source": [
        "<a href=\"https://colab.research.google.com/github/hvasquez28/g1-ds_santander-f2-team7-Phyton/blob/Norberto/Entrega_Final_Procesamiento_DanielTapia_LuisZanabria_NorbertoPena_HaroldVasquez/ProyectoPhytonGrupo7.ipynb\" target=\"_parent\"><img src=\"https://colab.research.google.com/assets/colab-badge.svg\" alt=\"Open In Colab\"/></a>"
      ]
    },
    {
      "cell_type": "markdown",
      "source": [
        "# <font color=green>Tabla de contenido</font>\n",
        "\n",
        "[1. Identificación del problema](#problema)\n",
        "\n",
        "[2. Planteamiento de Preguntas](#preguntas)\n",
        "\n",
        "[3. Colección de Datos](#datos)\n",
        "\n",
        "[4. Análisis Exploratorio de nuestro Dataset](#analisis)\n",
        "\n",
        "[5. Limpieza de datos y agregaciones](#limpieza)\n",
        "\n",
        "[6. Automatización y APIs](#API)\n",
        "\n",
        "[7. Transformación, filtración y ordenamiento de datos](#ordenar)\n",
        "\n",
        "[8. Planes a futuro](#futuro)"
      ],
      "metadata": {
        "id": "cMDAbRuqyUqY"
      }
    },
    {
      "cell_type": "markdown",
      "source": [
        "<a id=\"problema\"></a>\n",
        "# <font color=green>Identificación del Problema</font>\n",
        "\n",
        "Para cualquier nuevo emprendedor, existe una serie de retos que lo abruman en su aventura de iniciar un nuevo negocio. La mayor incertidumbre es poder disponer de la información necesaria que lo apoye en la toma correcta de decisiones y así mitigar los riesgos de una mala inversión de tiempo y dinero.\n",
        "\n",
        "Para esto, sería de gran ayuda proveerle a cada emprendedor de herramientas que le aporten información ordenada, certera y fidedigna; de tal forma que le otorgue seguridad y mayor certeza de si su idea será rentable o no.\n",
        "\n",
        "Por lo tanto, sin lugar a duda, la **ciencia de datos** es la mejor herramienta que permitiría la creación de este tipo de herramientas de apoyo para un emprendedor y su nuevo negocio.\n",
        "\n",
        "## Investigación al respecto del problema\n",
        "\n",
        "En esta sección ira la investigación\n",
        "\n",
        "## Búsqueda de soluciones anteriores\n",
        "\n",
        "En esta sección irá las soluciones previas"
      ],
      "metadata": {
        "id": "z2qEgfpuUquP"
      }
    },
    {
      "cell_type": "markdown",
      "source": [
        "<a id=\"preguntas\"></a>\n",
        "# <font color=green>Planteamiento de Preguntas </font>\n",
        "\n",
        "De acuerdo con el problema planteado anteriormente, surgieron las siguientes preguntas tanto del emprendedor como del equipo:\n",
        "\n",
        "1.  ¿Cuál es la mejor ubicación en Guadalajara, México para abrir mi negocio de bicicletas?\n",
        "2. ¿Qué tantas ventas podré obtener en los primeros meses de iniciado mi negocio?\n",
        "3. ¿Cuáles son los productos más demandados por los potenciales clientes?\n",
        "4. ¿Qué precios serán los más competitivos para las bicicletas?\n",
        "5. ¿Qué tan frecuente un cliente querrá comprar ropa o accesorios para sus bicicletas?\n",
        "6. ¿Qué tantos clientes acudirán a mi negocio por una reparación o mejora en su bicicleta?\n",
        "\n",
        "Aunque no tenemos seguridad si podremos responder todas las preguntas planteadas, se le comentó al emprendedor que se hará un análisis de la data disponible y se evaluará que información se le puede presentar.\n",
        "\n"
      ],
      "metadata": {
        "id": "juKcSPxb19pz"
      }
    },
    {
      "cell_type": "markdown",
      "source": [
        "<a id=\"datos\"></a>\n",
        "# <font color=green>Colección de Datos</font>\n",
        "Se tomo la decision de usar \"Bike Buyers 1000\" y \"Bike Sales\", dado que contienen informacion relevante a la problematica sobre la cual se esta tratando y ambos datasets se complementan, los cuales fueron encontrados en kaggle.\n",
        "\n",
        "\"Bike Buyers 1000\" \n",
        "link: \"https://www.kaggle.com/datasets/heeraldedhia/bike-buyers\"\n",
        "\n",
        "\"Bike Sales\"\n",
        "link: \"https://www.kaggle.com/datasets/liyingiris90/bike-sales\"\n",
        "\n",
        "## Proceso para obtener el dataset\n",
        "\n",
        "Dado que los archivos contenidos dentro del conjunto de datos de Bike Sales estan en formato .xlsx, se uso la funcion <font color =red> *pd.read_excel* </font> de pandas.\n",
        "\n",
        "Para Bike Buyers al ser un formato csv, se usa nuestra funcion ya conocida  <font color =red> *pd.read_csv*</font>  "
      ],
      "metadata": {
        "id": "rmRnB11oZ6U1"
      }
    },
    {
      "cell_type": "markdown",
      "source": [
        "Se importan las siguientes librerias..."
      ],
      "metadata": {
        "id": "FSEsiAwG0Ahn"
      }
    },
    {
      "cell_type": "code",
      "source": [
        "import pandas as pd\n",
        "import numpy as np"
      ],
      "metadata": {
        "id": "SOxO5h6Hx_I7"
      },
      "execution_count": 1,
      "outputs": []
    },
    {
      "cell_type": "markdown",
      "source": [
        "Se guardan los respectivos DataFrames del conjunto de datos <font color=blue> \"bike sales\"</font> y <font color=blue> \"bike buyers\""
      ],
      "metadata": {
        "id": "2M9YsQXUz_zr"
      }
    },
    {
      "cell_type": "code",
      "source": [
        "compradores = pd.read_csv(\"https://raw.githubusercontent.com/hvasquez28/g1-ds_santander-f2-team7-Phyton/Norberto/Entrega_Final_Procesamiento_DanielTapia_LuisZanabria_NorbertoPena_HaroldVasquez/datasets/bike_buyers.csv\")"
      ],
      "metadata": {
        "id": "4PrAfVMz3oxh"
      },
      "execution_count": 2,
      "outputs": []
    },
    {
      "cell_type": "code",
      "source": [
        "bikes = pd.read_excel('https://github.com/hvasquez28/g1-ds_santander-f2-team7-Phyton/blob/Norberto/Entrega_Final_Procesamiento_DanielTapia_LuisZanabria_NorbertoPena_HaroldVasquez/datasets/bikes.xlsx?raw=true')\n",
        "bikestores = pd.read_excel(\"https://github.com/hvasquez28/g1-ds_santander-f2-team7-Phyton/blob/Norberto/Entrega_Final_Procesamiento_DanielTapia_LuisZanabria_NorbertoPena_HaroldVasquez/datasets/bikeshops.xlsx?raw=true\")\n",
        "orders = pd.read_excel(\"https://github.com/hvasquez28/g1-ds_santander-f2-team7-Phyton/blob/Norberto/Entrega_Final_Procesamiento_DanielTapia_LuisZanabria_NorbertoPena_HaroldVasquez/datasets/orders.xlsx?raw=true\")"
      ],
      "metadata": {
        "id": "A2uCs2NUz8iY",
        "outputId": "2425fc05-d366-42c7-bc98-daaf49f79a48",
        "colab": {
          "base_uri": "https://localhost:8080/"
        }
      },
      "execution_count": 3,
      "outputs": [
        {
          "output_type": "stream",
          "name": "stderr",
          "text": [
            "/usr/local/lib/python3.7/dist-packages/openpyxl/styles/stylesheet.py:226: UserWarning: Workbook contains no default style, apply openpyxl's default\n",
            "  warn(\"Workbook contains no default style, apply openpyxl's default\")\n"
          ]
        }
      ]
    },
    {
      "cell_type": "markdown",
      "source": [
        "Procedemos a revisar cada DataFrame usando <font color=blue> .head() </font> y <font color=blue>.tail()  </font>, asi como <font color=blue> .dtypes, .columns, .shape, .loc[$n:m$] </font> (donde $n,m ∈ 𝖭$ y $n<m.$) "
      ],
      "metadata": {
        "id": "djxBigkA1e6A"
      }
    },
    {
      "cell_type": "code",
      "source": [
        "compradores.dtypes #Se tienen flotantes que deberian de ser enteros.\n",
        "compradores.shape #Se tienen 1000 entradas y 13 columnas.\n",
        "compradores.columns # ID, Marital S, Gender, Income, Children, Education, Occupation, Home Owner, Cars, Commute Distance, Region, Age, purchase bike\n",
        "compradores.head() # Se observan NaNs\n",
        "compradores.tail() # Se observan NaNs\n",
        "c=list(compradores.columns) # Se guarda el nombre de las columnas en una lista, que sera usada mas adelante para cambiar los nombres de nuestro dataframe. \n",
        "compradores.loc[500:515] # Se observan Nans. "
      ],
      "metadata": {
        "id": "3vdOsSmq1V7U"
      },
      "execution_count": null,
      "outputs": []
    },
    {
      "cell_type": "code",
      "source": [
        "bikes.dtypes # El unico data que parecer ser incorrecto es el precio, que es de tipo int. \n",
        "bikes.shape # Se tienen un total de 97 filas con 5 columnas\n",
        "bikes.columns # bike.id, model, category1, category2, frame, price. Se renombraran columnas.\n",
        "bikes.head() #No se observan Nans.\n",
        "bikes.tail() #No se observan Nans.\n",
        "bc=list(bikes.columns)\n",
        "bikes.loc[46:58] # No se observan Nans de forma aleatoria"
      ],
      "metadata": {
        "id": "jSqk10OZFqxP"
      },
      "execution_count": null,
      "outputs": []
    },
    {
      "cell_type": "code",
      "source": [
        "bikestores.dtypes # Todos los datos tienen el tipo correcto.\n",
        "bikestores.shape # Se tienen un total de 30 filas con 6 columnas\n",
        "bikestores.columns # bikeshop.id , bikeshop.name, bikeshop.city, bikeshop.state, latitude , longitude. Se renombraran columnas.\n",
        "bikestores.head() # No se observan Nans.\n",
        "bikestores.tail() # No se observan Nans.\n",
        "bs=list(bikestores.columns)\n",
        "bikestores.loc[10:25] #No se observan Nans. "
      ],
      "metadata": {
        "id": "RQ43tz5VGjS7"
      },
      "execution_count": null,
      "outputs": []
    },
    {
      "cell_type": "code",
      "source": [
        "orders.dtypes # Se observa que order.id, order.line, customer.id y product.id son de tipo flotante cuando deberian de ser de tipo entero.\n",
        "orders.shape # Tiene un total de 15644 filas y 7 columnas. \n",
        "orders.columns #'Unnamed: 0', 'order.id', 'order.line', 'order.date', 'customer.id','product.id' y 'quantity'. Se renombraran las columnas.\n",
        "oc=list(orders.columns) \n",
        "orders.head() #No se observan Nans, por otro lado, se observa que la columna 'Unnamed: 0' esta repetida. \n",
        "orders.tail() # No se observan Nans. \n",
        "orders.loc[10468:10480] # no se observan Nans."
      ],
      "metadata": {
        "id": "txvHcbEJFrdM"
      },
      "execution_count": null,
      "outputs": []
    },
    {
      "cell_type": "markdown",
      "source": [
        "Se crean diccionarios para cambiar el nombre de las columnas de nuestros data frames."
      ],
      "metadata": {
        "id": "TbsOSStBLhVn"
      }
    },
    {
      "cell_type": "code",
      "source": [
        "comp_names = {c[0]:'id_comprador',\n",
        "              c[1]:'estado_civil',\n",
        "              c[2]:'genero',\n",
        "              c[3]:'sueldo',\n",
        "              c[4]:'hijos',\n",
        "              c[5]:'educacion',\n",
        "              c[6]:\"profesion\",\n",
        "              c[7]:\"posee_casa\",\n",
        "              c[8]:'autos',\n",
        "              c[9]:'distancia_d_viaje',\n",
        "              c[10]:'region',\n",
        "              c[11]:'edad',\n",
        "              c[12]:'bicicleta_adquirida'}\n",
        "\n",
        "bike_names = {bc[0]:'id_bicicleta',\n",
        "              bc[1]:'modelo',\n",
        "              bc[2]:'categoria_1',\n",
        "              bc[3]:'categoria_2',\n",
        "              bc[4]:'aleacion',\n",
        "              bc[5]:'precio'}\n",
        "\n",
        "stores_nombres = {bs[0]:'id_tienda',\n",
        "                  bs[1]:'nombre_tienda',\n",
        "                  bs[2]:'ciudad',\n",
        "                  bs[3]:'estado',\n",
        "                  bs[4]:'latitud',\n",
        "                  bs[5]:'longitud'}\n",
        "\n",
        "orders_nombres = {oc[1]:'id_orden',\n",
        "                  oc[2]:'orden_line',\n",
        "                  oc[3]:'orden_date',\n",
        "                  oc[4]:'id_tienda',\n",
        "                  oc[5]:'id_bicicleta',\n",
        "                  oc[6]:'numero_items'}"
      ],
      "metadata": {
        "id": "RaJeGCnTAUr1"
      },
      "execution_count": 99,
      "outputs": []
    },
    {
      "cell_type": "markdown",
      "source": [
        "Nos percatamos del hecho, de que la columna customer_id es realmente el id_tienda. Dado que ambas coinciden con el numero de entradas y los valores asociados a cada una. "
      ],
      "metadata": {
        "id": "7Vj8dR5RTbJT"
      }
    },
    {
      "cell_type": "code",
      "source": [
        "print(orders['customer.id'].unique().max() )# Customer id es realmente bikeshop_id\n",
        "print(orders['customer.id'].unique().min() ) # Minimo en la lista.\n",
        "print(len(orders['customer.id'].unique()) ) # Tamaño de la lista."
      ],
      "metadata": {
        "colab": {
          "base_uri": "https://localhost:8080/"
        },
        "id": "3uT0N47hPooO",
        "outputId": "63b1d2ed-f780-47d2-a24f-c2d8a7dee739"
      },
      "execution_count": 74,
      "outputs": [
        {
          "output_type": "stream",
          "name": "stdout",
          "text": [
            "30.0\n",
            "1.0\n",
            "30\n"
          ]
        }
      ]
    },
    {
      "cell_type": "markdown",
      "source": [
        "#Renombramos las columnas en los DataFrames."
      ],
      "metadata": {
        "id": "oNgKTzNHUv9o"
      }
    },
    {
      "cell_type": "code",
      "source": [
        "compradores = compradores.rename(columns=comp_names)\n",
        "ordenes = orders.rename(columns=orders_nombres)\n",
        "bicicletas = bikes.rename(columns=bike_names)\n",
        "tiendas =  bikestores.rename(columns=stores_nombres)"
      ],
      "metadata": {
        "id": "Tyf5Xa8wU0s1"
      },
      "execution_count": 92,
      "outputs": []
    },
    {
      "cell_type": "markdown",
      "source": [
        "#Se analizan los datos unicos de cada columna y se omiten las redundantes."
      ],
      "metadata": {
        "id": "SDPxMADGypxP"
      }
    },
    {
      "cell_type": "code",
      "source": [
        "print(list(compradores['coches'].unique())) #0,1,2,3,4\n",
        "print(list(compradores['distancia_d_viaje'].unique())) #0-1, 1-2, 2-5, 5-10, 10+ \n",
        "print(list(compradores['edad'].unique())) # Se tiene un intervalo de edad de [25,89]\n",
        "print(compradores['edad'].max()) #min 25 max 89 \n",
        "print( len(list(compradores['educacion'].unique())))# 5 nivels de estudio. Donde el mas bajo no termino la prepa y el mas alto tiene un titulo. #'Bachelors', 'Partial College', 'High School', 'Partial High School', 'Graduate Degree'\n",
        "print(len( list(compradores['profesion'].unique())))# 5 profesiones #'Skilled Manual', 'Clerical', 'Professional', 'Manual', 'Management'\n",
        "print(list(compradores['region'].unique())) #'Europe', 'Pacific', 'North America'\n",
        "print(list(compradores['sueldo'].unique())) # Se tienen sueldos dentro del rango [10000,170000]\n",
        "print(compradores['sueldo'].min()) # max 170,000, min 10,000 "
      ],
      "metadata": {
        "id": "8ET9EH24wZAk"
      },
      "execution_count": null,
      "outputs": []
    },
    {
      "cell_type": "code",
      "source": [
        "print(list( ordenes['numero_items'].unique() )) # Se compran de 1 - 10 items. \n",
        "print(list( ordenes['orden_line'].unique() )) # Se realizan un maximo de 30 ordenes por cliente. [1,30] "
      ],
      "metadata": {
        "id": "epVFM8uYy2pU"
      },
      "execution_count": null,
      "outputs": []
    },
    {
      "cell_type": "code",
      "source": [
        "print(list( bicicletas['aleacion'].unique() )) #'Carbon', 'Aluminum'\n",
        "print(list( bicicletas['categoria_1'].unique() )) # 'Road', 'Mountain'\n",
        "print(len( list( bicicletas['categoria_2'].unique() ))) #Se tienen 9 categorias 2  # 'Elite Road', 'Endurance Road', 'Triathalon', 'Cyclocross', 'Over Mountain', 'Cross Country Race', 'Fat Bike', 'Trail', 'Sport'\n",
        "print(len(list( bicicletas['modelo'].unique() ))) # Se tienen 97 modelos\n",
        "print(list( bicicletas['precio'].unique() )) # El precio se encuentra dentro del rango [415,12790]\n",
        "print(bicicletas['precio'].max()) #min 415 / max 12790 "
      ],
      "metadata": {
        "id": "pkT4JQjazfxN"
      },
      "execution_count": null,
      "outputs": []
    },
    {
      "cell_type": "code",
      "source": [
        "print(len( list( tiendas['ciudad'].unique() ))) # Se tiene un total de 30 ciudades  #'Pittsburgh', 'Ithaca', 'Columbus', 'Detroit', 'Cincinnati', 'Louisville', 'Nashville', 'Denver', 'Minneapolis', 'Kansas City', 'New York', 'Dallas', 'Oklahoma City', 'Albuquerque', 'Austin', 'Phoenix', 'Las Vegas', 'Los Angeles', 'San Francisco', 'Portland', 'Seattle', 'Ann Arbor', 'Philadelphia', 'Providence', 'New Orleans', 'Miami', 'San Antonio', 'Wichita', 'Indianapolis', 'Tampa'\n",
        "print(len(list( tiendas['estado'].unique() )))# 21 estados # 'PA', 'NY', 'OH', 'MI', 'KY', 'TN', 'CO', 'MN', 'KS', 'TX', 'OK', 'NM', 'AZ', 'NV', 'CA', 'OR', 'WA', 'RI', 'LA', 'FL', 'IN'\n",
        "print(len(list( tiendas['nombre_tienda'].unique() )))# y 30 tiendas. # 'Pittsburgh Mountain Machines', 'Ithaca Mountain Climbers', 'Columbus Race Equipment', 'Detroit Cycles', 'Cincinnati Speed', 'Louisville Race Equipment', 'Nashville Cruisers', 'Denver Bike Shop', 'Minneapolis Bike Shop', 'Kansas City 29ers', 'New York Cycles', 'Dallas Cycles', 'Oklahoma City Race Equipment', 'Albuquerque Cycles', 'Austin Cruisers', 'Phoenix Bi-peds', 'Las Vegas Cycles', 'Los Angeles Cycles', 'San Francisco Cruisers', 'Portland Bi-peds', 'Seattle Race Equipment', 'Ann Arbor Speed', 'Philadelphia Bike Shop', 'Providence Bi-peds', 'New Orleans Velocipedes', 'Miami Race Equipment', 'San Antonio Bike Shop', 'Wichita Speed', 'Indianapolis Velocipedes', 'Tampa 29ers'"
      ],
      "metadata": {
        "id": "rYWJbj7OzgsV"
      },
      "execution_count": null,
      "outputs": []
    },
    {
      "cell_type": "markdown",
      "source": [
        "<a id=\"analisis\"></a>\n",
        "# <font color=green>Análisis Exploratorio de nuestro Dataset</font>\n",
        "\n",
        "En esta sección se busco responder las siguientes preguntas:\n",
        "\n",
        "1. ¿El conjunto de datos que tengo realmente me sirve para responder algunas de las preguntas que me planteé?\n",
        "\n",
        "> Luego de un primer analisis, se encontró que los DataSets si pueden responder algunas de las preguntas planteadas. Sobre todo aquellas que se refieren economicamente. Es decir, se puede responder el numero de ventas iniciales por mes, el precio mas vendido, asi como los modelos mas demandados en bicletas, y sus caracteristicas que las componen.\n",
        "\n",
        "2. ¿Qué tamaño tiene mi conjunto de datos? ¿Serán datos suficientes?\n",
        "\n",
        "> El tamaño del dataset \"bike sales\" es lo suficientemente grande para obtener informacion relevante. Dado que esta compuesto por 15644 ordenes, que componen alrededor de 4 años. \n",
        "\n",
        ">Mientras que los diferentes tipos de bicletas dan un total de 97. Aparte, hay 30 tiendas distribuidas en diferentes regiones del mundo. Y se tienen 1000 entradas respecto a clientes. Aun que no todos compraron bicicletas.\n",
        "\n",
        "3. ¿Qué columnas tengo y qué información tengo en cada una de esas columnas?\n",
        "\n",
        "> Se tienen alrededor de 31 columnas juntando todos los DataFrames. \n",
        "\n",
        "> Para los compadores tenemos estado Civil (Soltero o Casado), genero(Masculino o Femenino), sueldo (Este se encuentra entre 10,000 y 170,000 mensuales), hijos (De 0 a 4), educacion (Se tienen 5 niveles de estudio, donde el mas bajo no termino la prepa y el mas alto cuenta con un titulo.), profesion (Se tiene 5 profesiones), posesion de casa(Si/No), autos(De 0 a 4), distancia de viaje (0-10 millas), region (Europa, Norte America y el Pacifico), edad (La edad oscila entre 25 y 89 años) y compra de bicleta (Si/No).\n",
        "\n",
        "> Para bicicletas se tiene la id, Modelo (Se tienen 97 modelos), categoria 1 (Urbana o Montaña), categoria 2 (Se tiene 9 Categorias), aleacion(Carbon o Aluminio), precio(Osila entre los 415 y 12,790 dolares).\n",
        "\n",
        "> Para las tiendas se tiene el id, nombre de la tienda, ciudad (Se tienen 30 ciudades), estado (21 estados), latitud y longitud. \n",
        "\n",
        "> Para las ordenes tenemos id, linea de orden, fecha de orden, id tienda, id bicicleta, cantidad comprada(Se han comprado hasta 10 bicicletas por orden). \n",
        "\n",
        "4. Los nombres que tienen mis columnas, ¿son el nombre más apropiado?\n",
        "> Inicialmente los datos vienen en ingles, ademas, las columnas estan escritas usando un formato distinto a *snake_case*. Por lo que se toma la decision de renombrar las columnas usando *snake_case* y traduciendolas en español. \n",
        "\n",
        "5. ¿Qué tipos de datos tengo en cada columna? ¿Parecen ser el tipo correcto de datos? ¿O es un tipo de datos \"incorrecto\"?\n",
        "> Algunas columnas presentan datos de tipo flotante cuando debiesen de ser de tipo int. Y viceversa. Por lo que se cambian los tipos de datos en cada DataFrame correspondiente.\n",
        "\n",
        "6. Si selecciono algunas filas al azar y las observo, ¿estoy obteniendo los datos que debería? ¿o hay datos que parecen estar \"sucios\" o \"incorrectos\"?\n",
        "> Tras aplicar .head(), .tail(), .loc[n,m]. Se observa que el unico DataFrame que presenta NaNs es el de \"Bike Buyers\". Posteriormente se usaron las funciones *numero_nans* y *porcentaje_nans* para verificar que DataFrames realmente contenian NaNs y cuantas de cada columnas. "
      ],
      "metadata": {
        "id": "bJVUo0YRaa-T"
      }
    },
    {
      "cell_type": "markdown",
      "source": [
        "<a id=\"limpieza\"></a>\n",
        "# <font color=green> Limpieza de datos y agregaciones </font>\n",
        "\n",
        "En esta sección hicimos una limpieza de nuestros dataSets. Para ello, se sigueron los siguientes pasos:\n",
        "\n",
        "1. Encontrar los NaNs que contiene\n",
        "> Se crean funciones para determinar NaNs entre los distintos DataFrames.\n",
        "Tras realizar este metodo a nuestro primer data frame (\"Bike Sales\") nos damos cuenta que este no presenta Nans. Mientras que nuestro segundo data frame (\"Bike Buyers 1000\") si presenta Nans. \n",
        "\n",
        "2. ¿Qué se hicieron con los NaNs?\n",
        "\n",
        "> Para nuestro DataFrame \"Bike Buyers 1000\", se tienen un total de 53 NaNs, que representa al 5.3% de los datos. Tras aplicar nuestra funcion *numero_nans* observamos que hay en hijos, autos, estado_civil, genero, sueldo, posee_casa y edad.\n",
        "\n",
        "> Para las filas con Nans de las columnas hijos y coches, estas seran llenadas con 0s. Mientras que para posee_casa y estado civil, con No y Single respectivamente. El resto de las filas con Nans seran eliminadas del DataFrame.  \n",
        "\n",
        "> Finalmente nos queda un data frame con el 97.7% de nuestro conjunto de datos inicial.\n",
        "  \n",
        "3. Reindexo del DataSet\n",
        "\n",
        ">Se hace uso del metodo *.reset_index(drop=True)* dado que no se necesita el indice de nuestro DataFrame \"compradores\". Dado que se tiene la columna id_comprador que es independiente al indice del DataFrame. \n",
        "\n",
        "4. Agregaciones al DataFrame"
      ],
      "metadata": {
        "id": "FClC45zYdaU7"
      }
    },
    {
      "cell_type": "markdown",
      "source": [
        "Se crean las siguientes funciones para determinar NaNs entre los distintos DataFrames."
      ],
      "metadata": {
        "id": "_Yu9FmitDX1m"
      }
    },
    {
      "cell_type": "code",
      "source": [
        "def numero_nans(dataframe):\n",
        "    print(dataframe.isna().sum())"
      ],
      "metadata": {
        "id": "R5lr-dRCHIEX"
      },
      "execution_count": 86,
      "outputs": []
    },
    {
      "cell_type": "code",
      "source": [
        "def porcentaje_nans(dataframe):\n",
        "  print(dataframe.isna().sum()/len(dataframe)*100)"
      ],
      "metadata": {
        "id": "6SgT9E7ZDeQG"
      },
      "execution_count": 87,
      "outputs": []
    },
    {
      "cell_type": "code",
      "source": [
        "porcentaje_nans(ordenes)\n",
        "porcentaje_nans(tiendas)\n",
        "porcentaje_nans(bicicletas)\n",
        "porcentaje_nans(compradores) #El unico DataFrame con Nans presentes, es el de Compradores. "
      ],
      "metadata": {
        "colab": {
          "base_uri": "https://localhost:8080/"
        },
        "id": "kG75Mvg6MRpB",
        "outputId": "39ffac9b-7160-4cb9-ae2b-417a27361b65"
      },
      "execution_count": 119,
      "outputs": [
        {
          "output_type": "stream",
          "name": "stdout",
          "text": [
            "Unnamed: 0      0.0\n",
            "id_orden        0.0\n",
            "orden_line      0.0\n",
            "orden_date      0.0\n",
            "id_tienda       0.0\n",
            "bike_id         0.0\n",
            "numero_items    0.0\n",
            "dtype: float64\n",
            "id_tienda        0.0\n",
            "nombre_tienda    0.0\n",
            "ciudad           0.0\n",
            "estado           0.0\n",
            "latitud          0.0\n",
            "longitud         0.0\n",
            "dtype: float64\n",
            "bike_id        0.0\n",
            "modelo         0.0\n",
            "categoria_1    0.0\n",
            "categoria_2    0.0\n",
            "aleacion       0.0\n",
            "precio         0.0\n",
            "dtype: float64\n",
            "id_comprador           0.0\n",
            "estado_civil           0.7\n",
            "genero                 1.1\n",
            "sueldo                 0.6\n",
            "hijos                  0.8\n",
            "educacion              0.0\n",
            "profesion              0.0\n",
            "posee_casa             0.4\n",
            "coches                 0.9\n",
            "distancia_d_viaje      0.0\n",
            "region                 0.0\n",
            "edad                   0.8\n",
            "bicicleta_adquirida    0.0\n",
            "dtype: float64\n"
          ]
        }
      ]
    },
    {
      "cell_type": "code",
      "source": [
        "numero_nans(compradores)"
      ],
      "metadata": {
        "colab": {
          "base_uri": "https://localhost:8080/"
        },
        "id": "RqKRIHoEXvse",
        "outputId": "d63c3086-b304-4fd6-88e5-bacafb6f993b"
      },
      "execution_count": 120,
      "outputs": [
        {
          "output_type": "stream",
          "name": "stdout",
          "text": [
            "id_comprador            0\n",
            "estado_civil            7\n",
            "genero                 11\n",
            "sueldo                  6\n",
            "hijos                   8\n",
            "educacion               0\n",
            "profesion               0\n",
            "posee_casa              4\n",
            "coches                  9\n",
            "distancia_d_viaje       0\n",
            "region                  0\n",
            "edad                    8\n",
            "bicicleta_adquirida     0\n",
            "dtype: int64\n"
          ]
        }
      ]
    },
    {
      "cell_type": "markdown",
      "source": [
        "Se llanan las Nans. "
      ],
      "metadata": {
        "id": "rw3FUw3zeQI4"
      }
    },
    {
      "cell_type": "code",
      "source": [
        "compradores[['hijos','coches']] = compradores[['hijos','coches']].fillna(0)\n",
        "compradores['estado_civil'] = compradores['estado_civil'].fillna('Single')\n",
        "compradores['posee_casa'] = compradores['posee_casa'].fillna('No')\n",
        "compradores =compradores.dropna(how='any')\n",
        "#numero_nans(compradores)\n",
        "compradores = compradores.reset_index(drop=True)  "
      ],
      "metadata": {
        "id": "G0P8mHD8Pc3n"
      },
      "execution_count": 121,
      "outputs": []
    },
    {
      "cell_type": "code",
      "source": [
        "numero_nans(compradores)"
      ],
      "metadata": {
        "id": "XdwWwwcV7y7S",
        "outputId": "11a02b04-b20f-471c-b840-b466c268c52f",
        "colab": {
          "base_uri": "https://localhost:8080/"
        }
      },
      "execution_count": 122,
      "outputs": [
        {
          "output_type": "stream",
          "name": "stdout",
          "text": [
            "id_comprador           0\n",
            "estado_civil           0\n",
            "genero                 0\n",
            "sueldo                 0\n",
            "hijos                  0\n",
            "educacion              0\n",
            "profesion              0\n",
            "posee_casa             0\n",
            "coches                 0\n",
            "distancia_d_viaje      0\n",
            "region                 0\n",
            "edad                   0\n",
            "bicicleta_adquirida    0\n",
            "dtype: int64\n"
          ]
        }
      ]
    },
    {
      "cell_type": "markdown",
      "source": [
        "#Se procede a cambiar el tipo de dato de cada DataFrame.\n",
        "\n",
        "Para esto crearemos diccionarios con los nuevos tipos de datos y aplicaremos la funcion de pandas *.astype()*"
      ],
      "metadata": {
        "id": "6KwQDDsQt3PF"
      }
    },
    {
      "cell_type": "code",
      "source": [
        "print(ordenes.dtypes) # Tiene flotantes que deben de ser enteros. \n",
        "print(tiendas.dtypes) # Tiendas tiene todos los tipos de datos correctos.\n",
        "print(compradores.dtypes) # Tiene flotantes que deben de ser enteros. \n",
        "print(bicicletas.dtypes) # Tiene un int que deberia de ser flotante. "
      ],
      "metadata": {
        "id": "s-mGrHgU8N2W"
      },
      "execution_count": null,
      "outputs": []
    },
    {
      "cell_type": "code",
      "source": [
        "c=list(compradores.columns)\n",
        "oc=list(ordenes.columns)\n",
        "nuevos_types_compra = {c[4]:int,\n",
        "         c[8]:int,\n",
        "         c[11]:int}\n",
        "\n",
        "new_types_orders ={oc[1]:int,\n",
        "                   oc[2]:int,\n",
        "                   oc[4]:int,\n",
        "                   oc[5]:int,\n",
        "                   oc[6]:int}"
      ],
      "metadata": {
        "id": "gvE8ets2t-Nm"
      },
      "execution_count": 123,
      "outputs": []
    },
    {
      "cell_type": "code",
      "source": [
        "ordenes = ordenes.astype(new_types_orders)\n",
        "compradores = compradores.astype(nuevos_types_compra)\n",
        "bicicletas['precio'] = bicicletas['precio'].astype(float) # Se usa este metodo, dado que solo hay que cambiar de tipo de dato a una variable."
      ],
      "metadata": {
        "id": "6vvHhShT77QQ"
      },
      "execution_count": 128,
      "outputs": []
    },
    {
      "cell_type": "markdown",
      "source": [
        "##Procederemos a eliminar la columna 'Unnamed: 0' del DataFrame ordenes"
      ],
      "metadata": {
        "id": "Mf4RLsnq9hLI"
      }
    },
    {
      "cell_type": "code",
      "source": [
        "ordenes.drop(columns='Unnamed: 0',inplace=True)"
      ],
      "metadata": {
        "id": "_89zUP_p9tqy"
      },
      "execution_count": null,
      "outputs": []
    },
    {
      "cell_type": "markdown",
      "source": [
        "#Agregaciones"
      ],
      "metadata": {
        "id": "Lk2jp1tT2fTF"
      }
    },
    {
      "cell_type": "code",
      "source": [
        "compradores.groupby(['bicicleta_adquirida','genero','']).size()"
      ],
      "metadata": {
        "id": "8qkQ6W88gKNH",
        "outputId": "86164db9-f2bb-4553-80d3-7fe95fc12ee6",
        "colab": {
          "base_uri": "https://localhost:8080/"
        }
      },
      "execution_count": null,
      "outputs": [
        {
          "output_type": "execute_result",
          "data": {
            "text/plain": [
              "bicicleta_adquirida  genero\n",
              "No                   Female    250\n",
              "                     Male      258\n",
              "Yes                  Female    236\n",
              "                     Male      233\n",
              "dtype: int64"
            ]
          },
          "metadata": {},
          "execution_count": 102
        }
      ]
    },
    {
      "cell_type": "code",
      "source": [
        "compradores.groupby(['genero','estado_civil'],dropna=False).size()"
      ],
      "metadata": {
        "id": "TcO7aW05KvO-",
        "outputId": "23de44e4-8a78-4cbb-fa9a-2b0dda454056",
        "colab": {
          "base_uri": "https://localhost:8080/"
        }
      },
      "execution_count": null,
      "outputs": [
        {
          "output_type": "execute_result",
          "data": {
            "text/plain": [
              "genero  estado_civil\n",
              "Female  Married         108\n",
              "        Single          130\n",
              "        NaN               1\n",
              "Male    Married         120\n",
              "        Single          115\n",
              "        NaN               4\n",
              "NaN     Married           1\n",
              "        Single            2\n",
              "dtype: int64"
            ]
          },
          "metadata": {},
          "execution_count": 67
        }
      ]
    },
    {
      "cell_type": "markdown",
      "source": [
        "<a id=\"API\"></a>\n",
        "# <font color=green> Automatización y APIs </font>\n",
        "\n",
        "Dado que se encontró un API interesante para el problema que se pelanteó, se decició usar uno y aplicar los pasos requeridos en esta sección, asi como el mismo analisis que se aplicó en las secciones nateriores. Para esto, se siguieron los siguientes pasos:\n",
        "\n",
        "1. Encontrar el API\n",
        "2. Leer la documentación\n",
        "3. Realizar algunas peticiones de prueba\n",
        "4. Automatizar el proceso de construcción del dataset\n",
        "5 Explorar y limpiar el dataset\n",
        "6. Unir los DataSet"
      ],
      "metadata": {
        "id": "6xW7uLLvAI3n"
      }
    },
    {
      "cell_type": "code",
      "source": [],
      "metadata": {
        "id": "UZ-NzB1gBxgE"
      },
      "execution_count": null,
      "outputs": []
    },
    {
      "cell_type": "markdown",
      "source": [
        "<a id=\"ordenar\"></a>\n",
        "# <font color=green>Transformación, filtración y ordenamiento de datos </font>"
      ],
      "metadata": {
        "id": "ZWuNiXXfByJN"
      }
    },
    {
      "cell_type": "code",
      "source": [],
      "metadata": {
        "id": "XRHaejH2C8zJ"
      },
      "execution_count": null,
      "outputs": []
    },
    {
      "cell_type": "markdown",
      "source": [
        "<a id=\"futuro\"></a>\n",
        "# <font color=green> Planes a futuro </font>\n",
        "\n",
        "1. ¿Qué podemos hacer con los datos que tenemos?\n",
        "2. ¿Qué nos gustaría analizar?\n",
        "3. ¿Qué información está disponible en los datos?\n",
        "4. ¿Cómo podriamos ayudar a entender mejor los datos usando gráficas y visualizaciones? "
      ],
      "metadata": {
        "id": "_yZZvmG7C9UU"
      }
    }
  ]
}