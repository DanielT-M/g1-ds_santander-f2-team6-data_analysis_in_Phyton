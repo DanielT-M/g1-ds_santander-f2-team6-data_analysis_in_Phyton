{
  "nbformat": 4,
  "nbformat_minor": 0,
  "metadata": {
    "colab": {
      "provenance": [],
      "include_colab_link": true
    },
    "kernelspec": {
      "name": "python3",
      "display_name": "Python 3"
    },
    "language_info": {
      "name": "python"
    }
  },
  "cells": [
    {
      "cell_type": "markdown",
      "metadata": {
        "id": "view-in-github",
        "colab_type": "text"
      },
      "source": [
        "<a href=\"https://colab.research.google.com/github/hvasquez28/g1-ds_santander-f2-team7-Phyton/blob/Harold/Entrega_Final_Procesamiento_DanielTapia_LuisZanabria_NorbertoPena_HaroldVasquez/ProyectoPhytonGrupo7.ipynb\" target=\"_parent\"><img src=\"https://colab.research.google.com/assets/colab-badge.svg\" alt=\"Open In Colab\"/></a>"
      ]
    },
    {
      "cell_type": "markdown",
      "source": [
        "# <font color=green>Tabla de contenido</font>\n",
        "\n",
        "[1. Identificación del problema](#problema)\n",
        "\n",
        "[2. Planteamiento de Preguntas](#preguntas)\n",
        "\n",
        "[3. Colección de Datos](#datos)\n",
        "\n",
        "[4. Análisis Exploratorio de nuestro Dataset](#analisis)\n",
        "\n",
        "[5. Limpieza de datos y agregaciones](#limpieza)\n",
        "\n",
        "[6. Automatización y APIs](#API)\n",
        "\n",
        "[7. Transformación, filtración y ordenamiento de datos](#ordenar)\n",
        "\n",
        "[8. Planes a futuro](#futuro)"
      ],
      "metadata": {
        "id": "cMDAbRuqyUqY"
      }
    },
    {
      "cell_type": "markdown",
      "source": [
        "<a id=\"problema\"></a>\n",
        "# <font color=green>Identificación del Problema</font>\n",
        "\n",
        "Para cualquier nuevo emprendedor, existe una serie de retos que lo abruman en su aventura de iniciar un nuevo negocio. La mayor incertidumbre es poder disponer de la información necesaria que lo apoye en la toma correcta de decisiones y así mitigar los riesgos de una mala inversión de tiempo y dinero.\n",
        "\n",
        "Para esto, sería de gran ayuda proveerle a cada emprendedor de herramientas que le aporten información ordenada, certera y fidedigna; de tal forma que le otorgue seguridad y mayor certeza de si su idea será rentable o no.\n",
        "\n",
        "Por lo tanto, sin lugar a duda, la **ciencia de datos** es la mejor herramienta que permitiría la creación de este tipo de herramientas de apoyo para un emprendedor y su nuevo negocio.\n",
        "\n",
        "## Investigación al respecto del problema\n",
        "\n",
        "En esta sección ira la investigación\n",
        "\n",
        "## Búsqueda de soluciones anteriores\n",
        "\n",
        "En esta sección irá las soluciones previas"
      ],
      "metadata": {
        "id": "z2qEgfpuUquP"
      }
    },
    {
      "cell_type": "markdown",
      "source": [
        "<a id=\"preguntas\"></a>\n",
        "# <font color=green>Planteamiento de Preguntas </font>\n",
        "\n",
        "De acuerdo con el problema planteado anteriormente, surgieron las siguientes preguntas tanto del emprendedor como del equipo:\n",
        "\n",
        "1.  ¿Cuál es la mejor ubicación en Guadalajara, México para abrir mi negocio de bicicletas?\n",
        "2. ¿Qué tantas ventas podré obtener en los primeros meses de iniciado mi negocio?\n",
        "3. ¿Cuáles son los productos más demandados por los potenciales clientes?\n",
        "4. ¿Qué precios serán los más competitivos para las bicicletas?\n",
        "5. ¿Qué tan frecuente un cliente querrá comprar ropa o accesorios para sus bicicletas?\n",
        "6. ¿Qué tantos clientes acudirán a mi negocio por una reparación o mejora en su bicicleta?\n",
        "\n",
        "Aunque no tenemos seguridad si podremos responder todas las preguntas planteadas, se le comentó al emprendedor que se hará un análisis de la data disponible y se evaluará que información se le puede presentar.\n",
        "\n"
      ],
      "metadata": {
        "id": "juKcSPxb19pz"
      }
    },
    {
      "cell_type": "markdown",
      "source": [
        "<a id=\"datos\"></a>\n",
        "# <font color=green>Colección de Datos</font>\n",
        "El siguiente data set se encontro en link, y se decidio usar este porque .....\n",
        "\n",
        "## Proceso para obtener el dataset\n",
        "\n",
        "Los distintos datasets que se usaron en este proyecto se obtuvieron ...\n",
        "\n",
        "\n"
      ],
      "metadata": {
        "id": "rmRnB11oZ6U1"
      }
    },
    {
      "cell_type": "code",
      "source": [],
      "metadata": {
        "id": "F-RonTkKaKfX"
      },
      "execution_count": null,
      "outputs": []
    },
    {
      "cell_type": "markdown",
      "source": [
        "<a id=\"analisis\"></a>\n",
        "# <font color=green>Análisis Exploratorio de nuestro Dataset</font>\n",
        "\n",
        "En esta sección se busco responder las siguientes preguntas:\n",
        "\n",
        "1. ¿El conjunto de datos que tengo realmente me sirve para responder algunas de las preguntas que me planteé?\n",
        "> Luego de un primer analisis, se encont´ro que los data sets si pueden responder algunas de las preguntas planteadas ...\n",
        "2. ¿Qué tamaño tiene mi conjunto de datos? ¿Serán datos suficientes?\n",
        "> El tamaño de los distintos datasets son ...\n",
        "3. ¿Qué columnas tengo y qué información tengo en cada una de esas columnas?\n",
        "> Combinado cada uno de los dat sets y usando la funcion \"\" de pandas, se tienen las siguientes columnas.\n",
        "4. Los nombres que tienen mis columnas, ¿son el nombre más apropiado?\n",
        "> Para una mejor comprensión de los datos, se decició cambiar los nombres de las columnas a nombres más aporpiados, usando la función \"\".\n",
        "5. ¿Qué tipos de datos tengo en cada columna? ¿Parecen ser el tipo correcto de datos? ¿O es un tipo de datos \"incorrecto\"?\n",
        "> Algunas columnas tenias tipos de datos no muy utiles pra las siguientes fases de la ciencia de datos, por lo que se deicidió cambairlos usando las funciones \"\" y \"\".\n",
        "6. Si selecciono algunas filas al azar y las observo, ¿estoy obteniendo los datos que debería? ¿o hay datos que parecen estar \"sucios\" o \"incorrectos\"?\n",
        "> Se observó algunos datos incorrectos o faltantes, por lo que se procedió a limpiarlos usando las funciones \"\", \"\", ..."
      ],
      "metadata": {
        "id": "bJVUo0YRaa-T"
      }
    },
    {
      "cell_type": "code",
      "source": [
        "Funciona?"
      ],
      "metadata": {
        "id": "l5L_H5bJcaoH"
      },
      "execution_count": null,
      "outputs": []
    },
    {
      "cell_type": "markdown",
      "source": [
        "<a id=\"limpieza\"></a>\n",
        "# <font color=green> Limpieza de datos y agregaciones </font>\n",
        "\n",
        "En esta sección hicimos una limpeiza de nuestro dataSet. Para ello, se sigueron los siguientes pasos:\n",
        "\n",
        "1. Encontrar los NaNs que contiene\n",
        "> Para determinar si el dataframe tenia valores NaNs, se utilizó el metodo de pandas \"\". De lo anteiror, se encontrró ...\n",
        "2. ¿Qué se hicieron con los NaNs?\n",
        "> Dado que esto valores no eran tan valisosos...\n",
        "3. Reindexo del DataSet\n",
        "4. Agregaciones al DataFrame"
      ],
      "metadata": {
        "id": "FClC45zYdaU7"
      }
    },
    {
      "cell_type": "code",
      "source": [],
      "metadata": {
        "id": "TqNUG26P-ctE"
      },
      "execution_count": null,
      "outputs": []
    },
    {
      "cell_type": "markdown",
      "source": [
        "<a id=\"API\"></a>\n",
        "# <font color=green> Automatización y APIs </font>\n",
        "\n",
        "Dado que se encontró dos APIs interesantes para el problema que se pelanteó, se decició usar ambos y aplicar los pasos requeridos en esta sección, asi como el mismo analisis que se aplicó en las secciones anteriores. Para esto, se siguieron los siguientes pasos:\n",
        "\n",
        "1. **Encontrar el API**: Entre las muchas APIs que se revisaron, nos pareció util usar la de [MercadoLibre](https://developers.mercadolibre.com.mx/es_ar/api-docs-es) y [cityBik](https://api.citybik.es/v2/networks/mibici-guadalajara) para Guadalajara. \n",
        "2. **Leer la documentación**: Se revisarón la documentación de muchas APIs, pero para este proyecto sólo trabajamos con dos, por lo que se hizo una revisión en detalle de las mismas y poder entender cuales EndPoints eran los que servirian para el proposito de este proyecto.\n",
        "3. **Realizar algunas peticiones de prueba**: el código creado para cada APIs se puso en dos NoteBooks separados, y cada uno se fué construyendo con pruebas realizadas a los EndPoints. Con dichas pruebas se pudo ir tomando decisiones de cómo manipular las respuestas obtenidas y tratar la data obtenida.\n",
        "4. **Automatizar el proceso de construcción del dataset**: Para cada APIs, se fueron creando varios data frames para cada una de las respuestas que se fueron obteniendo.\n",
        "5. **Explorar y limpiar el dataset**: Dado que se fueron obteniendo dataframes distintos, en el proceso automatico se fué ajustando y limpiando cada uno de los mismos para dejarlos listos para el proceso de unificación.\n",
        "6. **Unir los DataSet**: Una vez creados los distintos data frames, se procedió a la unificación de los distintos dataframes creados en cada ciclo."
      ],
      "metadata": {
        "id": "6xW7uLLvAI3n"
      }
    },
    {
      "cell_type": "markdown",
      "source": [
        "## Trabajo con el API de Mercadolibre\n",
        "\n",
        "Se decidió utilizar reste API por las siguientes razones:\n",
        "\n",
        "\n",
        "\n",
        "1.   Es de acceso y uso gratuito.\n",
        "2.  Provee información de México.\n",
        "3. Dispone de un servicio que provee los 20 productos más vendidos. Entonces buscamos determinar si entre esos productos hay alguno relacionado con bicicletas o similares. De esta forma podemos darle información valiosa al emprendedor sobre cuales productos serán los que más puede vender.\n",
        "4. Se puede obtener la información anterior en una categoria especifica, lo cuál hace más facil enfocar la busqueda en el area que nos interesa.\n",
        "\n",
        "En este [NoteBook](https://github.com/hvasquez28/g1-ds_santander-f2-team7-Phyton/blob/Harold/Entrega_Final_Procesamiento_DanielTapia_LuisZanabria_NorbertoPena_HaroldVasquez/Top20MercadolibreMx.ipynb) se tiene el código creado para crear un CSV con estos 20 productos. \n",
        "\n",
        "Con el archivo CSV guardado en nuestro repositorio, ahora se procede a hacer una busqueda con palabras claves en el siguiente código:\n",
        "\n"
      ],
      "metadata": {
        "id": "yHy9kyezFvsR"
      }
    },
    {
      "cell_type": "code",
      "source": [
        "import pandas as pd\n",
        "\n",
        "top20 = pd.read_csv('https://raw.githubusercontent.com/hvasquez28/g1-ds_santander-f2-team7-Phyton/main/Entrega_Final_Procesamiento_DanielTapia_LuisZanabria_NorbertoPena_HaroldVasquez/datasets/top20mercadolibre.csv', index_col=0)\n",
        "top20.info()"
      ],
      "metadata": {
        "id": "UZ-NzB1gBxgE"
      },
      "execution_count": null,
      "outputs": []
    },
    {
      "cell_type": "code",
      "source": [
        "top20.head(10)"
      ],
      "metadata": {
        "colab": {
          "base_uri": "https://localhost:8080/",
          "height": 580
        },
        "id": "9-_JE3dbLttM",
        "outputId": "d3fd2845-7be6-4d0b-e781-5c45e891c3d4"
      },
      "execution_count": 42,
      "outputs": [
        {
          "output_type": "execute_result",
          "data": {
            "text/plain": [
              "                                                name   price  quantity  \\\n",
              "0  Suplemento en polvo Meta Nutrition  Creatine +...  504.00      5000   \n",
              "1  Xiaomi Mi Smart Band 5 1.1\" caja de  plástico ...  488.00     50000   \n",
              "2  Suplemento en polvo Birdman  Performance Creat...  559.00      5000   \n",
              "3  Termo Digital Inteligente De Acero Inoxidable ...  129.86      7000   \n",
              "4  Cinta Kinesiológicas Vendaje Neuromuscular Tap...  173.04      8300   \n",
              "5    Pack Citratos - Magnesio Y Potasio 100 Caps C/u  398.99      5000   \n",
              "6  Botella De Agua Deportiva Anti Fugas No Tóxico...  175.82      1475   \n",
              "7  Rodilleras 3d Weaving Sport Presurización Rodi...  156.87      2675   \n",
              "8  Termo Inteligente Digital Lector De Temperatur...  117.75      9500   \n",
              "9  Guantes Gym Tacticos Pesas Crossfit Gimnasio M...  118.00      2950   \n",
              "\n",
              "  condition                                        description  \\\n",
              "0       new  Una nutrición balanceada juega un papel fundam...   \n",
              "1       new  Con 10 años de trayectoria, Xiaomi se posicion...   \n",
              "2       new  Una nutrición balanceada juega un papel fundam...   \n",
              "3       new                                                 []   \n",
              "4       new                                                 []   \n",
              "5       new                                                 []   \n",
              "6       new                                                 []   \n",
              "7       new                                                 []   \n",
              "8       new                                                 []   \n",
              "9       new                                                 []   \n",
              "\n",
              "                         warranty  \\\n",
              "0   Garantía del vendedor: 1 días   \n",
              "1  Garantía del vendedor: 3 meses   \n",
              "2                    Sin garantía   \n",
              "3                    Sin garantía   \n",
              "4  Garantía del vendedor: 30 días   \n",
              "5                    Sin garantía   \n",
              "6  Garantía del vendedor: 1 meses   \n",
              "7  Garantía del vendedor: 30 días   \n",
              "8   Garantía del vendedor: 7 días   \n",
              "9  Garantía del vendedor: 1 meses   \n",
              "\n",
              "                                            features  \n",
              "0  Suplemento de uso deportivo.Componente princip...  \n",
              "1  Pantalla táctil AMOLED de 1.1\".Recibe notifica...  \n",
              "2  Suplemento de uso nutricional/deportivo.Compon...  \n",
              "3                                                NaN  \n",
              "4                                                NaN  \n",
              "5                                                NaN  \n",
              "6                                                NaN  \n",
              "7                                                NaN  \n",
              "8                                                NaN  \n",
              "9                                                NaN  "
            ],
            "text/html": [
              "\n",
              "  <div id=\"df-d63ad39b-f77a-4370-b414-1071b8cc801a\">\n",
              "    <div class=\"colab-df-container\">\n",
              "      <div>\n",
              "<style scoped>\n",
              "    .dataframe tbody tr th:only-of-type {\n",
              "        vertical-align: middle;\n",
              "    }\n",
              "\n",
              "    .dataframe tbody tr th {\n",
              "        vertical-align: top;\n",
              "    }\n",
              "\n",
              "    .dataframe thead th {\n",
              "        text-align: right;\n",
              "    }\n",
              "</style>\n",
              "<table border=\"1\" class=\"dataframe\">\n",
              "  <thead>\n",
              "    <tr style=\"text-align: right;\">\n",
              "      <th></th>\n",
              "      <th>name</th>\n",
              "      <th>price</th>\n",
              "      <th>quantity</th>\n",
              "      <th>condition</th>\n",
              "      <th>description</th>\n",
              "      <th>warranty</th>\n",
              "      <th>features</th>\n",
              "    </tr>\n",
              "  </thead>\n",
              "  <tbody>\n",
              "    <tr>\n",
              "      <th>0</th>\n",
              "      <td>Suplemento en polvo Meta Nutrition  Creatine +...</td>\n",
              "      <td>504.00</td>\n",
              "      <td>5000</td>\n",
              "      <td>new</td>\n",
              "      <td>Una nutrición balanceada juega un papel fundam...</td>\n",
              "      <td>Garantía del vendedor: 1 días</td>\n",
              "      <td>Suplemento de uso deportivo.Componente princip...</td>\n",
              "    </tr>\n",
              "    <tr>\n",
              "      <th>1</th>\n",
              "      <td>Xiaomi Mi Smart Band 5 1.1\" caja de  plástico ...</td>\n",
              "      <td>488.00</td>\n",
              "      <td>50000</td>\n",
              "      <td>new</td>\n",
              "      <td>Con 10 años de trayectoria, Xiaomi se posicion...</td>\n",
              "      <td>Garantía del vendedor: 3 meses</td>\n",
              "      <td>Pantalla táctil AMOLED de 1.1\".Recibe notifica...</td>\n",
              "    </tr>\n",
              "    <tr>\n",
              "      <th>2</th>\n",
              "      <td>Suplemento en polvo Birdman  Performance Creat...</td>\n",
              "      <td>559.00</td>\n",
              "      <td>5000</td>\n",
              "      <td>new</td>\n",
              "      <td>Una nutrición balanceada juega un papel fundam...</td>\n",
              "      <td>Sin garantía</td>\n",
              "      <td>Suplemento de uso nutricional/deportivo.Compon...</td>\n",
              "    </tr>\n",
              "    <tr>\n",
              "      <th>3</th>\n",
              "      <td>Termo Digital Inteligente De Acero Inoxidable ...</td>\n",
              "      <td>129.86</td>\n",
              "      <td>7000</td>\n",
              "      <td>new</td>\n",
              "      <td>[]</td>\n",
              "      <td>Sin garantía</td>\n",
              "      <td>NaN</td>\n",
              "    </tr>\n",
              "    <tr>\n",
              "      <th>4</th>\n",
              "      <td>Cinta Kinesiológicas Vendaje Neuromuscular Tap...</td>\n",
              "      <td>173.04</td>\n",
              "      <td>8300</td>\n",
              "      <td>new</td>\n",
              "      <td>[]</td>\n",
              "      <td>Garantía del vendedor: 30 días</td>\n",
              "      <td>NaN</td>\n",
              "    </tr>\n",
              "    <tr>\n",
              "      <th>5</th>\n",
              "      <td>Pack Citratos - Magnesio Y Potasio 100 Caps C/u</td>\n",
              "      <td>398.99</td>\n",
              "      <td>5000</td>\n",
              "      <td>new</td>\n",
              "      <td>[]</td>\n",
              "      <td>Sin garantía</td>\n",
              "      <td>NaN</td>\n",
              "    </tr>\n",
              "    <tr>\n",
              "      <th>6</th>\n",
              "      <td>Botella De Agua Deportiva Anti Fugas No Tóxico...</td>\n",
              "      <td>175.82</td>\n",
              "      <td>1475</td>\n",
              "      <td>new</td>\n",
              "      <td>[]</td>\n",
              "      <td>Garantía del vendedor: 1 meses</td>\n",
              "      <td>NaN</td>\n",
              "    </tr>\n",
              "    <tr>\n",
              "      <th>7</th>\n",
              "      <td>Rodilleras 3d Weaving Sport Presurización Rodi...</td>\n",
              "      <td>156.87</td>\n",
              "      <td>2675</td>\n",
              "      <td>new</td>\n",
              "      <td>[]</td>\n",
              "      <td>Garantía del vendedor: 30 días</td>\n",
              "      <td>NaN</td>\n",
              "    </tr>\n",
              "    <tr>\n",
              "      <th>8</th>\n",
              "      <td>Termo Inteligente Digital Lector De Temperatur...</td>\n",
              "      <td>117.75</td>\n",
              "      <td>9500</td>\n",
              "      <td>new</td>\n",
              "      <td>[]</td>\n",
              "      <td>Garantía del vendedor: 7 días</td>\n",
              "      <td>NaN</td>\n",
              "    </tr>\n",
              "    <tr>\n",
              "      <th>9</th>\n",
              "      <td>Guantes Gym Tacticos Pesas Crossfit Gimnasio M...</td>\n",
              "      <td>118.00</td>\n",
              "      <td>2950</td>\n",
              "      <td>new</td>\n",
              "      <td>[]</td>\n",
              "      <td>Garantía del vendedor: 1 meses</td>\n",
              "      <td>NaN</td>\n",
              "    </tr>\n",
              "  </tbody>\n",
              "</table>\n",
              "</div>\n",
              "      <button class=\"colab-df-convert\" onclick=\"convertToInteractive('df-d63ad39b-f77a-4370-b414-1071b8cc801a')\"\n",
              "              title=\"Convert this dataframe to an interactive table.\"\n",
              "              style=\"display:none;\">\n",
              "        \n",
              "  <svg xmlns=\"http://www.w3.org/2000/svg\" height=\"24px\"viewBox=\"0 0 24 24\"\n",
              "       width=\"24px\">\n",
              "    <path d=\"M0 0h24v24H0V0z\" fill=\"none\"/>\n",
              "    <path d=\"M18.56 5.44l.94 2.06.94-2.06 2.06-.94-2.06-.94-.94-2.06-.94 2.06-2.06.94zm-11 1L8.5 8.5l.94-2.06 2.06-.94-2.06-.94L8.5 2.5l-.94 2.06-2.06.94zm10 10l.94 2.06.94-2.06 2.06-.94-2.06-.94-.94-2.06-.94 2.06-2.06.94z\"/><path d=\"M17.41 7.96l-1.37-1.37c-.4-.4-.92-.59-1.43-.59-.52 0-1.04.2-1.43.59L10.3 9.45l-7.72 7.72c-.78.78-.78 2.05 0 2.83L4 21.41c.39.39.9.59 1.41.59.51 0 1.02-.2 1.41-.59l7.78-7.78 2.81-2.81c.8-.78.8-2.07 0-2.86zM5.41 20L4 18.59l7.72-7.72 1.47 1.35L5.41 20z\"/>\n",
              "  </svg>\n",
              "      </button>\n",
              "      \n",
              "  <style>\n",
              "    .colab-df-container {\n",
              "      display:flex;\n",
              "      flex-wrap:wrap;\n",
              "      gap: 12px;\n",
              "    }\n",
              "\n",
              "    .colab-df-convert {\n",
              "      background-color: #E8F0FE;\n",
              "      border: none;\n",
              "      border-radius: 50%;\n",
              "      cursor: pointer;\n",
              "      display: none;\n",
              "      fill: #1967D2;\n",
              "      height: 32px;\n",
              "      padding: 0 0 0 0;\n",
              "      width: 32px;\n",
              "    }\n",
              "\n",
              "    .colab-df-convert:hover {\n",
              "      background-color: #E2EBFA;\n",
              "      box-shadow: 0px 1px 2px rgba(60, 64, 67, 0.3), 0px 1px 3px 1px rgba(60, 64, 67, 0.15);\n",
              "      fill: #174EA6;\n",
              "    }\n",
              "\n",
              "    [theme=dark] .colab-df-convert {\n",
              "      background-color: #3B4455;\n",
              "      fill: #D2E3FC;\n",
              "    }\n",
              "\n",
              "    [theme=dark] .colab-df-convert:hover {\n",
              "      background-color: #434B5C;\n",
              "      box-shadow: 0px 1px 3px 1px rgba(0, 0, 0, 0.15);\n",
              "      filter: drop-shadow(0px 1px 2px rgba(0, 0, 0, 0.3));\n",
              "      fill: #FFFFFF;\n",
              "    }\n",
              "  </style>\n",
              "\n",
              "      <script>\n",
              "        const buttonEl =\n",
              "          document.querySelector('#df-d63ad39b-f77a-4370-b414-1071b8cc801a button.colab-df-convert');\n",
              "        buttonEl.style.display =\n",
              "          google.colab.kernel.accessAllowed ? 'block' : 'none';\n",
              "\n",
              "        async function convertToInteractive(key) {\n",
              "          const element = document.querySelector('#df-d63ad39b-f77a-4370-b414-1071b8cc801a');\n",
              "          const dataTable =\n",
              "            await google.colab.kernel.invokeFunction('convertToInteractive',\n",
              "                                                     [key], {});\n",
              "          if (!dataTable) return;\n",
              "\n",
              "          const docLinkHtml = 'Like what you see? Visit the ' +\n",
              "            '<a target=\"_blank\" href=https://colab.research.google.com/notebooks/data_table.ipynb>data table notebook</a>'\n",
              "            + ' to learn more about interactive tables.';\n",
              "          element.innerHTML = '';\n",
              "          dataTable['output_type'] = 'display_data';\n",
              "          await google.colab.output.renderOutput(dataTable, element);\n",
              "          const docLink = document.createElement('div');\n",
              "          docLink.innerHTML = docLinkHtml;\n",
              "          element.appendChild(docLink);\n",
              "        }\n",
              "      </script>\n",
              "    </div>\n",
              "  </div>\n",
              "  "
            ]
          },
          "metadata": {},
          "execution_count": 42
        }
      ]
    },
    {
      "cell_type": "markdown",
      "source": [
        "Dado que se observó algunos valores incorrectos en los campos de interes (NaNs y []), se procedió a hacer una limpieza previa a hacer la busqueda."
      ],
      "metadata": {
        "id": "SRGBFHbGeSbg"
      }
    },
    {
      "cell_type": "code",
      "source": [
        "# Eliminar cadenas []. Estos ocasionaban problemas cuando se hacian las busquedas\n",
        "\n",
        "def no_string(value):\n",
        "  if (value == '[]'):\n",
        "    return ''\n",
        "  else:\n",
        "    return value\n",
        "\n",
        "top20['description'] = top20['description'].apply(no_string)\n",
        "top20.head(10)"
      ],
      "metadata": {
        "id": "y9oDzyiNZfoa"
      },
      "execution_count": null,
      "outputs": []
    },
    {
      "cell_type": "code",
      "source": [
        "# Cambiando los NaNs por cadenas vacias\n",
        "\n",
        "top20['features'] = top20['features'].fillna('')\n",
        "top20.head(10)"
      ],
      "metadata": {
        "id": "_NoBYIHactb7"
      },
      "execution_count": null,
      "outputs": []
    },
    {
      "cell_type": "code",
      "source": [
        "# Ya con la limpieza previa, esta busqueda funciona\n",
        "\n",
        "palabras_clave = ['bicicleta', 'bici', 'casco', 'pedal', 'bike']\n",
        "campos_busqueda = ['name', 'description', 'features']\n",
        "lista_de_dataframes = []\n",
        "\n",
        "for i in palabras_clave:\n",
        "  for j in range(0,len(top20.index)):   \n",
        "    for k in campos_busqueda:      \n",
        "      if i in top20.iloc[j][k]:       \n",
        "        lista_de_dataframes.append(top20.loc[j])\n",
        "\n",
        "if len(lista_de_dataframes) != 0:\n",
        "  df_completo = pd.concat(lista_de_dataframes, axis=0).reset_index(drop=True)\n",
        "  df_completo\n",
        "else:\n",
        "  print('No se encontró ningún registro con las palabras claves')"
      ],
      "metadata": {
        "colab": {
          "base_uri": "https://localhost:8080/"
        },
        "id": "mlrbIqd2Kvg5",
        "outputId": "6de7976b-1e00-4636-8297-49fa812ec366"
      },
      "execution_count": 49,
      "outputs": [
        {
          "output_type": "stream",
          "name": "stdout",
          "text": [
            "No se encontró ningún registro con las palabras claves\n"
          ]
        }
      ]
    },
    {
      "cell_type": "markdown",
      "source": [
        "<a id=\"ordenar\"></a>\n",
        "# <font color=green>Transformación, filtración y ordenamiento de datos </font>"
      ],
      "metadata": {
        "id": "ZWuNiXXfByJN"
      }
    },
    {
      "cell_type": "code",
      "source": [],
      "metadata": {
        "id": "XRHaejH2C8zJ"
      },
      "execution_count": null,
      "outputs": []
    },
    {
      "cell_type": "markdown",
      "source": [
        "<a id=\"futuro\"></a>\n",
        "# <font color=green> Planes a futuro </font>\n",
        "\n",
        "1. ¿Qué podemos hacer con los datos que tenemos?\n",
        "2. ¿Qué nos gustaría analizar?\n",
        "3. ¿Qué información está disponible en los datos?\n",
        "4. ¿Cómo podriamos ayudar a entender mejor los datos usando gráficas y visualizaciones? "
      ],
      "metadata": {
        "id": "_yZZvmG7C9UU"
      }
    }
  ]
}