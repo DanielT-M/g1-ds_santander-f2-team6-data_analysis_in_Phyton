{
  "nbformat": 4,
  "nbformat_minor": 0,
  "metadata": {
    "colab": {
      "provenance": [],
      "include_colab_link": true
    },
    "kernelspec": {
      "name": "python3",
      "display_name": "Python 3"
    },
    "language_info": {
      "name": "python"
    }
  },
  "cells": [
    {
      "cell_type": "markdown",
      "metadata": {
        "id": "view-in-github",
        "colab_type": "text"
      },
      "source": [
        "<a href=\"https://colab.research.google.com/github/hvasquez28/g1-ds_santander-f2-team7-Phyton/blob/main/Entrega_Final_Procesamiento_DanielTapia_LuisZanabria_NorbertoPena_HaroldVasquez/ProyectoPhytonGrupo7.ipynb\" target=\"_parent\"><img src=\"https://colab.research.google.com/assets/colab-badge.svg\" alt=\"Open In Colab\"/></a>"
      ]
    },
    {
      "cell_type": "markdown",
      "source": [
        "# <font color=green>Tabla de contenido</font>\n",
        "\n",
        "[1. Identificación del problema](#problema)\n",
        "\n",
        "[2. Planteamiento de Preguntas](#preguntas)\n",
        "\n",
        "[3. Colección de Datos](#datos)\n",
        "\n",
        "[4. Análisis Exploratorio de nuestro Dataset](#analisis)\n",
        "\n",
        "[5. Limpieza de datos y agregaciones](#limpieza)\n",
        "\n",
        "[6. Automatización y APIs](#API)\n",
        "\n",
        "[7. Transformación, filtración y ordenamiento de datos](#ordenar)\n",
        "\n",
        "[8. Planes a futuro](#futuro)"
      ],
      "metadata": {
        "id": "cMDAbRuqyUqY"
      }
    },
    {
      "cell_type": "markdown",
      "source": [
        "<a id=\"problema\"></a>\n",
        "# <font color=green>Identificación del Problema</font>\n",
        "\n",
        "Para cualquier nuevo emprendedor, existe una serie de retos que lo abruman en su aventura de iniciar un nuevo negocio. La mayor incertidumbre es poder disponer de la información necesaria que lo apoye en la toma correcta de decisiones y así mitigar los riesgos de una mala inversión de tiempo y dinero.\n",
        "\n",
        "Para esto, sería de gran ayuda proveerle a cada emprendedor de herramientas que le aporten información ordenada, certera y fidedigna; de tal forma que le otorgue seguridad y mayor certeza de si su idea será rentable o no.\n",
        "\n",
        "Por lo tanto, sin lugar a duda, la **ciencia de datos** es la mejor herramienta que permitiría la creación de este tipo de herramientas de apoyo para un emprendedor y su nuevo negocio.\n",
        "\n",
        "## Investigación al respecto del problema\n",
        "\n",
        "En esta sección ira la investigación\n",
        "\n",
        "## Búsqueda de soluciones anteriores\n",
        "\n",
        "En esta sección irá las soluciones previas"
      ],
      "metadata": {
        "id": "z2qEgfpuUquP"
      }
    },
    {
      "cell_type": "markdown",
      "source": [
        "<a id=\"preguntas\"></a>\n",
        "# <font color=green>Planteamiento de Preguntas </font>\n",
        "\n",
        "De acuerdo con el problema planteado anteriormente, surgieron las siguientes preguntas tanto del emprendedor como del equipo:\n",
        "\n",
        "1.  ¿Cuál es la mejor ubicación en Guadalajara, México para abrir mi negocio de bicicletas?\n",
        "2. ¿Qué tantas ventas podré obtener en los primeros meses de iniciado mi negocio?\n",
        "3. ¿Cuáles son los productos más demandados por los potenciales clientes?\n",
        "4. ¿Qué precios serán los más competitivos para las bicicletas?\n",
        "5. ¿Qué tan frecuente un cliente querrá comprar ropa o accesorios para sus bicicletas?\n",
        "6. ¿Qué tantos clientes acudirán a mi negocio por una reparación o mejora en su bicicleta?\n",
        "\n",
        "Aunque no tenemos seguridad si podremos responder todas las preguntas planteadas, se le comentó al emprendedor que se hará un análisis de la data disponible y se evaluará que información se le puede presentar.\n",
        "\n"
      ],
      "metadata": {
        "id": "juKcSPxb19pz"
      }
    },
    {
      "cell_type": "markdown",
      "source": [
        "<a id=\"datos\"></a>\n",
        "# <font color=green>Colección de Datos</font>\n",
        "El siguiente data set se encontro en link, y se decidio usar este porque .....\n",
        "\n",
        "## Proceso para obtener el dataset\n",
        "\n",
        "Los distintos datasets que se usaron en este proyecto se obtuvieron ...\n",
        "\n",
        "\n"
      ],
      "metadata": {
        "id": "rmRnB11oZ6U1"
      }
    },
    {
      "cell_type": "code",
      "source": [],
      "metadata": {
        "id": "F-RonTkKaKfX"
      },
      "execution_count": null,
      "outputs": []
    },
    {
      "cell_type": "markdown",
      "source": [
        "<a id=\"analisis\"></a>\n",
        "# <font color=green>Análisis Exploratorio de nuestro Dataset</font>\n",
        "\n",
        "En esta sección se busco responder las siguientes preguntas:\n",
        "\n",
        "1. ¿El conjunto de datos que tengo realmente me sirve para responder algunas de las preguntas que me planteé?\n",
        "> Luego de un primer analisis, se encont´ro que los data sets si pueden responder algunas de las preguntas planteadas ...\n",
        "2. ¿Qué tamaño tiene mi conjunto de datos? ¿Serán datos suficientes?\n",
        "> El tamaño de los distintos datasets son ...\n",
        "3. ¿Qué columnas tengo y qué información tengo en cada una de esas columnas?\n",
        "> Combinado cada uno de los dat sets y usando la funcion \"\" de pandas, se tienen las siguientes columnas.\n",
        "4. Los nombres que tienen mis columnas, ¿son el nombre más apropiado?\n",
        "> Para una mejor comprensión de los datos, se decició cambiar los nombres de las columnas a nombres más aporpiados, usando la función \"\".\n",
        "5. ¿Qué tipos de datos tengo en cada columna? ¿Parecen ser el tipo correcto de datos? ¿O es un tipo de datos \"incorrecto\"?\n",
        "> Algunas columnas tenias tipos de datos no muy utiles pra las siguientes fases de la ciencia de datos, por lo que se deicidió cambairlos usando las funciones \"\" y \"\".\n",
        "6. Si selecciono algunas filas al azar y las observo, ¿estoy obteniendo los datos que debería? ¿o hay datos que parecen estar \"sucios\" o \"incorrectos\"?\n",
        "> Se observó algunos datos incorrectos o faltantes, por lo que se procedió a limpiarlos usando las funciones \"\", \"\", ..."
      ],
      "metadata": {
        "id": "bJVUo0YRaa-T"
      }
    },
    {
      "cell_type": "code",
      "source": [
        "Funciona?"
      ],
      "metadata": {
        "id": "l5L_H5bJcaoH"
      },
      "execution_count": null,
      "outputs": []
    },
    {
      "cell_type": "markdown",
      "source": [
        "<a id=\"limpieza\"></a>\n",
        "# <font color=green> Limpieza de datos y agregaciones </font>\n",
        "\n",
        "En esta sección hicimos una limpeiza de nuestro dataSet. Para ello, se sigueron los siguientes pasos:\n",
        "\n",
        "1. Encontrar los NaNs que contiene\n",
        "> Para determinar si el dataframe tenia valores NaNs, se utilizó el metodo de pandas \"\". De lo anteiror, se encontrró ...\n",
        "2. ¿Qué se hicieron con los NaNs?\n",
        "> Dado que esto valores no eran tan valisosos...\n",
        "3. Reindexo del DataSet\n",
        "4. Agregaciones al DataFrame"
      ],
      "metadata": {
        "id": "FClC45zYdaU7"
      }
    },
    {
      "cell_type": "code",
      "source": [],
      "metadata": {
        "id": "TqNUG26P-ctE"
      },
      "execution_count": null,
      "outputs": []
    },
    {
      "cell_type": "markdown",
      "source": [
        "<a id=\"API\"></a>\n",
        "# <font color=green> Automatización y APIs </font>\n",
        "\n",
        "Dado que se encontró un API interesante para el problema que se pelanteó, se decició usar uno y aplicar los pasos requeridos en esta sección, asi como el mismo analisis que se aplicó en las secciones nateriores. Para esto, se siguieron los siguientes pasos:\n",
        "\n",
        "1. Encontrar el API\n",
        "2. Leer la documentación\n",
        "3. Realizar algunas peticiones de prueba\n",
        "4. Automatizar el proceso de construcción del dataset\n",
        "5 Explorar y limpiar el dataset\n",
        "6. Unir los DataSet"
      ],
      "metadata": {
        "id": "6xW7uLLvAI3n"
      }
    },
    {
      "cell_type": "code",
      "source": [],
      "metadata": {
        "id": "UZ-NzB1gBxgE"
      },
      "execution_count": null,
      "outputs": []
    },
    {
      "cell_type": "markdown",
      "source": [
        "<a id=\"ordenar\"></a>\n",
        "# <font color=green>Transformación, filtración y ordenamiento de datos </font>"
      ],
      "metadata": {
        "id": "ZWuNiXXfByJN"
      }
    },
    {
      "cell_type": "code",
      "source": [],
      "metadata": {
        "id": "XRHaejH2C8zJ"
      },
      "execution_count": null,
      "outputs": []
    },
    {
      "cell_type": "markdown",
      "source": [
        "<a id=\"futuro\"></a>\n",
        "# <font color=green> Planes a futuro </font>\n",
        "\n",
        "1. ¿Qué podemos hacer con los datos que tenemos?\n",
        "2. ¿Qué nos gustaría analizar?\n",
        "3. ¿Qué información está disponible en los datos?\n",
        "4. ¿Cómo podriamos ayudar a entender mejor los datos usando gráficas y visualizaciones? "
      ],
      "metadata": {
        "id": "_yZZvmG7C9UU"
      }
    }
  ]
}