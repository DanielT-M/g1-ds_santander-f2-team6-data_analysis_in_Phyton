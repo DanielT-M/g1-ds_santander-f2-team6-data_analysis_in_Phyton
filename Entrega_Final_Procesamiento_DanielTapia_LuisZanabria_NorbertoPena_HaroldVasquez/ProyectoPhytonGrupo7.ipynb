{
  "nbformat": 4,
  "nbformat_minor": 0,
  "metadata": {
    "colab": {
      "provenance": [],
      "include_colab_link": true
    },
    "kernelspec": {
      "name": "python3",
      "display_name": "Python 3"
    },
    "language_info": {
      "name": "python"
    }
  },
  "cells": [
    {
      "cell_type": "markdown",
      "metadata": {
        "id": "view-in-github",
        "colab_type": "text"
      },
      "source": [
        "<a href=\"https://colab.research.google.com/github/hvasquez28/g1-ds_santander-f2-team7-Phyton/blob/main/Entrega_Final_Procesamiento_DanielTapia_LuisZanabria_NorbertoPena_HaroldVasquez/ProyectoPhytonGrupo7.ipynb\" target=\"_parent\"><img src=\"https://colab.research.google.com/assets/colab-badge.svg\" alt=\"Open In Colab\"/></a>"
      ]
    },
    {
      "cell_type": "markdown",
      "source": [
        "# <font color=green>Tabla de contenido</font>\n",
        "\n",
        "[1. Identificación del problema](#problema)\n",
        "\n",
        "[2. Planteamiento de Preguntas](#preguntas)\n",
        "\n",
        "[4. Análisis Exploratorio de nuestro Dataset](#analisis)"
      ],
      "metadata": {
        "id": "cMDAbRuqyUqY"
      }
    },
    {
      "cell_type": "markdown",
      "source": [
        "<a id=\"problema\"></a>\n",
        "# <font color=green>Identificación del Problema</font>\n",
        "\n",
        "Para cualquier nuevo emprendedor, existe una serie de retos que lo abruman en su aventura de iniciar un nuevo negocio. La mayor incertidumbre es poder disponer de la información necesaria que lo apoye en la toma correcta de decisiones y así mitigar los riesgos de una mala inversión de tiempo y dinero.\n",
        "\n",
        "Para esto, sería de gran ayuda proveerle a cada emprendedor de herramientas que le aporten información ordenada, certera y fidedigna; de tal forma que le otorgue seguridad y mayor certeza de si su idea será rentable o no.\n",
        "\n",
        "Por lo tanto, sin lugar a duda, la **ciencia de datos** es la mejor herramienta que permitiría la creación de este tipo de herramientas de apoyo para un emprendedor y su nuevo negocio.\n",
        "\n",
        "### Investigación al respecto del problema\n",
        "\n",
        "En esta sección ira la investigación\n",
        "\n",
        "### Búsqueda de soluciones anteriores\n",
        "\n",
        "En esta sección irá las soluciones previas"
      ],
      "metadata": {
        "id": "z2qEgfpuUquP"
      }
    },
    {
      "cell_type": "markdown",
      "source": [
        "<a id=\"preguntas\"></a>\n",
        "# <font color=green>Planteamiento de Preguntas </font>\n",
        "\n",
        "De acuerdo con el problema planteado anteriormente, surgieron las siguientes preguntas tanto del emprendedor como del equipo:\n",
        "\n",
        "1.  ¿Cuál es la mejor ubicación en Guadalajara, México para abrir mi negocio de bicicletas?\n",
        "2. ¿Qué tantas ventas podré obtener en los primeros meses de iniciado mi negocio?\n",
        "3. ¿Cuáles son los productos más demandados por los potenciales clientes?\n",
        "4. ¿Qué precios serán los más competitivos para las bicicletas?\n",
        "5. ¿Qué tan frecuente un cliente querrá comprar ropa o accesorios para sus bicicletas?\n",
        "6. ¿Qué tantos clientes acudirán a mi negocio por una reparación o mejora en su bicicleta?\n",
        "\n",
        "Aunque no tenemos seguridad si podremos responder todas las preguntas planteadas, se le comentó al emprendedor que se hará un análisis de la data disponible y se evaluará que información se le puede presentar.\n",
        "\n"
      ],
      "metadata": {
        "id": "juKcSPxb19pz"
      }
    },
    {
      "cell_type": "markdown",
      "source": [
        "# <font color=green>Colección de Datos</font>\n",
        "El siguiente data set se encontro en link, y se decidio usar este porque ....."
      ],
      "metadata": {
        "id": "rmRnB11oZ6U1"
      }
    },
    {
      "cell_type": "code",
      "source": [],
      "metadata": {
        "id": "F-RonTkKaKfX"
      },
      "execution_count": null,
      "outputs": []
    },
    {
      "cell_type": "markdown",
      "source": [
        "<a id=\"analisis\"></a>\n",
        "# <font color=green>Análisis Exploratorio de nuestro Dataset</font>\n",
        "fddgdfgd"
      ],
      "metadata": {
        "id": "bJVUo0YRaa-T"
      }
    },
    {
      "cell_type": "code",
      "source": [
        "Funciona?"
      ],
      "metadata": {
        "id": "l5L_H5bJcaoH"
      },
      "execution_count": null,
      "outputs": []
    },
    {
      "cell_type": "markdown",
      "source": [
        "Texto de harold"
      ],
      "metadata": {
        "id": "FClC45zYdaU7"
      }
    }
  ]
}