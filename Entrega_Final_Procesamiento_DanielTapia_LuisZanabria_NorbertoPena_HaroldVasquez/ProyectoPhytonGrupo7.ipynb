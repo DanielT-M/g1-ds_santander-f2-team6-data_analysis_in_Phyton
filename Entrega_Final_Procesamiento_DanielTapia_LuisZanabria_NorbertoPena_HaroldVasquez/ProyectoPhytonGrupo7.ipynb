{
  "nbformat": 4,
  "nbformat_minor": 0,
  "metadata": {
    "colab": {
      "provenance": [],
      "include_colab_link": true
    },
    "kernelspec": {
      "name": "python3",
      "display_name": "Python 3"
    },
    "language_info": {
      "name": "python"
    }
  },
  "cells": [
    {
      "cell_type": "markdown",
      "metadata": {
        "id": "view-in-github",
        "colab_type": "text"
      },
      "source": [
        "<a href=\"https://colab.research.google.com/github/hvasquez28/g1-ds_santander-f2-team7-Phyton/blob/Norberto/Entrega_Final_Procesamiento_DanielTapia_LuisZanabria_NorbertoPena_HaroldVasquez/ProyectoPhytonGrupo7.ipynb\" target=\"_parent\"><img src=\"https://colab.research.google.com/assets/colab-badge.svg\" alt=\"Open In Colab\"/></a>"
      ]
    },
    {
      "cell_type": "markdown",
      "source": [
        "# <font color=green>Tabla de contenido</font>\n",
        "\n",
        "[1. Identificación del problema](#problema)\n",
        "\n",
        "[2. Planteamiento de Preguntas](#preguntas)\n",
        "\n",
        "[3. Colección de Datos](#datos)\n",
        "\n",
        "[4. Análisis Exploratorio de nuestro Dataset](#analisis)\n",
        "\n",
        "[5. Limpieza de datos y agregaciones](#limpieza)\n",
        "\n",
        "[6. Automatización y APIs](#API)\n",
        "\n",
        "[7. Transformación, filtración y ordenamiento de datos](#ordenar)\n",
        "\n",
        "[8. Planes a futuro](#futuro)"
      ],
      "metadata": {
        "id": "cMDAbRuqyUqY"
      }
    },
    {
      "cell_type": "markdown",
      "source": [
        "<a id=\"problema\"></a>\n",
        "# <font color=green>Identificación del Problema</font>\n",
        "\n",
        "Para cualquier nuevo emprendedor, existe una serie de retos que lo abruman en su aventura de iniciar un nuevo negocio. La mayor incertidumbre es poder disponer de la información necesaria que lo apoye en la toma correcta de decisiones y así mitigar los riesgos de una mala inversión de tiempo y dinero.\n",
        "\n",
        "Para esto, sería de gran ayuda proveerle a cada emprendedor de herramientas que le aporten información ordenada, certera y fidedigna; de tal forma que le otorgue seguridad y mayor certeza de si su idea será rentable o no.\n",
        "\n",
        "Por lo tanto, sin lugar a duda, la **ciencia de datos** es la mejor herramienta que permitiría la creación de este tipo de herramientas de apoyo para un emprendedor y su nuevo negocio.\n",
        "\n",
        "## Investigación al respecto del problema\n",
        "\n",
        "En esta sección ira la investigación\n",
        "\n",
        "## Búsqueda de soluciones anteriores\n",
        "\n",
        "En esta sección irá las soluciones previas"
      ],
      "metadata": {
        "id": "z2qEgfpuUquP"
      }
    },
    {
      "cell_type": "markdown",
      "source": [
        "<a id=\"preguntas\"></a>\n",
        "# <font color=green>Planteamiento de Preguntas </font>\n",
        "\n",
        "De acuerdo con el problema planteado anteriormente, surgieron las siguientes preguntas tanto del emprendedor como del equipo:\n",
        "\n",
        "1.  ¿Cuál es la mejor ubicación en Guadalajara, México para abrir mi negocio de bicicletas?\n",
        "2. ¿Qué tantas ventas podré obtener en los primeros meses de iniciado mi negocio?\n",
        "3. ¿Cuáles son los productos más demandados por los potenciales clientes?\n",
        "4. ¿Qué precios serán los más competitivos para las bicicletas?\n",
        "5. ¿Qué tan frecuente un cliente querrá comprar ropa o accesorios para sus bicicletas?\n",
        "6. ¿Qué tantos clientes acudirán a mi negocio por una reparación o mejora en su bicicleta?\n",
        "\n",
        "Aunque no tenemos seguridad si podremos responder todas las preguntas planteadas, se le comentó al emprendedor que se hará un análisis de la data disponible y se evaluará que información se le puede presentar.\n",
        "\n"
      ],
      "metadata": {
        "id": "juKcSPxb19pz"
      }
    },
    {
      "cell_type": "markdown",
      "source": [
        "<a id=\"datos\"></a>\n",
        "# <font color=green>Colección de Datos</font>\n",
        "Se tomo la decision de usar \"Bike Buyers 1000\" y \"Bike Sales\", dado que contienen informacion relevante a la problematica sobre la cual se esta tratando y ambos datasets se complementan, los cuales fueron encontrados en kaggle.\n",
        "\n",
        "\"Bike Buyers 1000\" \n",
        "link: \"https://www.kaggle.com/datasets/heeraldedhia/bike-buyers\"\n",
        "\n",
        "\"Bike Sales\"\n",
        "link: \"https://www.kaggle.com/datasets/liyingiris90/bike-sales\"\n",
        "\n",
        "## Proceso para obtener el dataset\n",
        "\n",
        "Dado que los archivos contenidos dentro del conjunto de datos de Bike Sales estan en formato .xlsx, se uso la funcion <font color =red> *pd.read_excel* </font> de pandas.\n",
        "\n",
        "Para Bike Buyers al ser un formato csv, se usa nuestra funcion ya conocida  <font color =red> *pd.read_csv*</font>  "
      ],
      "metadata": {
        "id": "rmRnB11oZ6U1"
      }
    },
    {
      "cell_type": "markdown",
      "source": [
        "Se importan las siguientes librerias..."
      ],
      "metadata": {
        "id": "FSEsiAwG0Ahn"
      }
    },
    {
      "cell_type": "code",
      "source": [
        "import pandas as pd\n",
        "import numpy as np"
      ],
      "metadata": {
        "id": "SOxO5h6Hx_I7"
      },
      "execution_count": 1,
      "outputs": []
    },
    {
      "cell_type": "markdown",
      "source": [
        "Se guardan los respectivos DataFrames del conjunto de datos <font color=blue> \"bike sales\"</font> y <font color=blue> \"bike buyers\""
      ],
      "metadata": {
        "id": "2M9YsQXUz_zr"
      }
    },
    {
      "cell_type": "code",
      "source": [
        "compradores = pd.read_csv(\"https://raw.githubusercontent.com/hvasquez28/g1-ds_santander-f2-team7-Phyton/Norberto/Entrega_Final_Procesamiento_DanielTapia_LuisZanabria_NorbertoPena_HaroldVasquez/datasets/bike_buyers.csv\")"
      ],
      "metadata": {
        "id": "4PrAfVMz3oxh"
      },
      "execution_count": 21,
      "outputs": []
    },
    {
      "cell_type": "code",
      "source": [
        "bikes = pd.read_excel('https://github.com/hvasquez28/g1-ds_santander-f2-team7-Phyton/blob/Norberto/Entrega_Final_Procesamiento_DanielTapia_LuisZanabria_NorbertoPena_HaroldVasquez/datasets/bikes.xlsx?raw=true')\n",
        "bikestores = pd.read_excel(\"https://github.com/hvasquez28/g1-ds_santander-f2-team7-Phyton/blob/Norberto/Entrega_Final_Procesamiento_DanielTapia_LuisZanabria_NorbertoPena_HaroldVasquez/datasets/bikeshops.xlsx?raw=true\")\n",
        "orders = pd.read_excel(\"https://github.com/hvasquez28/g1-ds_santander-f2-team7-Phyton/blob/Norberto/Entrega_Final_Procesamiento_DanielTapia_LuisZanabria_NorbertoPena_HaroldVasquez/datasets/orders.xlsx?raw=true\")"
      ],
      "metadata": {
        "id": "A2uCs2NUz8iY",
        "outputId": "580dc0d8-41f9-4864-c9bc-98619e0b69f3",
        "colab": {
          "base_uri": "https://localhost:8080/"
        }
      },
      "execution_count": 8,
      "outputs": [
        {
          "output_type": "stream",
          "name": "stderr",
          "text": [
            "/usr/local/lib/python3.7/dist-packages/openpyxl/styles/stylesheet.py:226: UserWarning: Workbook contains no default style, apply openpyxl's default\n",
            "  warn(\"Workbook contains no default style, apply openpyxl's default\")\n"
          ]
        }
      ]
    },
    {
      "cell_type": "code",
      "source": [
        "orders"
      ],
      "metadata": {
        "id": "jpCASwCK4m7H"
      },
      "execution_count": null,
      "outputs": []
    },
    {
      "cell_type": "markdown",
      "source": [
        "Procedemos a revisar cada DataFrame usando .head() y .tail(), asi como .dtypes, .columns y .shape"
      ],
      "metadata": {
        "id": "djxBigkA1e6A"
      }
    },
    {
      "cell_type": "code",
      "source": [
        "compradores.dtypes #Se tienen flotantes que deberian de ser enteros.\n",
        "compradores.shape #Se tienen 1000 entradas y 13 columnas.\n",
        "compradores.columns # ID, Marital S, Gender, Income, Children, Education, Occupation, Home Owner, Cars, Commute Distance, Region, Age, purchase bike\n",
        "compradores.head() # Se observan NaN \n",
        "compradores.tail() \n",
        "c=list(compradores.columns)"
      ],
      "metadata": {
        "id": "3vdOsSmq1V7U"
      },
      "execution_count": 23,
      "outputs": []
    },
    {
      "cell_type": "markdown",
      "source": [
        "Se crea la siguiente funcion para determinar NaNs entre los distintos DataFrames"
      ],
      "metadata": {
        "id": "_Yu9FmitDX1m"
      }
    },
    {
      "cell_type": "code",
      "source": [
        "def numero_nans(dataframe):\n",
        "    print(dataframe.isna().sum())"
      ],
      "metadata": {
        "id": "R5lr-dRCHIEX"
      },
      "execution_count": 38,
      "outputs": []
    },
    {
      "cell_type": "code",
      "source": [
        "def porcentaje_nans(dataframe):\n",
        "  print(dataframe.isna().sum()/len(dataframe)*100)"
      ],
      "metadata": {
        "id": "6SgT9E7ZDeQG"
      },
      "execution_count": 34,
      "outputs": []
    },
    {
      "cell_type": "code",
      "source": [
        "comp_names = {c[0]:'id_comprador',\n",
        "              c[1]:'estado_civil',\n",
        "              c[2]:'genero',\n",
        "              c[3]:'sueldo',\n",
        "              c[4]:'hijos',\n",
        "              c[5]:'educacion',\n",
        "              c[6]:\"profesion\",\n",
        "              c[7]:\"posee_casa\",\n",
        "              c[8]:'coches',\n",
        "              c[9]:'distancia_d_viaje',\n",
        "              c[10]:'estado',\n",
        "              c[11]:'edad',\n",
        "              c[12]:'bicicleta_adquirida'}"
      ],
      "metadata": {
        "id": "RaJeGCnTAUr1"
      },
      "execution_count": 85,
      "outputs": []
    },
    {
      "cell_type": "code",
      "source": [
        "compradores= compradores.rename(columns=comp_names) #Se renombran columnas para que el leector tenga una mayor comprenhesion de las columnas. "
      ],
      "metadata": {
        "id": "9qsyPMtFCLGE"
      },
      "execution_count": 86,
      "outputs": []
    },
    {
      "cell_type": "code",
      "source": [
        "#Se tienen un total de 53 Nans en el dataframe compradores, que representa al 5.3% de los datos\n",
        "\n",
        "#Hay 4 Nans en hijos y en 4 Nans en Coches, por lo que estas columnas seran rellenadas con 0s. Mientras que posee_casa con No. \n",
        "#Por otro lado, estado civil sera llenado con single. #Se eliminaran las filas de genero, edad y sueldo. \n",
        "#porcentaje_nans(compradores_true) #El estado civil y el sueldo conforman aproximadamente 2% de los datos. \n",
        "#Solo se rellenara el Estado Civil. Y se eliminaran el resto de columnas con Nans.  "
      ],
      "metadata": {
        "id": "w9pXlwXhH43p",
        "outputId": "bbe2d83c-32f5-4c63-8701-cbba574afdf9",
        "colab": {
          "base_uri": "https://localhost:8080/"
        }
      },
      "execution_count": 71,
      "outputs": [
        {
          "output_type": "stream",
          "name": "stdout",
          "text": [
            "id                     0\n",
            "estado_civil           5\n",
            "genero                 3\n",
            "sueldo                 6\n",
            "hijos                  4\n",
            "educacion              0\n",
            "profesion              0\n",
            "posee_casa             2\n",
            "coches                 4\n",
            "distancia_d_viaje      0\n",
            "estado                 0\n",
            "edad                   4\n",
            "bicicleta_adquirida    0\n",
            "dtype: int64\n",
            "id                     0.000000\n",
            "estado_civil           1.039501\n",
            "genero                 0.623701\n",
            "sueldo                 1.247401\n",
            "hijos                  0.831601\n",
            "educacion              0.000000\n",
            "profesion              0.000000\n",
            "posee_casa             0.415800\n",
            "coches                 0.831601\n",
            "distancia_d_viaje      0.000000\n",
            "estado                 0.000000\n",
            "edad                   0.831601\n",
            "bicicleta_adquirida    0.000000\n",
            "dtype: float64\n"
          ]
        }
      ]
    },
    {
      "cell_type": "markdown",
      "source": [
        "Se llanan las Nans. "
      ],
      "metadata": {
        "id": "rw3FUw3zeQI4"
      }
    },
    {
      "cell_type": "code",
      "source": [
        "compradores[['hijos','coches']] = compradores[['hijos','coches']].fillna(0)\n",
        "compradores['estado_civil'] = compradores['estado_civil'].fillna('Single')\n",
        "compradores['posee_casa'] = compradores['posee_casa'].fillna('No')\n",
        "compradores =compradores.dropna(how='any')\n",
        "#numero_nans(compradores)\n",
        "compradores = compradores.reset_index(drop=True) #Nos queda un data frame con el 97.7% de nuestro conjunto de datos inicial. "
      ],
      "metadata": {
        "id": "G0P8mHD8Pc3n"
      },
      "execution_count": 94,
      "outputs": []
    },
    {
      "cell_type": "code",
      "source": [
        "compradores"
      ],
      "metadata": {
        "id": "-gtKTOEUfYdV",
        "outputId": "a0a69d79-3d9b-4c00-8a20-1ff203582330",
        "colab": {
          "base_uri": "https://localhost:8080/",
          "height": 424
        }
      },
      "execution_count": 95,
      "outputs": [
        {
          "output_type": "execute_result",
          "data": {
            "text/plain": [
              "        id estado_civil  genero    sueldo  hijos        educacion  \\\n",
              "0    12496      Married  Female   40000.0    1.0        Bachelors   \n",
              "1    24107      Married    Male   30000.0    3.0  Partial College   \n",
              "2    14177      Married    Male   80000.0    5.0  Partial College   \n",
              "3    25597       Single    Male   30000.0    0.0        Bachelors   \n",
              "4    13507      Married  Female   10000.0    2.0  Partial College   \n",
              "..     ...          ...     ...       ...    ...              ...   \n",
              "972  13466      Married    Male   80000.0    5.0  Partial College   \n",
              "973  23731      Married    Male   60000.0    2.0      High School   \n",
              "974  28672       Single    Male   70000.0    4.0  Graduate Degree   \n",
              "975  19664       Single    Male  100000.0    3.0        Bachelors   \n",
              "976  12121       Single    Male   60000.0    3.0      High School   \n",
              "\n",
              "          profesion posee_casa  coches distancia_d_viaje         estado  edad  \\\n",
              "0    Skilled Manual        Yes     0.0         0-1 Miles         Europe  42.0   \n",
              "1          Clerical        Yes     1.0         0-1 Miles         Europe  43.0   \n",
              "2      Professional         No     2.0         2-5 Miles         Europe  60.0   \n",
              "3          Clerical         No     0.0         0-1 Miles         Europe  36.0   \n",
              "4            Manual        Yes     0.0         1-2 Miles         Europe  50.0   \n",
              "..              ...        ...     ...               ...            ...   ...   \n",
              "972    Professional        Yes     3.0         1-2 Miles  North America  46.0   \n",
              "973    Professional        Yes     2.0         2-5 Miles  North America  54.0   \n",
              "974    Professional        Yes     0.0         2-5 Miles  North America  35.0   \n",
              "975      Management         No     3.0         1-2 Miles  North America  38.0   \n",
              "976    Professional        Yes     2.0         10+ Miles  North America  53.0   \n",
              "\n",
              "    bicicleta_adquirida  \n",
              "0                    No  \n",
              "1                    No  \n",
              "2                    No  \n",
              "3                   Yes  \n",
              "4                    No  \n",
              "..                  ...  \n",
              "972                  No  \n",
              "973                 Yes  \n",
              "974                 Yes  \n",
              "975                  No  \n",
              "976                 Yes  \n",
              "\n",
              "[977 rows x 13 columns]"
            ],
            "text/html": [
              "\n",
              "  <div id=\"df-ebc2dfa3-6304-44f5-8e14-8d9c28583fe5\">\n",
              "    <div class=\"colab-df-container\">\n",
              "      <div>\n",
              "<style scoped>\n",
              "    .dataframe tbody tr th:only-of-type {\n",
              "        vertical-align: middle;\n",
              "    }\n",
              "\n",
              "    .dataframe tbody tr th {\n",
              "        vertical-align: top;\n",
              "    }\n",
              "\n",
              "    .dataframe thead th {\n",
              "        text-align: right;\n",
              "    }\n",
              "</style>\n",
              "<table border=\"1\" class=\"dataframe\">\n",
              "  <thead>\n",
              "    <tr style=\"text-align: right;\">\n",
              "      <th></th>\n",
              "      <th>id</th>\n",
              "      <th>estado_civil</th>\n",
              "      <th>genero</th>\n",
              "      <th>sueldo</th>\n",
              "      <th>hijos</th>\n",
              "      <th>educacion</th>\n",
              "      <th>profesion</th>\n",
              "      <th>posee_casa</th>\n",
              "      <th>coches</th>\n",
              "      <th>distancia_d_viaje</th>\n",
              "      <th>estado</th>\n",
              "      <th>edad</th>\n",
              "      <th>bicicleta_adquirida</th>\n",
              "    </tr>\n",
              "  </thead>\n",
              "  <tbody>\n",
              "    <tr>\n",
              "      <th>0</th>\n",
              "      <td>12496</td>\n",
              "      <td>Married</td>\n",
              "      <td>Female</td>\n",
              "      <td>40000.0</td>\n",
              "      <td>1.0</td>\n",
              "      <td>Bachelors</td>\n",
              "      <td>Skilled Manual</td>\n",
              "      <td>Yes</td>\n",
              "      <td>0.0</td>\n",
              "      <td>0-1 Miles</td>\n",
              "      <td>Europe</td>\n",
              "      <td>42.0</td>\n",
              "      <td>No</td>\n",
              "    </tr>\n",
              "    <tr>\n",
              "      <th>1</th>\n",
              "      <td>24107</td>\n",
              "      <td>Married</td>\n",
              "      <td>Male</td>\n",
              "      <td>30000.0</td>\n",
              "      <td>3.0</td>\n",
              "      <td>Partial College</td>\n",
              "      <td>Clerical</td>\n",
              "      <td>Yes</td>\n",
              "      <td>1.0</td>\n",
              "      <td>0-1 Miles</td>\n",
              "      <td>Europe</td>\n",
              "      <td>43.0</td>\n",
              "      <td>No</td>\n",
              "    </tr>\n",
              "    <tr>\n",
              "      <th>2</th>\n",
              "      <td>14177</td>\n",
              "      <td>Married</td>\n",
              "      <td>Male</td>\n",
              "      <td>80000.0</td>\n",
              "      <td>5.0</td>\n",
              "      <td>Partial College</td>\n",
              "      <td>Professional</td>\n",
              "      <td>No</td>\n",
              "      <td>2.0</td>\n",
              "      <td>2-5 Miles</td>\n",
              "      <td>Europe</td>\n",
              "      <td>60.0</td>\n",
              "      <td>No</td>\n",
              "    </tr>\n",
              "    <tr>\n",
              "      <th>3</th>\n",
              "      <td>25597</td>\n",
              "      <td>Single</td>\n",
              "      <td>Male</td>\n",
              "      <td>30000.0</td>\n",
              "      <td>0.0</td>\n",
              "      <td>Bachelors</td>\n",
              "      <td>Clerical</td>\n",
              "      <td>No</td>\n",
              "      <td>0.0</td>\n",
              "      <td>0-1 Miles</td>\n",
              "      <td>Europe</td>\n",
              "      <td>36.0</td>\n",
              "      <td>Yes</td>\n",
              "    </tr>\n",
              "    <tr>\n",
              "      <th>4</th>\n",
              "      <td>13507</td>\n",
              "      <td>Married</td>\n",
              "      <td>Female</td>\n",
              "      <td>10000.0</td>\n",
              "      <td>2.0</td>\n",
              "      <td>Partial College</td>\n",
              "      <td>Manual</td>\n",
              "      <td>Yes</td>\n",
              "      <td>0.0</td>\n",
              "      <td>1-2 Miles</td>\n",
              "      <td>Europe</td>\n",
              "      <td>50.0</td>\n",
              "      <td>No</td>\n",
              "    </tr>\n",
              "    <tr>\n",
              "      <th>...</th>\n",
              "      <td>...</td>\n",
              "      <td>...</td>\n",
              "      <td>...</td>\n",
              "      <td>...</td>\n",
              "      <td>...</td>\n",
              "      <td>...</td>\n",
              "      <td>...</td>\n",
              "      <td>...</td>\n",
              "      <td>...</td>\n",
              "      <td>...</td>\n",
              "      <td>...</td>\n",
              "      <td>...</td>\n",
              "      <td>...</td>\n",
              "    </tr>\n",
              "    <tr>\n",
              "      <th>972</th>\n",
              "      <td>13466</td>\n",
              "      <td>Married</td>\n",
              "      <td>Male</td>\n",
              "      <td>80000.0</td>\n",
              "      <td>5.0</td>\n",
              "      <td>Partial College</td>\n",
              "      <td>Professional</td>\n",
              "      <td>Yes</td>\n",
              "      <td>3.0</td>\n",
              "      <td>1-2 Miles</td>\n",
              "      <td>North America</td>\n",
              "      <td>46.0</td>\n",
              "      <td>No</td>\n",
              "    </tr>\n",
              "    <tr>\n",
              "      <th>973</th>\n",
              "      <td>23731</td>\n",
              "      <td>Married</td>\n",
              "      <td>Male</td>\n",
              "      <td>60000.0</td>\n",
              "      <td>2.0</td>\n",
              "      <td>High School</td>\n",
              "      <td>Professional</td>\n",
              "      <td>Yes</td>\n",
              "      <td>2.0</td>\n",
              "      <td>2-5 Miles</td>\n",
              "      <td>North America</td>\n",
              "      <td>54.0</td>\n",
              "      <td>Yes</td>\n",
              "    </tr>\n",
              "    <tr>\n",
              "      <th>974</th>\n",
              "      <td>28672</td>\n",
              "      <td>Single</td>\n",
              "      <td>Male</td>\n",
              "      <td>70000.0</td>\n",
              "      <td>4.0</td>\n",
              "      <td>Graduate Degree</td>\n",
              "      <td>Professional</td>\n",
              "      <td>Yes</td>\n",
              "      <td>0.0</td>\n",
              "      <td>2-5 Miles</td>\n",
              "      <td>North America</td>\n",
              "      <td>35.0</td>\n",
              "      <td>Yes</td>\n",
              "    </tr>\n",
              "    <tr>\n",
              "      <th>975</th>\n",
              "      <td>19664</td>\n",
              "      <td>Single</td>\n",
              "      <td>Male</td>\n",
              "      <td>100000.0</td>\n",
              "      <td>3.0</td>\n",
              "      <td>Bachelors</td>\n",
              "      <td>Management</td>\n",
              "      <td>No</td>\n",
              "      <td>3.0</td>\n",
              "      <td>1-2 Miles</td>\n",
              "      <td>North America</td>\n",
              "      <td>38.0</td>\n",
              "      <td>No</td>\n",
              "    </tr>\n",
              "    <tr>\n",
              "      <th>976</th>\n",
              "      <td>12121</td>\n",
              "      <td>Single</td>\n",
              "      <td>Male</td>\n",
              "      <td>60000.0</td>\n",
              "      <td>3.0</td>\n",
              "      <td>High School</td>\n",
              "      <td>Professional</td>\n",
              "      <td>Yes</td>\n",
              "      <td>2.0</td>\n",
              "      <td>10+ Miles</td>\n",
              "      <td>North America</td>\n",
              "      <td>53.0</td>\n",
              "      <td>Yes</td>\n",
              "    </tr>\n",
              "  </tbody>\n",
              "</table>\n",
              "<p>977 rows × 13 columns</p>\n",
              "</div>\n",
              "      <button class=\"colab-df-convert\" onclick=\"convertToInteractive('df-ebc2dfa3-6304-44f5-8e14-8d9c28583fe5')\"\n",
              "              title=\"Convert this dataframe to an interactive table.\"\n",
              "              style=\"display:none;\">\n",
              "        \n",
              "  <svg xmlns=\"http://www.w3.org/2000/svg\" height=\"24px\"viewBox=\"0 0 24 24\"\n",
              "       width=\"24px\">\n",
              "    <path d=\"M0 0h24v24H0V0z\" fill=\"none\"/>\n",
              "    <path d=\"M18.56 5.44l.94 2.06.94-2.06 2.06-.94-2.06-.94-.94-2.06-.94 2.06-2.06.94zm-11 1L8.5 8.5l.94-2.06 2.06-.94-2.06-.94L8.5 2.5l-.94 2.06-2.06.94zm10 10l.94 2.06.94-2.06 2.06-.94-2.06-.94-.94-2.06-.94 2.06-2.06.94z\"/><path d=\"M17.41 7.96l-1.37-1.37c-.4-.4-.92-.59-1.43-.59-.52 0-1.04.2-1.43.59L10.3 9.45l-7.72 7.72c-.78.78-.78 2.05 0 2.83L4 21.41c.39.39.9.59 1.41.59.51 0 1.02-.2 1.41-.59l7.78-7.78 2.81-2.81c.8-.78.8-2.07 0-2.86zM5.41 20L4 18.59l7.72-7.72 1.47 1.35L5.41 20z\"/>\n",
              "  </svg>\n",
              "      </button>\n",
              "      \n",
              "  <style>\n",
              "    .colab-df-container {\n",
              "      display:flex;\n",
              "      flex-wrap:wrap;\n",
              "      gap: 12px;\n",
              "    }\n",
              "\n",
              "    .colab-df-convert {\n",
              "      background-color: #E8F0FE;\n",
              "      border: none;\n",
              "      border-radius: 50%;\n",
              "      cursor: pointer;\n",
              "      display: none;\n",
              "      fill: #1967D2;\n",
              "      height: 32px;\n",
              "      padding: 0 0 0 0;\n",
              "      width: 32px;\n",
              "    }\n",
              "\n",
              "    .colab-df-convert:hover {\n",
              "      background-color: #E2EBFA;\n",
              "      box-shadow: 0px 1px 2px rgba(60, 64, 67, 0.3), 0px 1px 3px 1px rgba(60, 64, 67, 0.15);\n",
              "      fill: #174EA6;\n",
              "    }\n",
              "\n",
              "    [theme=dark] .colab-df-convert {\n",
              "      background-color: #3B4455;\n",
              "      fill: #D2E3FC;\n",
              "    }\n",
              "\n",
              "    [theme=dark] .colab-df-convert:hover {\n",
              "      background-color: #434B5C;\n",
              "      box-shadow: 0px 1px 3px 1px rgba(0, 0, 0, 0.15);\n",
              "      filter: drop-shadow(0px 1px 2px rgba(0, 0, 0, 0.3));\n",
              "      fill: #FFFFFF;\n",
              "    }\n",
              "  </style>\n",
              "\n",
              "      <script>\n",
              "        const buttonEl =\n",
              "          document.querySelector('#df-ebc2dfa3-6304-44f5-8e14-8d9c28583fe5 button.colab-df-convert');\n",
              "        buttonEl.style.display =\n",
              "          google.colab.kernel.accessAllowed ? 'block' : 'none';\n",
              "\n",
              "        async function convertToInteractive(key) {\n",
              "          const element = document.querySelector('#df-ebc2dfa3-6304-44f5-8e14-8d9c28583fe5');\n",
              "          const dataTable =\n",
              "            await google.colab.kernel.invokeFunction('convertToInteractive',\n",
              "                                                     [key], {});\n",
              "          if (!dataTable) return;\n",
              "\n",
              "          const docLinkHtml = 'Like what you see? Visit the ' +\n",
              "            '<a target=\"_blank\" href=https://colab.research.google.com/notebooks/data_table.ipynb>data table notebook</a>'\n",
              "            + ' to learn more about interactive tables.';\n",
              "          element.innerHTML = '';\n",
              "          dataTable['output_type'] = 'display_data';\n",
              "          await google.colab.output.renderOutput(dataTable, element);\n",
              "          const docLink = document.createElement('div');\n",
              "          docLink.innerHTML = docLinkHtml;\n",
              "          element.appendChild(docLink);\n",
              "        }\n",
              "      </script>\n",
              "    </div>\n",
              "  </div>\n",
              "  "
            ]
          },
          "metadata": {},
          "execution_count": 95
        }
      ]
    },
    {
      "cell_type": "markdown",
      "source": [
        "Se transforman los datos del dataframe"
      ],
      "metadata": {
        "id": "aIiiqn25GSRP"
      }
    },
    {
      "cell_type": "code",
      "source": [
        "b=compradores.columns\n",
        "b_map = {b[4]:int,\n",
        "         b[8]:int,\n",
        "         b[11]:int}\n",
        "compradores = compradores.astype(b_map)"
      ],
      "metadata": {
        "id": "Y9h_x1sEDHmk"
      },
      "execution_count": 98,
      "outputs": []
    },
    {
      "cell_type": "code",
      "source": [
        "compradores.dtypes"
      ],
      "metadata": {
        "id": "eP1nCM1Md7mo",
        "outputId": "6c96c896-fcf7-40bc-82e4-6e94e4160326",
        "colab": {
          "base_uri": "https://localhost:8080/"
        }
      },
      "execution_count": 99,
      "outputs": [
        {
          "output_type": "execute_result",
          "data": {
            "text/plain": [
              "id                       int64\n",
              "estado_civil            object\n",
              "genero                  object\n",
              "sueldo                 float64\n",
              "hijos                    int64\n",
              "educacion               object\n",
              "profesion               object\n",
              "posee_casa              object\n",
              "coches                   int64\n",
              "distancia_d_viaje       object\n",
              "estado                  object\n",
              "edad                     int64\n",
              "bicicleta_adquirida     object\n",
              "dtype: object"
            ]
          },
          "metadata": {},
          "execution_count": 99
        }
      ]
    },
    {
      "cell_type": "code",
      "source": [
        "compradores"
      ],
      "metadata": {
        "id": "rkrQSZx7f_hT",
        "outputId": "a6065dde-c96d-4ce0-b583-613474acef48",
        "colab": {
          "base_uri": "https://localhost:8080/",
          "height": 424
        }
      },
      "execution_count": 100,
      "outputs": [
        {
          "output_type": "execute_result",
          "data": {
            "text/plain": [
              "        id estado_civil  genero    sueldo  hijos        educacion  \\\n",
              "0    12496      Married  Female   40000.0      1        Bachelors   \n",
              "1    24107      Married    Male   30000.0      3  Partial College   \n",
              "2    14177      Married    Male   80000.0      5  Partial College   \n",
              "3    25597       Single    Male   30000.0      0        Bachelors   \n",
              "4    13507      Married  Female   10000.0      2  Partial College   \n",
              "..     ...          ...     ...       ...    ...              ...   \n",
              "972  13466      Married    Male   80000.0      5  Partial College   \n",
              "973  23731      Married    Male   60000.0      2      High School   \n",
              "974  28672       Single    Male   70000.0      4  Graduate Degree   \n",
              "975  19664       Single    Male  100000.0      3        Bachelors   \n",
              "976  12121       Single    Male   60000.0      3      High School   \n",
              "\n",
              "          profesion posee_casa  coches distancia_d_viaje         estado  edad  \\\n",
              "0    Skilled Manual        Yes       0         0-1 Miles         Europe    42   \n",
              "1          Clerical        Yes       1         0-1 Miles         Europe    43   \n",
              "2      Professional         No       2         2-5 Miles         Europe    60   \n",
              "3          Clerical         No       0         0-1 Miles         Europe    36   \n",
              "4            Manual        Yes       0         1-2 Miles         Europe    50   \n",
              "..              ...        ...     ...               ...            ...   ...   \n",
              "972    Professional        Yes       3         1-2 Miles  North America    46   \n",
              "973    Professional        Yes       2         2-5 Miles  North America    54   \n",
              "974    Professional        Yes       0         2-5 Miles  North America    35   \n",
              "975      Management         No       3         1-2 Miles  North America    38   \n",
              "976    Professional        Yes       2         10+ Miles  North America    53   \n",
              "\n",
              "    bicicleta_adquirida  \n",
              "0                    No  \n",
              "1                    No  \n",
              "2                    No  \n",
              "3                   Yes  \n",
              "4                    No  \n",
              "..                  ...  \n",
              "972                  No  \n",
              "973                 Yes  \n",
              "974                 Yes  \n",
              "975                  No  \n",
              "976                 Yes  \n",
              "\n",
              "[977 rows x 13 columns]"
            ],
            "text/html": [
              "\n",
              "  <div id=\"df-80eaad4e-3f13-4a54-8413-f66a81b5bbd0\">\n",
              "    <div class=\"colab-df-container\">\n",
              "      <div>\n",
              "<style scoped>\n",
              "    .dataframe tbody tr th:only-of-type {\n",
              "        vertical-align: middle;\n",
              "    }\n",
              "\n",
              "    .dataframe tbody tr th {\n",
              "        vertical-align: top;\n",
              "    }\n",
              "\n",
              "    .dataframe thead th {\n",
              "        text-align: right;\n",
              "    }\n",
              "</style>\n",
              "<table border=\"1\" class=\"dataframe\">\n",
              "  <thead>\n",
              "    <tr style=\"text-align: right;\">\n",
              "      <th></th>\n",
              "      <th>id</th>\n",
              "      <th>estado_civil</th>\n",
              "      <th>genero</th>\n",
              "      <th>sueldo</th>\n",
              "      <th>hijos</th>\n",
              "      <th>educacion</th>\n",
              "      <th>profesion</th>\n",
              "      <th>posee_casa</th>\n",
              "      <th>coches</th>\n",
              "      <th>distancia_d_viaje</th>\n",
              "      <th>estado</th>\n",
              "      <th>edad</th>\n",
              "      <th>bicicleta_adquirida</th>\n",
              "    </tr>\n",
              "  </thead>\n",
              "  <tbody>\n",
              "    <tr>\n",
              "      <th>0</th>\n",
              "      <td>12496</td>\n",
              "      <td>Married</td>\n",
              "      <td>Female</td>\n",
              "      <td>40000.0</td>\n",
              "      <td>1</td>\n",
              "      <td>Bachelors</td>\n",
              "      <td>Skilled Manual</td>\n",
              "      <td>Yes</td>\n",
              "      <td>0</td>\n",
              "      <td>0-1 Miles</td>\n",
              "      <td>Europe</td>\n",
              "      <td>42</td>\n",
              "      <td>No</td>\n",
              "    </tr>\n",
              "    <tr>\n",
              "      <th>1</th>\n",
              "      <td>24107</td>\n",
              "      <td>Married</td>\n",
              "      <td>Male</td>\n",
              "      <td>30000.0</td>\n",
              "      <td>3</td>\n",
              "      <td>Partial College</td>\n",
              "      <td>Clerical</td>\n",
              "      <td>Yes</td>\n",
              "      <td>1</td>\n",
              "      <td>0-1 Miles</td>\n",
              "      <td>Europe</td>\n",
              "      <td>43</td>\n",
              "      <td>No</td>\n",
              "    </tr>\n",
              "    <tr>\n",
              "      <th>2</th>\n",
              "      <td>14177</td>\n",
              "      <td>Married</td>\n",
              "      <td>Male</td>\n",
              "      <td>80000.0</td>\n",
              "      <td>5</td>\n",
              "      <td>Partial College</td>\n",
              "      <td>Professional</td>\n",
              "      <td>No</td>\n",
              "      <td>2</td>\n",
              "      <td>2-5 Miles</td>\n",
              "      <td>Europe</td>\n",
              "      <td>60</td>\n",
              "      <td>No</td>\n",
              "    </tr>\n",
              "    <tr>\n",
              "      <th>3</th>\n",
              "      <td>25597</td>\n",
              "      <td>Single</td>\n",
              "      <td>Male</td>\n",
              "      <td>30000.0</td>\n",
              "      <td>0</td>\n",
              "      <td>Bachelors</td>\n",
              "      <td>Clerical</td>\n",
              "      <td>No</td>\n",
              "      <td>0</td>\n",
              "      <td>0-1 Miles</td>\n",
              "      <td>Europe</td>\n",
              "      <td>36</td>\n",
              "      <td>Yes</td>\n",
              "    </tr>\n",
              "    <tr>\n",
              "      <th>4</th>\n",
              "      <td>13507</td>\n",
              "      <td>Married</td>\n",
              "      <td>Female</td>\n",
              "      <td>10000.0</td>\n",
              "      <td>2</td>\n",
              "      <td>Partial College</td>\n",
              "      <td>Manual</td>\n",
              "      <td>Yes</td>\n",
              "      <td>0</td>\n",
              "      <td>1-2 Miles</td>\n",
              "      <td>Europe</td>\n",
              "      <td>50</td>\n",
              "      <td>No</td>\n",
              "    </tr>\n",
              "    <tr>\n",
              "      <th>...</th>\n",
              "      <td>...</td>\n",
              "      <td>...</td>\n",
              "      <td>...</td>\n",
              "      <td>...</td>\n",
              "      <td>...</td>\n",
              "      <td>...</td>\n",
              "      <td>...</td>\n",
              "      <td>...</td>\n",
              "      <td>...</td>\n",
              "      <td>...</td>\n",
              "      <td>...</td>\n",
              "      <td>...</td>\n",
              "      <td>...</td>\n",
              "    </tr>\n",
              "    <tr>\n",
              "      <th>972</th>\n",
              "      <td>13466</td>\n",
              "      <td>Married</td>\n",
              "      <td>Male</td>\n",
              "      <td>80000.0</td>\n",
              "      <td>5</td>\n",
              "      <td>Partial College</td>\n",
              "      <td>Professional</td>\n",
              "      <td>Yes</td>\n",
              "      <td>3</td>\n",
              "      <td>1-2 Miles</td>\n",
              "      <td>North America</td>\n",
              "      <td>46</td>\n",
              "      <td>No</td>\n",
              "    </tr>\n",
              "    <tr>\n",
              "      <th>973</th>\n",
              "      <td>23731</td>\n",
              "      <td>Married</td>\n",
              "      <td>Male</td>\n",
              "      <td>60000.0</td>\n",
              "      <td>2</td>\n",
              "      <td>High School</td>\n",
              "      <td>Professional</td>\n",
              "      <td>Yes</td>\n",
              "      <td>2</td>\n",
              "      <td>2-5 Miles</td>\n",
              "      <td>North America</td>\n",
              "      <td>54</td>\n",
              "      <td>Yes</td>\n",
              "    </tr>\n",
              "    <tr>\n",
              "      <th>974</th>\n",
              "      <td>28672</td>\n",
              "      <td>Single</td>\n",
              "      <td>Male</td>\n",
              "      <td>70000.0</td>\n",
              "      <td>4</td>\n",
              "      <td>Graduate Degree</td>\n",
              "      <td>Professional</td>\n",
              "      <td>Yes</td>\n",
              "      <td>0</td>\n",
              "      <td>2-5 Miles</td>\n",
              "      <td>North America</td>\n",
              "      <td>35</td>\n",
              "      <td>Yes</td>\n",
              "    </tr>\n",
              "    <tr>\n",
              "      <th>975</th>\n",
              "      <td>19664</td>\n",
              "      <td>Single</td>\n",
              "      <td>Male</td>\n",
              "      <td>100000.0</td>\n",
              "      <td>3</td>\n",
              "      <td>Bachelors</td>\n",
              "      <td>Management</td>\n",
              "      <td>No</td>\n",
              "      <td>3</td>\n",
              "      <td>1-2 Miles</td>\n",
              "      <td>North America</td>\n",
              "      <td>38</td>\n",
              "      <td>No</td>\n",
              "    </tr>\n",
              "    <tr>\n",
              "      <th>976</th>\n",
              "      <td>12121</td>\n",
              "      <td>Single</td>\n",
              "      <td>Male</td>\n",
              "      <td>60000.0</td>\n",
              "      <td>3</td>\n",
              "      <td>High School</td>\n",
              "      <td>Professional</td>\n",
              "      <td>Yes</td>\n",
              "      <td>2</td>\n",
              "      <td>10+ Miles</td>\n",
              "      <td>North America</td>\n",
              "      <td>53</td>\n",
              "      <td>Yes</td>\n",
              "    </tr>\n",
              "  </tbody>\n",
              "</table>\n",
              "<p>977 rows × 13 columns</p>\n",
              "</div>\n",
              "      <button class=\"colab-df-convert\" onclick=\"convertToInteractive('df-80eaad4e-3f13-4a54-8413-f66a81b5bbd0')\"\n",
              "              title=\"Convert this dataframe to an interactive table.\"\n",
              "              style=\"display:none;\">\n",
              "        \n",
              "  <svg xmlns=\"http://www.w3.org/2000/svg\" height=\"24px\"viewBox=\"0 0 24 24\"\n",
              "       width=\"24px\">\n",
              "    <path d=\"M0 0h24v24H0V0z\" fill=\"none\"/>\n",
              "    <path d=\"M18.56 5.44l.94 2.06.94-2.06 2.06-.94-2.06-.94-.94-2.06-.94 2.06-2.06.94zm-11 1L8.5 8.5l.94-2.06 2.06-.94-2.06-.94L8.5 2.5l-.94 2.06-2.06.94zm10 10l.94 2.06.94-2.06 2.06-.94-2.06-.94-.94-2.06-.94 2.06-2.06.94z\"/><path d=\"M17.41 7.96l-1.37-1.37c-.4-.4-.92-.59-1.43-.59-.52 0-1.04.2-1.43.59L10.3 9.45l-7.72 7.72c-.78.78-.78 2.05 0 2.83L4 21.41c.39.39.9.59 1.41.59.51 0 1.02-.2 1.41-.59l7.78-7.78 2.81-2.81c.8-.78.8-2.07 0-2.86zM5.41 20L4 18.59l7.72-7.72 1.47 1.35L5.41 20z\"/>\n",
              "  </svg>\n",
              "      </button>\n",
              "      \n",
              "  <style>\n",
              "    .colab-df-container {\n",
              "      display:flex;\n",
              "      flex-wrap:wrap;\n",
              "      gap: 12px;\n",
              "    }\n",
              "\n",
              "    .colab-df-convert {\n",
              "      background-color: #E8F0FE;\n",
              "      border: none;\n",
              "      border-radius: 50%;\n",
              "      cursor: pointer;\n",
              "      display: none;\n",
              "      fill: #1967D2;\n",
              "      height: 32px;\n",
              "      padding: 0 0 0 0;\n",
              "      width: 32px;\n",
              "    }\n",
              "\n",
              "    .colab-df-convert:hover {\n",
              "      background-color: #E2EBFA;\n",
              "      box-shadow: 0px 1px 2px rgba(60, 64, 67, 0.3), 0px 1px 3px 1px rgba(60, 64, 67, 0.15);\n",
              "      fill: #174EA6;\n",
              "    }\n",
              "\n",
              "    [theme=dark] .colab-df-convert {\n",
              "      background-color: #3B4455;\n",
              "      fill: #D2E3FC;\n",
              "    }\n",
              "\n",
              "    [theme=dark] .colab-df-convert:hover {\n",
              "      background-color: #434B5C;\n",
              "      box-shadow: 0px 1px 3px 1px rgba(0, 0, 0, 0.15);\n",
              "      filter: drop-shadow(0px 1px 2px rgba(0, 0, 0, 0.3));\n",
              "      fill: #FFFFFF;\n",
              "    }\n",
              "  </style>\n",
              "\n",
              "      <script>\n",
              "        const buttonEl =\n",
              "          document.querySelector('#df-80eaad4e-3f13-4a54-8413-f66a81b5bbd0 button.colab-df-convert');\n",
              "        buttonEl.style.display =\n",
              "          google.colab.kernel.accessAllowed ? 'block' : 'none';\n",
              "\n",
              "        async function convertToInteractive(key) {\n",
              "          const element = document.querySelector('#df-80eaad4e-3f13-4a54-8413-f66a81b5bbd0');\n",
              "          const dataTable =\n",
              "            await google.colab.kernel.invokeFunction('convertToInteractive',\n",
              "                                                     [key], {});\n",
              "          if (!dataTable) return;\n",
              "\n",
              "          const docLinkHtml = 'Like what you see? Visit the ' +\n",
              "            '<a target=\"_blank\" href=https://colab.research.google.com/notebooks/data_table.ipynb>data table notebook</a>'\n",
              "            + ' to learn more about interactive tables.';\n",
              "          element.innerHTML = '';\n",
              "          dataTable['output_type'] = 'display_data';\n",
              "          await google.colab.output.renderOutput(dataTable, element);\n",
              "          const docLink = document.createElement('div');\n",
              "          docLink.innerHTML = docLinkHtml;\n",
              "          element.appendChild(docLink);\n",
              "        }\n",
              "      </script>\n",
              "    </div>\n",
              "  </div>\n",
              "  "
            ]
          },
          "metadata": {},
          "execution_count": 100
        }
      ]
    },
    {
      "cell_type": "code",
      "source": [
        "compradores.groupby(['bicicleta_adquirida','genero','']).size()"
      ],
      "metadata": {
        "id": "8qkQ6W88gKNH",
        "outputId": "86164db9-f2bb-4553-80d3-7fe95fc12ee6",
        "colab": {
          "base_uri": "https://localhost:8080/"
        }
      },
      "execution_count": 102,
      "outputs": [
        {
          "output_type": "execute_result",
          "data": {
            "text/plain": [
              "bicicleta_adquirida  genero\n",
              "No                   Female    250\n",
              "                     Male      258\n",
              "Yes                  Female    236\n",
              "                     Male      233\n",
              "dtype: int64"
            ]
          },
          "metadata": {},
          "execution_count": 102
        }
      ]
    },
    {
      "cell_type": "code",
      "source": [
        "compradores.groupby(['genero','estado_civil'],dropna=False).size()"
      ],
      "metadata": {
        "id": "TcO7aW05KvO-",
        "outputId": "23de44e4-8a78-4cbb-fa9a-2b0dda454056",
        "colab": {
          "base_uri": "https://localhost:8080/"
        }
      },
      "execution_count": 67,
      "outputs": [
        {
          "output_type": "execute_result",
          "data": {
            "text/plain": [
              "genero  estado_civil\n",
              "Female  Married         108\n",
              "        Single          130\n",
              "        NaN               1\n",
              "Male    Married         120\n",
              "        Single          115\n",
              "        NaN               4\n",
              "NaN     Married           1\n",
              "        Single            2\n",
              "dtype: int64"
            ]
          },
          "metadata": {},
          "execution_count": 67
        }
      ]
    },
    {
      "cell_type": "markdown",
      "source": [
        "Se tomara la decision de crear un nuevo DataFrame, de tal forma que este sea formado por todos aquellos que compraron una bicicleta. El cual nos servira para complementar el conjunto de datos \"Bike Sales\"."
      ],
      "metadata": {
        "id": "HlAUC0oo_5u8"
      }
    },
    {
      "cell_type": "code",
      "source": [],
      "metadata": {
        "id": "RveE6OSYASjJ"
      },
      "execution_count": null,
      "outputs": []
    },
    {
      "cell_type": "code",
      "source": [],
      "metadata": {
        "id": "M0kUw5wQ_zPR"
      },
      "execution_count": null,
      "outputs": []
    },
    {
      "cell_type": "code",
      "source": [
        "compradores.head()"
      ],
      "metadata": {
        "id": "xW_x6zkd_j61",
        "outputId": "e9227c66-279c-4487-8dc2-1da9e6e49d0e",
        "colab": {
          "base_uri": "https://localhost:8080/",
          "height": 206
        }
      },
      "execution_count": 25,
      "outputs": [
        {
          "output_type": "execute_result",
          "data": {
            "text/plain": [
              "      ID Marital Status  Gender   Income  Children        Education  \\\n",
              "0  12496        Married  Female  40000.0       1.0        Bachelors   \n",
              "1  24107        Married    Male  30000.0       3.0  Partial College   \n",
              "2  14177        Married    Male  80000.0       5.0  Partial College   \n",
              "3  24381         Single     NaN  70000.0       0.0        Bachelors   \n",
              "4  25597         Single    Male  30000.0       0.0        Bachelors   \n",
              "\n",
              "       Occupation Home Owner  Cars Commute Distance   Region   Age  \\\n",
              "0  Skilled Manual        Yes   0.0        0-1 Miles   Europe  42.0   \n",
              "1        Clerical        Yes   1.0        0-1 Miles   Europe  43.0   \n",
              "2    Professional         No   2.0        2-5 Miles   Europe  60.0   \n",
              "3    Professional        Yes   1.0       5-10 Miles  Pacific  41.0   \n",
              "4        Clerical         No   0.0        0-1 Miles   Europe  36.0   \n",
              "\n",
              "  Purchased Bike  \n",
              "0             No  \n",
              "1             No  \n",
              "2             No  \n",
              "3            Yes  \n",
              "4            Yes  "
            ],
            "text/html": [
              "\n",
              "  <div id=\"df-3e31a080-3a3e-48d9-bdc4-4174a787be9d\">\n",
              "    <div class=\"colab-df-container\">\n",
              "      <div>\n",
              "<style scoped>\n",
              "    .dataframe tbody tr th:only-of-type {\n",
              "        vertical-align: middle;\n",
              "    }\n",
              "\n",
              "    .dataframe tbody tr th {\n",
              "        vertical-align: top;\n",
              "    }\n",
              "\n",
              "    .dataframe thead th {\n",
              "        text-align: right;\n",
              "    }\n",
              "</style>\n",
              "<table border=\"1\" class=\"dataframe\">\n",
              "  <thead>\n",
              "    <tr style=\"text-align: right;\">\n",
              "      <th></th>\n",
              "      <th>ID</th>\n",
              "      <th>Marital Status</th>\n",
              "      <th>Gender</th>\n",
              "      <th>Income</th>\n",
              "      <th>Children</th>\n",
              "      <th>Education</th>\n",
              "      <th>Occupation</th>\n",
              "      <th>Home Owner</th>\n",
              "      <th>Cars</th>\n",
              "      <th>Commute Distance</th>\n",
              "      <th>Region</th>\n",
              "      <th>Age</th>\n",
              "      <th>Purchased Bike</th>\n",
              "    </tr>\n",
              "  </thead>\n",
              "  <tbody>\n",
              "    <tr>\n",
              "      <th>0</th>\n",
              "      <td>12496</td>\n",
              "      <td>Married</td>\n",
              "      <td>Female</td>\n",
              "      <td>40000.0</td>\n",
              "      <td>1.0</td>\n",
              "      <td>Bachelors</td>\n",
              "      <td>Skilled Manual</td>\n",
              "      <td>Yes</td>\n",
              "      <td>0.0</td>\n",
              "      <td>0-1 Miles</td>\n",
              "      <td>Europe</td>\n",
              "      <td>42.0</td>\n",
              "      <td>No</td>\n",
              "    </tr>\n",
              "    <tr>\n",
              "      <th>1</th>\n",
              "      <td>24107</td>\n",
              "      <td>Married</td>\n",
              "      <td>Male</td>\n",
              "      <td>30000.0</td>\n",
              "      <td>3.0</td>\n",
              "      <td>Partial College</td>\n",
              "      <td>Clerical</td>\n",
              "      <td>Yes</td>\n",
              "      <td>1.0</td>\n",
              "      <td>0-1 Miles</td>\n",
              "      <td>Europe</td>\n",
              "      <td>43.0</td>\n",
              "      <td>No</td>\n",
              "    </tr>\n",
              "    <tr>\n",
              "      <th>2</th>\n",
              "      <td>14177</td>\n",
              "      <td>Married</td>\n",
              "      <td>Male</td>\n",
              "      <td>80000.0</td>\n",
              "      <td>5.0</td>\n",
              "      <td>Partial College</td>\n",
              "      <td>Professional</td>\n",
              "      <td>No</td>\n",
              "      <td>2.0</td>\n",
              "      <td>2-5 Miles</td>\n",
              "      <td>Europe</td>\n",
              "      <td>60.0</td>\n",
              "      <td>No</td>\n",
              "    </tr>\n",
              "    <tr>\n",
              "      <th>3</th>\n",
              "      <td>24381</td>\n",
              "      <td>Single</td>\n",
              "      <td>NaN</td>\n",
              "      <td>70000.0</td>\n",
              "      <td>0.0</td>\n",
              "      <td>Bachelors</td>\n",
              "      <td>Professional</td>\n",
              "      <td>Yes</td>\n",
              "      <td>1.0</td>\n",
              "      <td>5-10 Miles</td>\n",
              "      <td>Pacific</td>\n",
              "      <td>41.0</td>\n",
              "      <td>Yes</td>\n",
              "    </tr>\n",
              "    <tr>\n",
              "      <th>4</th>\n",
              "      <td>25597</td>\n",
              "      <td>Single</td>\n",
              "      <td>Male</td>\n",
              "      <td>30000.0</td>\n",
              "      <td>0.0</td>\n",
              "      <td>Bachelors</td>\n",
              "      <td>Clerical</td>\n",
              "      <td>No</td>\n",
              "      <td>0.0</td>\n",
              "      <td>0-1 Miles</td>\n",
              "      <td>Europe</td>\n",
              "      <td>36.0</td>\n",
              "      <td>Yes</td>\n",
              "    </tr>\n",
              "  </tbody>\n",
              "</table>\n",
              "</div>\n",
              "      <button class=\"colab-df-convert\" onclick=\"convertToInteractive('df-3e31a080-3a3e-48d9-bdc4-4174a787be9d')\"\n",
              "              title=\"Convert this dataframe to an interactive table.\"\n",
              "              style=\"display:none;\">\n",
              "        \n",
              "  <svg xmlns=\"http://www.w3.org/2000/svg\" height=\"24px\"viewBox=\"0 0 24 24\"\n",
              "       width=\"24px\">\n",
              "    <path d=\"M0 0h24v24H0V0z\" fill=\"none\"/>\n",
              "    <path d=\"M18.56 5.44l.94 2.06.94-2.06 2.06-.94-2.06-.94-.94-2.06-.94 2.06-2.06.94zm-11 1L8.5 8.5l.94-2.06 2.06-.94-2.06-.94L8.5 2.5l-.94 2.06-2.06.94zm10 10l.94 2.06.94-2.06 2.06-.94-2.06-.94-.94-2.06-.94 2.06-2.06.94z\"/><path d=\"M17.41 7.96l-1.37-1.37c-.4-.4-.92-.59-1.43-.59-.52 0-1.04.2-1.43.59L10.3 9.45l-7.72 7.72c-.78.78-.78 2.05 0 2.83L4 21.41c.39.39.9.59 1.41.59.51 0 1.02-.2 1.41-.59l7.78-7.78 2.81-2.81c.8-.78.8-2.07 0-2.86zM5.41 20L4 18.59l7.72-7.72 1.47 1.35L5.41 20z\"/>\n",
              "  </svg>\n",
              "      </button>\n",
              "      \n",
              "  <style>\n",
              "    .colab-df-container {\n",
              "      display:flex;\n",
              "      flex-wrap:wrap;\n",
              "      gap: 12px;\n",
              "    }\n",
              "\n",
              "    .colab-df-convert {\n",
              "      background-color: #E8F0FE;\n",
              "      border: none;\n",
              "      border-radius: 50%;\n",
              "      cursor: pointer;\n",
              "      display: none;\n",
              "      fill: #1967D2;\n",
              "      height: 32px;\n",
              "      padding: 0 0 0 0;\n",
              "      width: 32px;\n",
              "    }\n",
              "\n",
              "    .colab-df-convert:hover {\n",
              "      background-color: #E2EBFA;\n",
              "      box-shadow: 0px 1px 2px rgba(60, 64, 67, 0.3), 0px 1px 3px 1px rgba(60, 64, 67, 0.15);\n",
              "      fill: #174EA6;\n",
              "    }\n",
              "\n",
              "    [theme=dark] .colab-df-convert {\n",
              "      background-color: #3B4455;\n",
              "      fill: #D2E3FC;\n",
              "    }\n",
              "\n",
              "    [theme=dark] .colab-df-convert:hover {\n",
              "      background-color: #434B5C;\n",
              "      box-shadow: 0px 1px 3px 1px rgba(0, 0, 0, 0.15);\n",
              "      filter: drop-shadow(0px 1px 2px rgba(0, 0, 0, 0.3));\n",
              "      fill: #FFFFFF;\n",
              "    }\n",
              "  </style>\n",
              "\n",
              "      <script>\n",
              "        const buttonEl =\n",
              "          document.querySelector('#df-3e31a080-3a3e-48d9-bdc4-4174a787be9d button.colab-df-convert');\n",
              "        buttonEl.style.display =\n",
              "          google.colab.kernel.accessAllowed ? 'block' : 'none';\n",
              "\n",
              "        async function convertToInteractive(key) {\n",
              "          const element = document.querySelector('#df-3e31a080-3a3e-48d9-bdc4-4174a787be9d');\n",
              "          const dataTable =\n",
              "            await google.colab.kernel.invokeFunction('convertToInteractive',\n",
              "                                                     [key], {});\n",
              "          if (!dataTable) return;\n",
              "\n",
              "          const docLinkHtml = 'Like what you see? Visit the ' +\n",
              "            '<a target=\"_blank\" href=https://colab.research.google.com/notebooks/data_table.ipynb>data table notebook</a>'\n",
              "            + ' to learn more about interactive tables.';\n",
              "          element.innerHTML = '';\n",
              "          dataTable['output_type'] = 'display_data';\n",
              "          await google.colab.output.renderOutput(dataTable, element);\n",
              "          const docLink = document.createElement('div');\n",
              "          docLink.innerHTML = docLinkHtml;\n",
              "          element.appendChild(docLink);\n",
              "        }\n",
              "      </script>\n",
              "    </div>\n",
              "  </div>\n",
              "  "
            ]
          },
          "metadata": {},
          "execution_count": 25
        }
      ]
    },
    {
      "cell_type": "code",
      "source": [],
      "metadata": {
        "id": "8MbfSzXp_T0O"
      },
      "execution_count": null,
      "outputs": []
    },
    {
      "cell_type": "markdown",
      "source": [
        "Se observa que Children, Cars y Age son de tipo float cuando deberian de ser de tipo int. Por lo que procederemos a cambiar el tipo de dato. Por otro lado, renombraremos las columnas asi como el formato de los nombres a snake_case. "
      ],
      "metadata": {
        "id": "cyDIBwWr9bmc"
      }
    },
    {
      "cell_type": "code",
      "source": [],
      "metadata": {
        "id": "SUx3cmMX-V07"
      },
      "execution_count": null,
      "outputs": []
    },
    {
      "cell_type": "code",
      "source": [
        "compradores_names = {'ID':'id',\n",
        "               Matiras}"
      ],
      "metadata": {
        "id": "dI0V6qEe9ayl"
      },
      "execution_count": null,
      "outputs": []
    },
    {
      "cell_type": "code",
      "source": [],
      "metadata": {
        "id": "GG0qb0VK1KBG"
      },
      "execution_count": null,
      "outputs": []
    },
    {
      "cell_type": "markdown",
      "source": [
        "<a id=\"analisis\"></a>\n",
        "# <font color=green>Análisis Exploratorio de nuestro Dataset</font>\n",
        "\n",
        "En esta sección se busco responder las siguientes preguntas:\n",
        "\n",
        "1. ¿El conjunto de datos que tengo realmente me sirve para responder algunas de las preguntas que me planteé?\n",
        "> Luego de un primer analisis, se encont´ro que los data sets si pueden responder algunas de las preguntas planteadas ...\n",
        "2. ¿Qué tamaño tiene mi conjunto de datos? ¿Serán datos suficientes?\n",
        "> El tamaño de los distintos datasets son ...\n",
        "3. ¿Qué columnas tengo y qué información tengo en cada una de esas columnas?\n",
        "> Combinado cada uno de los dat sets y usando la funcion \"\" de pandas, se tienen las siguientes columnas.\n",
        "4. Los nombres que tienen mis columnas, ¿son el nombre más apropiado?\n",
        "> Para una mejor comprensión de los datos, se decició cambiar los nombres de las columnas a nombres más aporpiados, usando la función \"\".\n",
        "5. ¿Qué tipos de datos tengo en cada columna? ¿Parecen ser el tipo correcto de datos? ¿O es un tipo de datos \"incorrecto\"?\n",
        "> Algunas columnas tenias tipos de datos no muy utiles pra las siguientes fases de la ciencia de datos, por lo que se deicidió cambairlos usando las funciones \"\" y \"\".\n",
        "6. Si selecciono algunas filas al azar y las observo, ¿estoy obteniendo los datos que debería? ¿o hay datos que parecen estar \"sucios\" o \"incorrectos\"?\n",
        "> Se observó algunos datos incorrectos o faltantes, por lo que se procedió a limpiarlos usando las funciones \"\", \"\", ..."
      ],
      "metadata": {
        "id": "bJVUo0YRaa-T"
      }
    },
    {
      "cell_type": "markdown",
      "source": [
        "<a id=\"limpieza\"></a>\n",
        "# <font color=green> Limpieza de datos y agregaciones </font>\n",
        "\n",
        "En esta sección hicimos una limpieza de nuestros dataSets. Para ello, se sigueron los siguientes pasos:\n",
        "\n",
        "1. Encontrar los NaNs que contiene\n",
        "> Para determinar si los DataFrames tenian valores NaNs, se utilizó el metodo de pandas \".isna().sum()\" para obtener la cantidad de Nans de cada columna.\n",
        "Tras realizar este metodo a nuestro primer data frame (\"Bike Sales\") nos damos cuenta que este no presenta Nans. Mientras que nuestro segundo data frame (\"Bike Buyers 1000\") si presenta Nans. \n",
        "2. ¿Qué se hicieron con los NaNs?\n",
        "> \n",
        "3. Reindexo del DataSet\n",
        "\n",
        "4. Agregaciones al DataFrame"
      ],
      "metadata": {
        "id": "FClC45zYdaU7"
      }
    },
    {
      "cell_type": "code",
      "source": [],
      "metadata": {
        "id": "TqNUG26P-ctE"
      },
      "execution_count": null,
      "outputs": []
    },
    {
      "cell_type": "markdown",
      "source": [
        "<a id=\"API\"></a>\n",
        "# <font color=green> Automatización y APIs </font>\n",
        "\n",
        "Dado que se encontró un API interesante para el problema que se pelanteó, se decició usar uno y aplicar los pasos requeridos en esta sección, asi como el mismo analisis que se aplicó en las secciones nateriores. Para esto, se siguieron los siguientes pasos:\n",
        "\n",
        "1. Encontrar el API\n",
        "2. Leer la documentación\n",
        "3. Realizar algunas peticiones de prueba\n",
        "4. Automatizar el proceso de construcción del dataset\n",
        "5 Explorar y limpiar el dataset\n",
        "6. Unir los DataSet"
      ],
      "metadata": {
        "id": "6xW7uLLvAI3n"
      }
    },
    {
      "cell_type": "code",
      "source": [],
      "metadata": {
        "id": "UZ-NzB1gBxgE"
      },
      "execution_count": null,
      "outputs": []
    },
    {
      "cell_type": "markdown",
      "source": [
        "<a id=\"ordenar\"></a>\n",
        "# <font color=green>Transformación, filtración y ordenamiento de datos </font>"
      ],
      "metadata": {
        "id": "ZWuNiXXfByJN"
      }
    },
    {
      "cell_type": "code",
      "source": [],
      "metadata": {
        "id": "XRHaejH2C8zJ"
      },
      "execution_count": null,
      "outputs": []
    },
    {
      "cell_type": "markdown",
      "source": [
        "<a id=\"futuro\"></a>\n",
        "# <font color=green> Planes a futuro </font>\n",
        "\n",
        "1. ¿Qué podemos hacer con los datos que tenemos?\n",
        "2. ¿Qué nos gustaría analizar?\n",
        "3. ¿Qué información está disponible en los datos?\n",
        "4. ¿Cómo podriamos ayudar a entender mejor los datos usando gráficas y visualizaciones? "
      ],
      "metadata": {
        "id": "_yZZvmG7C9UU"
      }
    }
  ]
}