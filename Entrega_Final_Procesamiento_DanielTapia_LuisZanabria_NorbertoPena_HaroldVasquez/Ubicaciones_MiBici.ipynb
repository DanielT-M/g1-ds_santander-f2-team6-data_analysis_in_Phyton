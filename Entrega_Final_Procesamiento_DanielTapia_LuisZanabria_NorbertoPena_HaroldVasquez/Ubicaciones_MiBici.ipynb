{
  "nbformat": 4,
  "nbformat_minor": 0,
  "metadata": {
    "colab": {
      "provenance": []
    },
    "kernelspec": {
      "name": "python3",
      "display_name": "Python 3"
    },
    "language_info": {
      "name": "python"
    }
  },
  "cells": [
    {
      "cell_type": "markdown",
      "source": [
        "#Encontrar un DataFrame con las ubicaciones de MiBici en el estado de Jalisco\n",
        "\n",
        "El servicio de MiBici es ofrecido en las ciudades de Guadalajara (GDL), Zapopán (ZPN) y Tlaquepaque(TLQ).\n",
        "Buscamos un DataFrame que nos de la inforación para ubicar las estaciones de bicicletas para renta. Para esto se extrae información de la API del proyecto global Citybik."
      ],
      "metadata": {
        "id": "6_iKF4H-c6xw"
      }
    },
    {
      "cell_type": "code",
      "execution_count": 1,
      "metadata": {
        "id": "YcB1_Trg9dh6"
      },
      "outputs": [],
      "source": [
        "## Imports necesarios\n",
        "import requests\n",
        "import pandas as pd\n",
        "import numpy as np"
      ]
    },
    {
      "cell_type": "code",
      "source": [
        "endpoint = 'https://api.citybik.es/v2/networks/mibici-guadalajara'\n",
        "r = requests.get(endpoint)\n",
        "r.status_code"
      ],
      "metadata": {
        "colab": {
          "base_uri": "https://localhost:8080/"
        },
        "id": "9Ez_rE7y9e2h",
        "outputId": "63acc440-62ca-4f34-f6e1-3b4f49ef0dc2"
      },
      "execution_count": 2,
      "outputs": [
        {
          "output_type": "execute_result",
          "data": {
            "text/plain": [
              "200"
            ]
          },
          "metadata": {},
          "execution_count": 2
        }
      ]
    },
    {
      "cell_type": "code",
      "source": [
        "json = r.json()\n",
        "Info_MIBICI =  pd.json_normalize(json)\n",
        "Info_MIBICI"
      ],
      "metadata": {
        "colab": {
          "base_uri": "https://localhost:8080/",
          "height": 197
        },
        "id": "-3RcLi1y9ezu",
        "outputId": "bb3f2740-3041-4440-d776-dab98017978b"
      },
      "execution_count": 3,
      "outputs": [
        {
          "output_type": "execute_result",
          "data": {
            "text/plain": [
              "                                     network.company  \\\n",
              "0  [BKT bici publica S.A. de C.V., PBSC Urban Sol...   \n",
              "\n",
              "                                network.gbfs_href  \\\n",
              "0  https://guad.publicbikesystem.net/ube/gbfs/v1/   \n",
              "\n",
              "                      network.href          network.id network.location.city  \\\n",
              "0  /v2/networks/mibici-guadalajara  mibici-guadalajara           Guadalajara   \n",
              "\n",
              "  network.location.country  network.location.latitude  \\\n",
              "0                       MX                  20.673788   \n",
              "\n",
              "   network.location.longitude network.name  \\\n",
              "0                 -103.370433       MIBICI   \n",
              "\n",
              "                                    network.stations  \n",
              "0  [{'empty_slots': 11, 'extra': {'address': '(ZP...  "
            ],
            "text/html": [
              "\n",
              "  <div id=\"df-9c6d9237-d58c-4521-b847-d4a6f73ff21d\">\n",
              "    <div class=\"colab-df-container\">\n",
              "      <div>\n",
              "<style scoped>\n",
              "    .dataframe tbody tr th:only-of-type {\n",
              "        vertical-align: middle;\n",
              "    }\n",
              "\n",
              "    .dataframe tbody tr th {\n",
              "        vertical-align: top;\n",
              "    }\n",
              "\n",
              "    .dataframe thead th {\n",
              "        text-align: right;\n",
              "    }\n",
              "</style>\n",
              "<table border=\"1\" class=\"dataframe\">\n",
              "  <thead>\n",
              "    <tr style=\"text-align: right;\">\n",
              "      <th></th>\n",
              "      <th>network.company</th>\n",
              "      <th>network.gbfs_href</th>\n",
              "      <th>network.href</th>\n",
              "      <th>network.id</th>\n",
              "      <th>network.location.city</th>\n",
              "      <th>network.location.country</th>\n",
              "      <th>network.location.latitude</th>\n",
              "      <th>network.location.longitude</th>\n",
              "      <th>network.name</th>\n",
              "      <th>network.stations</th>\n",
              "    </tr>\n",
              "  </thead>\n",
              "  <tbody>\n",
              "    <tr>\n",
              "      <th>0</th>\n",
              "      <td>[BKT bici publica S.A. de C.V., PBSC Urban Sol...</td>\n",
              "      <td>https://guad.publicbikesystem.net/ube/gbfs/v1/</td>\n",
              "      <td>/v2/networks/mibici-guadalajara</td>\n",
              "      <td>mibici-guadalajara</td>\n",
              "      <td>Guadalajara</td>\n",
              "      <td>MX</td>\n",
              "      <td>20.673788</td>\n",
              "      <td>-103.370433</td>\n",
              "      <td>MIBICI</td>\n",
              "      <td>[{'empty_slots': 11, 'extra': {'address': '(ZP...</td>\n",
              "    </tr>\n",
              "  </tbody>\n",
              "</table>\n",
              "</div>\n",
              "      <button class=\"colab-df-convert\" onclick=\"convertToInteractive('df-9c6d9237-d58c-4521-b847-d4a6f73ff21d')\"\n",
              "              title=\"Convert this dataframe to an interactive table.\"\n",
              "              style=\"display:none;\">\n",
              "        \n",
              "  <svg xmlns=\"http://www.w3.org/2000/svg\" height=\"24px\"viewBox=\"0 0 24 24\"\n",
              "       width=\"24px\">\n",
              "    <path d=\"M0 0h24v24H0V0z\" fill=\"none\"/>\n",
              "    <path d=\"M18.56 5.44l.94 2.06.94-2.06 2.06-.94-2.06-.94-.94-2.06-.94 2.06-2.06.94zm-11 1L8.5 8.5l.94-2.06 2.06-.94-2.06-.94L8.5 2.5l-.94 2.06-2.06.94zm10 10l.94 2.06.94-2.06 2.06-.94-2.06-.94-.94-2.06-.94 2.06-2.06.94z\"/><path d=\"M17.41 7.96l-1.37-1.37c-.4-.4-.92-.59-1.43-.59-.52 0-1.04.2-1.43.59L10.3 9.45l-7.72 7.72c-.78.78-.78 2.05 0 2.83L4 21.41c.39.39.9.59 1.41.59.51 0 1.02-.2 1.41-.59l7.78-7.78 2.81-2.81c.8-.78.8-2.07 0-2.86zM5.41 20L4 18.59l7.72-7.72 1.47 1.35L5.41 20z\"/>\n",
              "  </svg>\n",
              "      </button>\n",
              "      \n",
              "  <style>\n",
              "    .colab-df-container {\n",
              "      display:flex;\n",
              "      flex-wrap:wrap;\n",
              "      gap: 12px;\n",
              "    }\n",
              "\n",
              "    .colab-df-convert {\n",
              "      background-color: #E8F0FE;\n",
              "      border: none;\n",
              "      border-radius: 50%;\n",
              "      cursor: pointer;\n",
              "      display: none;\n",
              "      fill: #1967D2;\n",
              "      height: 32px;\n",
              "      padding: 0 0 0 0;\n",
              "      width: 32px;\n",
              "    }\n",
              "\n",
              "    .colab-df-convert:hover {\n",
              "      background-color: #E2EBFA;\n",
              "      box-shadow: 0px 1px 2px rgba(60, 64, 67, 0.3), 0px 1px 3px 1px rgba(60, 64, 67, 0.15);\n",
              "      fill: #174EA6;\n",
              "    }\n",
              "\n",
              "    [theme=dark] .colab-df-convert {\n",
              "      background-color: #3B4455;\n",
              "      fill: #D2E3FC;\n",
              "    }\n",
              "\n",
              "    [theme=dark] .colab-df-convert:hover {\n",
              "      background-color: #434B5C;\n",
              "      box-shadow: 0px 1px 3px 1px rgba(0, 0, 0, 0.15);\n",
              "      filter: drop-shadow(0px 1px 2px rgba(0, 0, 0, 0.3));\n",
              "      fill: #FFFFFF;\n",
              "    }\n",
              "  </style>\n",
              "\n",
              "      <script>\n",
              "        const buttonEl =\n",
              "          document.querySelector('#df-9c6d9237-d58c-4521-b847-d4a6f73ff21d button.colab-df-convert');\n",
              "        buttonEl.style.display =\n",
              "          google.colab.kernel.accessAllowed ? 'block' : 'none';\n",
              "\n",
              "        async function convertToInteractive(key) {\n",
              "          const element = document.querySelector('#df-9c6d9237-d58c-4521-b847-d4a6f73ff21d');\n",
              "          const dataTable =\n",
              "            await google.colab.kernel.invokeFunction('convertToInteractive',\n",
              "                                                     [key], {});\n",
              "          if (!dataTable) return;\n",
              "\n",
              "          const docLinkHtml = 'Like what you see? Visit the ' +\n",
              "            '<a target=\"_blank\" href=https://colab.research.google.com/notebooks/data_table.ipynb>data table notebook</a>'\n",
              "            + ' to learn more about interactive tables.';\n",
              "          element.innerHTML = '';\n",
              "          dataTable['output_type'] = 'display_data';\n",
              "          await google.colab.output.renderOutput(dataTable, element);\n",
              "          const docLink = document.createElement('div');\n",
              "          docLink.innerHTML = docLinkHtml;\n",
              "          element.appendChild(docLink);\n",
              "        }\n",
              "      </script>\n",
              "    </div>\n",
              "  </div>\n",
              "  "
            ]
          },
          "metadata": {},
          "execution_count": 3
        }
      ]
    },
    {
      "cell_type": "markdown",
      "source": [
        "A primera vista se nos ofrecen datos de identificación en general del servicio MiBici, esto para separlo de otros servicios en el mundo, la informacion que nos interesa sobre las estaciones se encuentra en el campo \"network.stations\""
      ],
      "metadata": {
        "id": "o9hR_BSYdaM1"
      }
    },
    {
      "cell_type": "code",
      "source": [
        "Info_MIBICI[\"network.stations\"][0][0] #observamos los datos que se incluyen por estación"
      ],
      "metadata": {
        "colab": {
          "base_uri": "https://localhost:8080/"
        },
        "id": "aRK-MiVYZmGP",
        "outputId": "3a32601b-7374-42e1-bbd7-4c88e8665a7d"
      },
      "execution_count": 4,
      "outputs": [
        {
          "output_type": "execute_result",
          "data": {
            "text/plain": [
              "{'empty_slots': 11,\n",
              " 'extra': {'address': '(ZPN-043) C. Ermita / C. Del Árbol',\n",
              "  'last_updated': 1663542024,\n",
              "  'payment': ['key', 'transitcard', 'creditcard', 'phone'],\n",
              "  'payment-terminal': True,\n",
              "  'renting': 1,\n",
              "  'returning': 1,\n",
              "  'uid': '137'},\n",
              " 'free_bikes': 0,\n",
              " 'id': '1f0f3254623c37ed18c34f6a7dca449c',\n",
              " 'latitude': 20.65938,\n",
              " 'longitude': -103.40195,\n",
              " 'name': '(ZPN-043) C. Ermita / C. Del Árbol',\n",
              " 'timestamp': '2022-09-18T23:00:47.649000Z'}"
            ]
          },
          "metadata": {},
          "execution_count": 4
        }
      ]
    },
    {
      "cell_type": "markdown",
      "source": [
        "La mayoría son datos sobre el uso operativo y comercial de las estaciones, sólo nos interesan los registros de 'latitude', 'longitud' y 'name'. Éste último tiene la misma información que 'address' dentro de 'extra', por lo que además de ser redundante, a 'name' lo relacionamos por lo pronto con la dirección de la estación.\n",
        "\n",
        "Definimos 3 listas para los campos de nuestro interés. Con un Ciclo for extraemos la información correspondiente de cada estación."
      ],
      "metadata": {
        "id": "UDNnLsMkeBUG"
      }
    },
    {
      "cell_type": "code",
      "source": [
        "#definimos listas\n",
        "direcciones = []\n",
        "latitudes = []\n",
        "longitudes = []\n",
        "\n",
        "for i in range(0,299): # va a tomar las 299 estaciones registradas \n",
        "  direcciones.append(Info_MIBICI[\"network.stations\"][0][i]['name'])\n",
        "  latitudes.append(Info_MIBICI[\"network.stations\"][0][i]['latitude'])\n",
        "  longitudes.append(Info_MIBICI[\"network.stations\"][0][i]['longitude'])"
      ],
      "metadata": {
        "id": "kRc4OQ6b9etK"
      },
      "execution_count": 5,
      "outputs": []
    },
    {
      "cell_type": "markdown",
      "source": [
        "Cada lista de puede convertir a una serie de Pandas de la siguiente forma:"
      ],
      "metadata": {
        "id": "r9ucZh66fgqt"
      }
    },
    {
      "cell_type": "code",
      "source": [
        "direcciones_serie = pd.Series(direcciones) \n",
        "latitudes_serie = pd.Series(latitudes)\n",
        "longitudes_serie = pd.Series(longitudes)"
      ],
      "metadata": {
        "id": "QMChs_NM9eaY"
      },
      "execution_count": 6,
      "outputs": []
    },
    {
      "cell_type": "markdown",
      "source": [
        "Buscamos crear un DataFrame con estas series, para esto primero hay que definir un diccionario."
      ],
      "metadata": {
        "id": "j9hflelefvyO"
      }
    },
    {
      "cell_type": "code",
      "source": [
        "diccionario_ubicaciones = {'Dirección': direcciones_serie, \"Latitud\": latitudes_serie, \"Longitud\": longitudes_serie}"
      ],
      "metadata": {
        "id": "PdlgCcw0O2_y"
      },
      "execution_count": 7,
      "outputs": []
    },
    {
      "cell_type": "markdown",
      "source": [
        "Obtenemos nuestro DataFrame con los datos de ubicación para cada estación de bicicletas. "
      ],
      "metadata": {
        "id": "B5DoiJlNfy5w"
      }
    },
    {
      "cell_type": "code",
      "source": [
        "df_ubicaciones = pd.DataFrame(diccionario_ubicaciones)"
      ],
      "metadata": {
        "id": "poaYiBO_PeXZ"
      },
      "execution_count": 8,
      "outputs": []
    },
    {
      "cell_type": "markdown",
      "source": [
        "#Exploramos el dataframe df_ubicaciones"
      ],
      "metadata": {
        "id": "98sKxYEJgDak"
      }
    },
    {
      "cell_type": "code",
      "source": [
        "df_ubicaciones"
      ],
      "metadata": {
        "colab": {
          "base_uri": "https://localhost:8080/",
          "height": 424
        },
        "id": "CsWBtYLTPoPw",
        "outputId": "aa7e4bab-ffeb-4aa3-9791-608503ae7fc6"
      },
      "execution_count": 9,
      "outputs": [
        {
          "output_type": "execute_result",
          "data": {
            "text/plain": [
              "                                         Dirección    Latitud    Longitud\n",
              "0               (ZPN-043) C. Ermita / C. Del Árbol  20.659380 -103.401950\n",
              "1            (ZPN-045) Av. Tizoc / C. Iztaccíhuatl  20.657010 -103.404640\n",
              "2           (ZPN-047) Av. Tizoc / Av. López Mateos  20.653810 -103.401340\n",
              "3     (ZPN-067) C. Chimalhuacán / Av. López Mateos  20.651592 -103.402769\n",
              "4        (GDL-218) C.Hércules / Av. De la Arboleda  20.664447 -103.385311\n",
              "..                                             ...        ...         ...\n",
              "294          (GDL-033) Av. Hidalgo / C. Pedro Loza  20.677419 -103.347983\n",
              "295           (GDL-032) C. Degollado / Av. Hidalgo  20.677263 -103.344908\n",
              "296     (GDL-134) C. Agustín Yáñez / C. Fco Ugarte  20.670160 -103.384480\n",
              "297  (ZPN-051) Av. Periférico G. Morín / Av. J. Pa  20.738370 -103.380570\n",
              "298        (ZPN-057) C. Escultores / Av. Guadalupe  20.663707 -103.417817\n",
              "\n",
              "[299 rows x 3 columns]"
            ],
            "text/html": [
              "\n",
              "  <div id=\"df-b76875fc-f861-45a8-ab20-37199ad507f9\">\n",
              "    <div class=\"colab-df-container\">\n",
              "      <div>\n",
              "<style scoped>\n",
              "    .dataframe tbody tr th:only-of-type {\n",
              "        vertical-align: middle;\n",
              "    }\n",
              "\n",
              "    .dataframe tbody tr th {\n",
              "        vertical-align: top;\n",
              "    }\n",
              "\n",
              "    .dataframe thead th {\n",
              "        text-align: right;\n",
              "    }\n",
              "</style>\n",
              "<table border=\"1\" class=\"dataframe\">\n",
              "  <thead>\n",
              "    <tr style=\"text-align: right;\">\n",
              "      <th></th>\n",
              "      <th>Dirección</th>\n",
              "      <th>Latitud</th>\n",
              "      <th>Longitud</th>\n",
              "    </tr>\n",
              "  </thead>\n",
              "  <tbody>\n",
              "    <tr>\n",
              "      <th>0</th>\n",
              "      <td>(ZPN-043) C. Ermita / C. Del Árbol</td>\n",
              "      <td>20.659380</td>\n",
              "      <td>-103.401950</td>\n",
              "    </tr>\n",
              "    <tr>\n",
              "      <th>1</th>\n",
              "      <td>(ZPN-045) Av. Tizoc / C. Iztaccíhuatl</td>\n",
              "      <td>20.657010</td>\n",
              "      <td>-103.404640</td>\n",
              "    </tr>\n",
              "    <tr>\n",
              "      <th>2</th>\n",
              "      <td>(ZPN-047) Av. Tizoc / Av. López Mateos</td>\n",
              "      <td>20.653810</td>\n",
              "      <td>-103.401340</td>\n",
              "    </tr>\n",
              "    <tr>\n",
              "      <th>3</th>\n",
              "      <td>(ZPN-067) C. Chimalhuacán / Av. López Mateos</td>\n",
              "      <td>20.651592</td>\n",
              "      <td>-103.402769</td>\n",
              "    </tr>\n",
              "    <tr>\n",
              "      <th>4</th>\n",
              "      <td>(GDL-218) C.Hércules / Av. De la Arboleda</td>\n",
              "      <td>20.664447</td>\n",
              "      <td>-103.385311</td>\n",
              "    </tr>\n",
              "    <tr>\n",
              "      <th>...</th>\n",
              "      <td>...</td>\n",
              "      <td>...</td>\n",
              "      <td>...</td>\n",
              "    </tr>\n",
              "    <tr>\n",
              "      <th>294</th>\n",
              "      <td>(GDL-033) Av. Hidalgo / C. Pedro Loza</td>\n",
              "      <td>20.677419</td>\n",
              "      <td>-103.347983</td>\n",
              "    </tr>\n",
              "    <tr>\n",
              "      <th>295</th>\n",
              "      <td>(GDL-032) C. Degollado / Av. Hidalgo</td>\n",
              "      <td>20.677263</td>\n",
              "      <td>-103.344908</td>\n",
              "    </tr>\n",
              "    <tr>\n",
              "      <th>296</th>\n",
              "      <td>(GDL-134) C. Agustín Yáñez / C. Fco Ugarte</td>\n",
              "      <td>20.670160</td>\n",
              "      <td>-103.384480</td>\n",
              "    </tr>\n",
              "    <tr>\n",
              "      <th>297</th>\n",
              "      <td>(ZPN-051) Av. Periférico G. Morín / Av. J. Pa</td>\n",
              "      <td>20.738370</td>\n",
              "      <td>-103.380570</td>\n",
              "    </tr>\n",
              "    <tr>\n",
              "      <th>298</th>\n",
              "      <td>(ZPN-057) C. Escultores / Av. Guadalupe</td>\n",
              "      <td>20.663707</td>\n",
              "      <td>-103.417817</td>\n",
              "    </tr>\n",
              "  </tbody>\n",
              "</table>\n",
              "<p>299 rows × 3 columns</p>\n",
              "</div>\n",
              "      <button class=\"colab-df-convert\" onclick=\"convertToInteractive('df-b76875fc-f861-45a8-ab20-37199ad507f9')\"\n",
              "              title=\"Convert this dataframe to an interactive table.\"\n",
              "              style=\"display:none;\">\n",
              "        \n",
              "  <svg xmlns=\"http://www.w3.org/2000/svg\" height=\"24px\"viewBox=\"0 0 24 24\"\n",
              "       width=\"24px\">\n",
              "    <path d=\"M0 0h24v24H0V0z\" fill=\"none\"/>\n",
              "    <path d=\"M18.56 5.44l.94 2.06.94-2.06 2.06-.94-2.06-.94-.94-2.06-.94 2.06-2.06.94zm-11 1L8.5 8.5l.94-2.06 2.06-.94-2.06-.94L8.5 2.5l-.94 2.06-2.06.94zm10 10l.94 2.06.94-2.06 2.06-.94-2.06-.94-.94-2.06-.94 2.06-2.06.94z\"/><path d=\"M17.41 7.96l-1.37-1.37c-.4-.4-.92-.59-1.43-.59-.52 0-1.04.2-1.43.59L10.3 9.45l-7.72 7.72c-.78.78-.78 2.05 0 2.83L4 21.41c.39.39.9.59 1.41.59.51 0 1.02-.2 1.41-.59l7.78-7.78 2.81-2.81c.8-.78.8-2.07 0-2.86zM5.41 20L4 18.59l7.72-7.72 1.47 1.35L5.41 20z\"/>\n",
              "  </svg>\n",
              "      </button>\n",
              "      \n",
              "  <style>\n",
              "    .colab-df-container {\n",
              "      display:flex;\n",
              "      flex-wrap:wrap;\n",
              "      gap: 12px;\n",
              "    }\n",
              "\n",
              "    .colab-df-convert {\n",
              "      background-color: #E8F0FE;\n",
              "      border: none;\n",
              "      border-radius: 50%;\n",
              "      cursor: pointer;\n",
              "      display: none;\n",
              "      fill: #1967D2;\n",
              "      height: 32px;\n",
              "      padding: 0 0 0 0;\n",
              "      width: 32px;\n",
              "    }\n",
              "\n",
              "    .colab-df-convert:hover {\n",
              "      background-color: #E2EBFA;\n",
              "      box-shadow: 0px 1px 2px rgba(60, 64, 67, 0.3), 0px 1px 3px 1px rgba(60, 64, 67, 0.15);\n",
              "      fill: #174EA6;\n",
              "    }\n",
              "\n",
              "    [theme=dark] .colab-df-convert {\n",
              "      background-color: #3B4455;\n",
              "      fill: #D2E3FC;\n",
              "    }\n",
              "\n",
              "    [theme=dark] .colab-df-convert:hover {\n",
              "      background-color: #434B5C;\n",
              "      box-shadow: 0px 1px 3px 1px rgba(0, 0, 0, 0.15);\n",
              "      filter: drop-shadow(0px 1px 2px rgba(0, 0, 0, 0.3));\n",
              "      fill: #FFFFFF;\n",
              "    }\n",
              "  </style>\n",
              "\n",
              "      <script>\n",
              "        const buttonEl =\n",
              "          document.querySelector('#df-b76875fc-f861-45a8-ab20-37199ad507f9 button.colab-df-convert');\n",
              "        buttonEl.style.display =\n",
              "          google.colab.kernel.accessAllowed ? 'block' : 'none';\n",
              "\n",
              "        async function convertToInteractive(key) {\n",
              "          const element = document.querySelector('#df-b76875fc-f861-45a8-ab20-37199ad507f9');\n",
              "          const dataTable =\n",
              "            await google.colab.kernel.invokeFunction('convertToInteractive',\n",
              "                                                     [key], {});\n",
              "          if (!dataTable) return;\n",
              "\n",
              "          const docLinkHtml = 'Like what you see? Visit the ' +\n",
              "            '<a target=\"_blank\" href=https://colab.research.google.com/notebooks/data_table.ipynb>data table notebook</a>'\n",
              "            + ' to learn more about interactive tables.';\n",
              "          element.innerHTML = '';\n",
              "          dataTable['output_type'] = 'display_data';\n",
              "          await google.colab.output.renderOutput(dataTable, element);\n",
              "          const docLink = document.createElement('div');\n",
              "          docLink.innerHTML = docLinkHtml;\n",
              "          element.appendChild(docLink);\n",
              "        }\n",
              "      </script>\n",
              "    </div>\n",
              "  </div>\n",
              "  "
            ]
          },
          "metadata": {},
          "execution_count": 9
        }
      ]
    },
    {
      "cell_type": "code",
      "source": [
        "df_ubicaciones.head()"
      ],
      "metadata": {
        "colab": {
          "base_uri": "https://localhost:8080/",
          "height": 206
        },
        "id": "KrRS3-MOQArS",
        "outputId": "3e0cc855-65f5-4f84-c08e-70f7bd84d8ad"
      },
      "execution_count": 10,
      "outputs": [
        {
          "output_type": "execute_result",
          "data": {
            "text/plain": [
              "                                      Dirección    Latitud    Longitud\n",
              "0            (ZPN-043) C. Ermita / C. Del Árbol  20.659380 -103.401950\n",
              "1         (ZPN-045) Av. Tizoc / C. Iztaccíhuatl  20.657010 -103.404640\n",
              "2        (ZPN-047) Av. Tizoc / Av. López Mateos  20.653810 -103.401340\n",
              "3  (ZPN-067) C. Chimalhuacán / Av. López Mateos  20.651592 -103.402769\n",
              "4     (GDL-218) C.Hércules / Av. De la Arboleda  20.664447 -103.385311"
            ],
            "text/html": [
              "\n",
              "  <div id=\"df-fab1bb95-627f-4d4a-9640-a4ddb8878d1f\">\n",
              "    <div class=\"colab-df-container\">\n",
              "      <div>\n",
              "<style scoped>\n",
              "    .dataframe tbody tr th:only-of-type {\n",
              "        vertical-align: middle;\n",
              "    }\n",
              "\n",
              "    .dataframe tbody tr th {\n",
              "        vertical-align: top;\n",
              "    }\n",
              "\n",
              "    .dataframe thead th {\n",
              "        text-align: right;\n",
              "    }\n",
              "</style>\n",
              "<table border=\"1\" class=\"dataframe\">\n",
              "  <thead>\n",
              "    <tr style=\"text-align: right;\">\n",
              "      <th></th>\n",
              "      <th>Dirección</th>\n",
              "      <th>Latitud</th>\n",
              "      <th>Longitud</th>\n",
              "    </tr>\n",
              "  </thead>\n",
              "  <tbody>\n",
              "    <tr>\n",
              "      <th>0</th>\n",
              "      <td>(ZPN-043) C. Ermita / C. Del Árbol</td>\n",
              "      <td>20.659380</td>\n",
              "      <td>-103.401950</td>\n",
              "    </tr>\n",
              "    <tr>\n",
              "      <th>1</th>\n",
              "      <td>(ZPN-045) Av. Tizoc / C. Iztaccíhuatl</td>\n",
              "      <td>20.657010</td>\n",
              "      <td>-103.404640</td>\n",
              "    </tr>\n",
              "    <tr>\n",
              "      <th>2</th>\n",
              "      <td>(ZPN-047) Av. Tizoc / Av. López Mateos</td>\n",
              "      <td>20.653810</td>\n",
              "      <td>-103.401340</td>\n",
              "    </tr>\n",
              "    <tr>\n",
              "      <th>3</th>\n",
              "      <td>(ZPN-067) C. Chimalhuacán / Av. López Mateos</td>\n",
              "      <td>20.651592</td>\n",
              "      <td>-103.402769</td>\n",
              "    </tr>\n",
              "    <tr>\n",
              "      <th>4</th>\n",
              "      <td>(GDL-218) C.Hércules / Av. De la Arboleda</td>\n",
              "      <td>20.664447</td>\n",
              "      <td>-103.385311</td>\n",
              "    </tr>\n",
              "  </tbody>\n",
              "</table>\n",
              "</div>\n",
              "      <button class=\"colab-df-convert\" onclick=\"convertToInteractive('df-fab1bb95-627f-4d4a-9640-a4ddb8878d1f')\"\n",
              "              title=\"Convert this dataframe to an interactive table.\"\n",
              "              style=\"display:none;\">\n",
              "        \n",
              "  <svg xmlns=\"http://www.w3.org/2000/svg\" height=\"24px\"viewBox=\"0 0 24 24\"\n",
              "       width=\"24px\">\n",
              "    <path d=\"M0 0h24v24H0V0z\" fill=\"none\"/>\n",
              "    <path d=\"M18.56 5.44l.94 2.06.94-2.06 2.06-.94-2.06-.94-.94-2.06-.94 2.06-2.06.94zm-11 1L8.5 8.5l.94-2.06 2.06-.94-2.06-.94L8.5 2.5l-.94 2.06-2.06.94zm10 10l.94 2.06.94-2.06 2.06-.94-2.06-.94-.94-2.06-.94 2.06-2.06.94z\"/><path d=\"M17.41 7.96l-1.37-1.37c-.4-.4-.92-.59-1.43-.59-.52 0-1.04.2-1.43.59L10.3 9.45l-7.72 7.72c-.78.78-.78 2.05 0 2.83L4 21.41c.39.39.9.59 1.41.59.51 0 1.02-.2 1.41-.59l7.78-7.78 2.81-2.81c.8-.78.8-2.07 0-2.86zM5.41 20L4 18.59l7.72-7.72 1.47 1.35L5.41 20z\"/>\n",
              "  </svg>\n",
              "      </button>\n",
              "      \n",
              "  <style>\n",
              "    .colab-df-container {\n",
              "      display:flex;\n",
              "      flex-wrap:wrap;\n",
              "      gap: 12px;\n",
              "    }\n",
              "\n",
              "    .colab-df-convert {\n",
              "      background-color: #E8F0FE;\n",
              "      border: none;\n",
              "      border-radius: 50%;\n",
              "      cursor: pointer;\n",
              "      display: none;\n",
              "      fill: #1967D2;\n",
              "      height: 32px;\n",
              "      padding: 0 0 0 0;\n",
              "      width: 32px;\n",
              "    }\n",
              "\n",
              "    .colab-df-convert:hover {\n",
              "      background-color: #E2EBFA;\n",
              "      box-shadow: 0px 1px 2px rgba(60, 64, 67, 0.3), 0px 1px 3px 1px rgba(60, 64, 67, 0.15);\n",
              "      fill: #174EA6;\n",
              "    }\n",
              "\n",
              "    [theme=dark] .colab-df-convert {\n",
              "      background-color: #3B4455;\n",
              "      fill: #D2E3FC;\n",
              "    }\n",
              "\n",
              "    [theme=dark] .colab-df-convert:hover {\n",
              "      background-color: #434B5C;\n",
              "      box-shadow: 0px 1px 3px 1px rgba(0, 0, 0, 0.15);\n",
              "      filter: drop-shadow(0px 1px 2px rgba(0, 0, 0, 0.3));\n",
              "      fill: #FFFFFF;\n",
              "    }\n",
              "  </style>\n",
              "\n",
              "      <script>\n",
              "        const buttonEl =\n",
              "          document.querySelector('#df-fab1bb95-627f-4d4a-9640-a4ddb8878d1f button.colab-df-convert');\n",
              "        buttonEl.style.display =\n",
              "          google.colab.kernel.accessAllowed ? 'block' : 'none';\n",
              "\n",
              "        async function convertToInteractive(key) {\n",
              "          const element = document.querySelector('#df-fab1bb95-627f-4d4a-9640-a4ddb8878d1f');\n",
              "          const dataTable =\n",
              "            await google.colab.kernel.invokeFunction('convertToInteractive',\n",
              "                                                     [key], {});\n",
              "          if (!dataTable) return;\n",
              "\n",
              "          const docLinkHtml = 'Like what you see? Visit the ' +\n",
              "            '<a target=\"_blank\" href=https://colab.research.google.com/notebooks/data_table.ipynb>data table notebook</a>'\n",
              "            + ' to learn more about interactive tables.';\n",
              "          element.innerHTML = '';\n",
              "          dataTable['output_type'] = 'display_data';\n",
              "          await google.colab.output.renderOutput(dataTable, element);\n",
              "          const docLink = document.createElement('div');\n",
              "          docLink.innerHTML = docLinkHtml;\n",
              "          element.appendChild(docLink);\n",
              "        }\n",
              "      </script>\n",
              "    </div>\n",
              "  </div>\n",
              "  "
            ]
          },
          "metadata": {},
          "execution_count": 10
        }
      ]
    },
    {
      "cell_type": "code",
      "source": [
        "df_ubicaciones.tail()"
      ],
      "metadata": {
        "colab": {
          "base_uri": "https://localhost:8080/",
          "height": 206
        },
        "id": "brZ_pYluRm1j",
        "outputId": "ba77b688-a8f9-463b-cfed-345332414bda"
      },
      "execution_count": 11,
      "outputs": [
        {
          "output_type": "execute_result",
          "data": {
            "text/plain": [
              "                                         Dirección    Latitud    Longitud\n",
              "294          (GDL-033) Av. Hidalgo / C. Pedro Loza  20.677419 -103.347983\n",
              "295           (GDL-032) C. Degollado / Av. Hidalgo  20.677263 -103.344908\n",
              "296     (GDL-134) C. Agustín Yáñez / C. Fco Ugarte  20.670160 -103.384480\n",
              "297  (ZPN-051) Av. Periférico G. Morín / Av. J. Pa  20.738370 -103.380570\n",
              "298        (ZPN-057) C. Escultores / Av. Guadalupe  20.663707 -103.417817"
            ],
            "text/html": [
              "\n",
              "  <div id=\"df-7c42f667-098e-4ae7-94ab-ea7a497f7de9\">\n",
              "    <div class=\"colab-df-container\">\n",
              "      <div>\n",
              "<style scoped>\n",
              "    .dataframe tbody tr th:only-of-type {\n",
              "        vertical-align: middle;\n",
              "    }\n",
              "\n",
              "    .dataframe tbody tr th {\n",
              "        vertical-align: top;\n",
              "    }\n",
              "\n",
              "    .dataframe thead th {\n",
              "        text-align: right;\n",
              "    }\n",
              "</style>\n",
              "<table border=\"1\" class=\"dataframe\">\n",
              "  <thead>\n",
              "    <tr style=\"text-align: right;\">\n",
              "      <th></th>\n",
              "      <th>Dirección</th>\n",
              "      <th>Latitud</th>\n",
              "      <th>Longitud</th>\n",
              "    </tr>\n",
              "  </thead>\n",
              "  <tbody>\n",
              "    <tr>\n",
              "      <th>294</th>\n",
              "      <td>(GDL-033) Av. Hidalgo / C. Pedro Loza</td>\n",
              "      <td>20.677419</td>\n",
              "      <td>-103.347983</td>\n",
              "    </tr>\n",
              "    <tr>\n",
              "      <th>295</th>\n",
              "      <td>(GDL-032) C. Degollado / Av. Hidalgo</td>\n",
              "      <td>20.677263</td>\n",
              "      <td>-103.344908</td>\n",
              "    </tr>\n",
              "    <tr>\n",
              "      <th>296</th>\n",
              "      <td>(GDL-134) C. Agustín Yáñez / C. Fco Ugarte</td>\n",
              "      <td>20.670160</td>\n",
              "      <td>-103.384480</td>\n",
              "    </tr>\n",
              "    <tr>\n",
              "      <th>297</th>\n",
              "      <td>(ZPN-051) Av. Periférico G. Morín / Av. J. Pa</td>\n",
              "      <td>20.738370</td>\n",
              "      <td>-103.380570</td>\n",
              "    </tr>\n",
              "    <tr>\n",
              "      <th>298</th>\n",
              "      <td>(ZPN-057) C. Escultores / Av. Guadalupe</td>\n",
              "      <td>20.663707</td>\n",
              "      <td>-103.417817</td>\n",
              "    </tr>\n",
              "  </tbody>\n",
              "</table>\n",
              "</div>\n",
              "      <button class=\"colab-df-convert\" onclick=\"convertToInteractive('df-7c42f667-098e-4ae7-94ab-ea7a497f7de9')\"\n",
              "              title=\"Convert this dataframe to an interactive table.\"\n",
              "              style=\"display:none;\">\n",
              "        \n",
              "  <svg xmlns=\"http://www.w3.org/2000/svg\" height=\"24px\"viewBox=\"0 0 24 24\"\n",
              "       width=\"24px\">\n",
              "    <path d=\"M0 0h24v24H0V0z\" fill=\"none\"/>\n",
              "    <path d=\"M18.56 5.44l.94 2.06.94-2.06 2.06-.94-2.06-.94-.94-2.06-.94 2.06-2.06.94zm-11 1L8.5 8.5l.94-2.06 2.06-.94-2.06-.94L8.5 2.5l-.94 2.06-2.06.94zm10 10l.94 2.06.94-2.06 2.06-.94-2.06-.94-.94-2.06-.94 2.06-2.06.94z\"/><path d=\"M17.41 7.96l-1.37-1.37c-.4-.4-.92-.59-1.43-.59-.52 0-1.04.2-1.43.59L10.3 9.45l-7.72 7.72c-.78.78-.78 2.05 0 2.83L4 21.41c.39.39.9.59 1.41.59.51 0 1.02-.2 1.41-.59l7.78-7.78 2.81-2.81c.8-.78.8-2.07 0-2.86zM5.41 20L4 18.59l7.72-7.72 1.47 1.35L5.41 20z\"/>\n",
              "  </svg>\n",
              "      </button>\n",
              "      \n",
              "  <style>\n",
              "    .colab-df-container {\n",
              "      display:flex;\n",
              "      flex-wrap:wrap;\n",
              "      gap: 12px;\n",
              "    }\n",
              "\n",
              "    .colab-df-convert {\n",
              "      background-color: #E8F0FE;\n",
              "      border: none;\n",
              "      border-radius: 50%;\n",
              "      cursor: pointer;\n",
              "      display: none;\n",
              "      fill: #1967D2;\n",
              "      height: 32px;\n",
              "      padding: 0 0 0 0;\n",
              "      width: 32px;\n",
              "    }\n",
              "\n",
              "    .colab-df-convert:hover {\n",
              "      background-color: #E2EBFA;\n",
              "      box-shadow: 0px 1px 2px rgba(60, 64, 67, 0.3), 0px 1px 3px 1px rgba(60, 64, 67, 0.15);\n",
              "      fill: #174EA6;\n",
              "    }\n",
              "\n",
              "    [theme=dark] .colab-df-convert {\n",
              "      background-color: #3B4455;\n",
              "      fill: #D2E3FC;\n",
              "    }\n",
              "\n",
              "    [theme=dark] .colab-df-convert:hover {\n",
              "      background-color: #434B5C;\n",
              "      box-shadow: 0px 1px 3px 1px rgba(0, 0, 0, 0.15);\n",
              "      filter: drop-shadow(0px 1px 2px rgba(0, 0, 0, 0.3));\n",
              "      fill: #FFFFFF;\n",
              "    }\n",
              "  </style>\n",
              "\n",
              "      <script>\n",
              "        const buttonEl =\n",
              "          document.querySelector('#df-7c42f667-098e-4ae7-94ab-ea7a497f7de9 button.colab-df-convert');\n",
              "        buttonEl.style.display =\n",
              "          google.colab.kernel.accessAllowed ? 'block' : 'none';\n",
              "\n",
              "        async function convertToInteractive(key) {\n",
              "          const element = document.querySelector('#df-7c42f667-098e-4ae7-94ab-ea7a497f7de9');\n",
              "          const dataTable =\n",
              "            await google.colab.kernel.invokeFunction('convertToInteractive',\n",
              "                                                     [key], {});\n",
              "          if (!dataTable) return;\n",
              "\n",
              "          const docLinkHtml = 'Like what you see? Visit the ' +\n",
              "            '<a target=\"_blank\" href=https://colab.research.google.com/notebooks/data_table.ipynb>data table notebook</a>'\n",
              "            + ' to learn more about interactive tables.';\n",
              "          element.innerHTML = '';\n",
              "          dataTable['output_type'] = 'display_data';\n",
              "          await google.colab.output.renderOutput(dataTable, element);\n",
              "          const docLink = document.createElement('div');\n",
              "          docLink.innerHTML = docLinkHtml;\n",
              "          element.appendChild(docLink);\n",
              "        }\n",
              "      </script>\n",
              "    </div>\n",
              "  </div>\n",
              "  "
            ]
          },
          "metadata": {},
          "execution_count": 11
        }
      ]
    },
    {
      "cell_type": "code",
      "source": [
        "df_ubicaciones.shape"
      ],
      "metadata": {
        "colab": {
          "base_uri": "https://localhost:8080/"
        },
        "id": "XghHPjZhRqWS",
        "outputId": "2b8ef334-78e8-4967-966c-bcd1c28a56ce"
      },
      "execution_count": 12,
      "outputs": [
        {
          "output_type": "execute_result",
          "data": {
            "text/plain": [
              "(299, 3)"
            ]
          },
          "metadata": {},
          "execution_count": 12
        }
      ]
    },
    {
      "cell_type": "code",
      "source": [
        "df_ubicaciones.columns"
      ],
      "metadata": {
        "colab": {
          "base_uri": "https://localhost:8080/"
        },
        "id": "18fmClKsUFEb",
        "outputId": "f98b27d0-d14a-4fa4-eac0-92ab07e1b973"
      },
      "execution_count": 13,
      "outputs": [
        {
          "output_type": "execute_result",
          "data": {
            "text/plain": [
              "Index(['Dirección', 'Latitud', 'Longitud'], dtype='object')"
            ]
          },
          "metadata": {},
          "execution_count": 13
        }
      ]
    },
    {
      "cell_type": "code",
      "source": [
        "df_ubicaciones.dtypes"
      ],
      "metadata": {
        "colab": {
          "base_uri": "https://localhost:8080/"
        },
        "id": "03N2b1qYRwip",
        "outputId": "607492a3-d179-4e17-f675-9094e2b4d422"
      },
      "execution_count": 14,
      "outputs": [
        {
          "output_type": "execute_result",
          "data": {
            "text/plain": [
              "Dirección     object\n",
              "Latitud      float64\n",
              "Longitud     float64\n",
              "dtype: object"
            ]
          },
          "metadata": {},
          "execution_count": 14
        }
      ]
    },
    {
      "cell_type": "code",
      "source": [
        "df_ubicaciones.isna().sum()"
      ],
      "metadata": {
        "colab": {
          "base_uri": "https://localhost:8080/"
        },
        "id": "2hEUrarbS9UX",
        "outputId": "93fb1782-1b74-4ba1-c7f7-66c88ba7ca91"
      },
      "execution_count": 15,
      "outputs": [
        {
          "output_type": "execute_result",
          "data": {
            "text/plain": [
              "Dirección    0\n",
              "Latitud      0\n",
              "Longitud     0\n",
              "dtype: int64"
            ]
          },
          "metadata": {},
          "execution_count": 15
        }
      ]
    },
    {
      "cell_type": "code",
      "source": [
        "df_ubicaciones.info()"
      ],
      "metadata": {
        "colab": {
          "base_uri": "https://localhost:8080/"
        },
        "id": "6G4NPgBuSmM5",
        "outputId": "3490ad97-81ab-4667-8fe7-b45798ecf9de"
      },
      "execution_count": 16,
      "outputs": [
        {
          "output_type": "stream",
          "name": "stdout",
          "text": [
            "<class 'pandas.core.frame.DataFrame'>\n",
            "RangeIndex: 299 entries, 0 to 298\n",
            "Data columns (total 3 columns):\n",
            " #   Column     Non-Null Count  Dtype  \n",
            "---  ------     --------------  -----  \n",
            " 0   Dirección  299 non-null    object \n",
            " 1   Latitud    299 non-null    float64\n",
            " 2   Longitud   299 non-null    float64\n",
            "dtypes: float64(2), object(1)\n",
            "memory usage: 7.1+ KB\n"
          ]
        }
      ]
    },
    {
      "cell_type": "markdown",
      "source": [
        "Nuestro DataFrame se encuentra bien definido en el sentido de que no hay NaNs, ni valores nulos, y los campos tienen el tipo correcto de dato, es decir, \"Dirección\" es 'object' mientras que tanto \"Latitud\" como \"Longitud\" son 'float64', el equivalente de pandas a float.\n",
        "\n",
        "Sin embargo, identificamos que los que se definió como dirección en la API, tiene primero una zona y luego dos calles, por lo que podemos realizar esta separación de columnas. "
      ],
      "metadata": {
        "id": "xpg4g5crgJUP"
      }
    },
    {
      "cell_type": "code",
      "source": [
        "df_ubicaciones[['Zona','Calles']] = df_ubicaciones['Dirección'].str.split('\\s',1, expand = True) #Va a separar sólo en el primer espacio (\\s)\n"
      ],
      "metadata": {
        "id": "az08WMxNTJW2"
      },
      "execution_count": 17,
      "outputs": []
    },
    {
      "cell_type": "code",
      "source": [
        "df_ubicaciones.head() #Visializamos el DataFrame con las nuevas columnas agregadas"
      ],
      "metadata": {
        "colab": {
          "base_uri": "https://localhost:8080/",
          "height": 206
        },
        "id": "eNo08CtvV90v",
        "outputId": "daaa5f34-1c90-4d80-8891-4147ee89e28a"
      },
      "execution_count": 18,
      "outputs": [
        {
          "output_type": "execute_result",
          "data": {
            "text/plain": [
              "                                      Dirección    Latitud    Longitud  \\\n",
              "0            (ZPN-043) C. Ermita / C. Del Árbol  20.659380 -103.401950   \n",
              "1         (ZPN-045) Av. Tizoc / C. Iztaccíhuatl  20.657010 -103.404640   \n",
              "2        (ZPN-047) Av. Tizoc / Av. López Mateos  20.653810 -103.401340   \n",
              "3  (ZPN-067) C. Chimalhuacán / Av. López Mateos  20.651592 -103.402769   \n",
              "4     (GDL-218) C.Hércules / Av. De la Arboleda  20.664447 -103.385311   \n",
              "\n",
              "        Zona                              Calles  \n",
              "0  (ZPN-043)            C. Ermita / C. Del Árbol  \n",
              "1  (ZPN-045)         Av. Tizoc / C. Iztaccíhuatl  \n",
              "2  (ZPN-047)        Av. Tizoc / Av. López Mateos  \n",
              "3  (ZPN-067)  C. Chimalhuacán / Av. López Mateos  \n",
              "4  (GDL-218)     C.Hércules / Av. De la Arboleda  "
            ],
            "text/html": [
              "\n",
              "  <div id=\"df-6eea3736-7f93-4696-900f-b491ac696526\">\n",
              "    <div class=\"colab-df-container\">\n",
              "      <div>\n",
              "<style scoped>\n",
              "    .dataframe tbody tr th:only-of-type {\n",
              "        vertical-align: middle;\n",
              "    }\n",
              "\n",
              "    .dataframe tbody tr th {\n",
              "        vertical-align: top;\n",
              "    }\n",
              "\n",
              "    .dataframe thead th {\n",
              "        text-align: right;\n",
              "    }\n",
              "</style>\n",
              "<table border=\"1\" class=\"dataframe\">\n",
              "  <thead>\n",
              "    <tr style=\"text-align: right;\">\n",
              "      <th></th>\n",
              "      <th>Dirección</th>\n",
              "      <th>Latitud</th>\n",
              "      <th>Longitud</th>\n",
              "      <th>Zona</th>\n",
              "      <th>Calles</th>\n",
              "    </tr>\n",
              "  </thead>\n",
              "  <tbody>\n",
              "    <tr>\n",
              "      <th>0</th>\n",
              "      <td>(ZPN-043) C. Ermita / C. Del Árbol</td>\n",
              "      <td>20.659380</td>\n",
              "      <td>-103.401950</td>\n",
              "      <td>(ZPN-043)</td>\n",
              "      <td>C. Ermita / C. Del Árbol</td>\n",
              "    </tr>\n",
              "    <tr>\n",
              "      <th>1</th>\n",
              "      <td>(ZPN-045) Av. Tizoc / C. Iztaccíhuatl</td>\n",
              "      <td>20.657010</td>\n",
              "      <td>-103.404640</td>\n",
              "      <td>(ZPN-045)</td>\n",
              "      <td>Av. Tizoc / C. Iztaccíhuatl</td>\n",
              "    </tr>\n",
              "    <tr>\n",
              "      <th>2</th>\n",
              "      <td>(ZPN-047) Av. Tizoc / Av. López Mateos</td>\n",
              "      <td>20.653810</td>\n",
              "      <td>-103.401340</td>\n",
              "      <td>(ZPN-047)</td>\n",
              "      <td>Av. Tizoc / Av. López Mateos</td>\n",
              "    </tr>\n",
              "    <tr>\n",
              "      <th>3</th>\n",
              "      <td>(ZPN-067) C. Chimalhuacán / Av. López Mateos</td>\n",
              "      <td>20.651592</td>\n",
              "      <td>-103.402769</td>\n",
              "      <td>(ZPN-067)</td>\n",
              "      <td>C. Chimalhuacán / Av. López Mateos</td>\n",
              "    </tr>\n",
              "    <tr>\n",
              "      <th>4</th>\n",
              "      <td>(GDL-218) C.Hércules / Av. De la Arboleda</td>\n",
              "      <td>20.664447</td>\n",
              "      <td>-103.385311</td>\n",
              "      <td>(GDL-218)</td>\n",
              "      <td>C.Hércules / Av. De la Arboleda</td>\n",
              "    </tr>\n",
              "  </tbody>\n",
              "</table>\n",
              "</div>\n",
              "      <button class=\"colab-df-convert\" onclick=\"convertToInteractive('df-6eea3736-7f93-4696-900f-b491ac696526')\"\n",
              "              title=\"Convert this dataframe to an interactive table.\"\n",
              "              style=\"display:none;\">\n",
              "        \n",
              "  <svg xmlns=\"http://www.w3.org/2000/svg\" height=\"24px\"viewBox=\"0 0 24 24\"\n",
              "       width=\"24px\">\n",
              "    <path d=\"M0 0h24v24H0V0z\" fill=\"none\"/>\n",
              "    <path d=\"M18.56 5.44l.94 2.06.94-2.06 2.06-.94-2.06-.94-.94-2.06-.94 2.06-2.06.94zm-11 1L8.5 8.5l.94-2.06 2.06-.94-2.06-.94L8.5 2.5l-.94 2.06-2.06.94zm10 10l.94 2.06.94-2.06 2.06-.94-2.06-.94-.94-2.06-.94 2.06-2.06.94z\"/><path d=\"M17.41 7.96l-1.37-1.37c-.4-.4-.92-.59-1.43-.59-.52 0-1.04.2-1.43.59L10.3 9.45l-7.72 7.72c-.78.78-.78 2.05 0 2.83L4 21.41c.39.39.9.59 1.41.59.51 0 1.02-.2 1.41-.59l7.78-7.78 2.81-2.81c.8-.78.8-2.07 0-2.86zM5.41 20L4 18.59l7.72-7.72 1.47 1.35L5.41 20z\"/>\n",
              "  </svg>\n",
              "      </button>\n",
              "      \n",
              "  <style>\n",
              "    .colab-df-container {\n",
              "      display:flex;\n",
              "      flex-wrap:wrap;\n",
              "      gap: 12px;\n",
              "    }\n",
              "\n",
              "    .colab-df-convert {\n",
              "      background-color: #E8F0FE;\n",
              "      border: none;\n",
              "      border-radius: 50%;\n",
              "      cursor: pointer;\n",
              "      display: none;\n",
              "      fill: #1967D2;\n",
              "      height: 32px;\n",
              "      padding: 0 0 0 0;\n",
              "      width: 32px;\n",
              "    }\n",
              "\n",
              "    .colab-df-convert:hover {\n",
              "      background-color: #E2EBFA;\n",
              "      box-shadow: 0px 1px 2px rgba(60, 64, 67, 0.3), 0px 1px 3px 1px rgba(60, 64, 67, 0.15);\n",
              "      fill: #174EA6;\n",
              "    }\n",
              "\n",
              "    [theme=dark] .colab-df-convert {\n",
              "      background-color: #3B4455;\n",
              "      fill: #D2E3FC;\n",
              "    }\n",
              "\n",
              "    [theme=dark] .colab-df-convert:hover {\n",
              "      background-color: #434B5C;\n",
              "      box-shadow: 0px 1px 3px 1px rgba(0, 0, 0, 0.15);\n",
              "      filter: drop-shadow(0px 1px 2px rgba(0, 0, 0, 0.3));\n",
              "      fill: #FFFFFF;\n",
              "    }\n",
              "  </style>\n",
              "\n",
              "      <script>\n",
              "        const buttonEl =\n",
              "          document.querySelector('#df-6eea3736-7f93-4696-900f-b491ac696526 button.colab-df-convert');\n",
              "        buttonEl.style.display =\n",
              "          google.colab.kernel.accessAllowed ? 'block' : 'none';\n",
              "\n",
              "        async function convertToInteractive(key) {\n",
              "          const element = document.querySelector('#df-6eea3736-7f93-4696-900f-b491ac696526');\n",
              "          const dataTable =\n",
              "            await google.colab.kernel.invokeFunction('convertToInteractive',\n",
              "                                                     [key], {});\n",
              "          if (!dataTable) return;\n",
              "\n",
              "          const docLinkHtml = 'Like what you see? Visit the ' +\n",
              "            '<a target=\"_blank\" href=https://colab.research.google.com/notebooks/data_table.ipynb>data table notebook</a>'\n",
              "            + ' to learn more about interactive tables.';\n",
              "          element.innerHTML = '';\n",
              "          dataTable['output_type'] = 'display_data';\n",
              "          await google.colab.output.renderOutput(dataTable, element);\n",
              "          const docLink = document.createElement('div');\n",
              "          docLink.innerHTML = docLinkHtml;\n",
              "          element.appendChild(docLink);\n",
              "        }\n",
              "      </script>\n",
              "    </div>\n",
              "  </div>\n",
              "  "
            ]
          },
          "metadata": {},
          "execution_count": 18
        }
      ]
    },
    {
      "cell_type": "markdown",
      "source": [
        "Ahora nos deshacemos de la columna original \"Dirección\""
      ],
      "metadata": {
        "id": "965xgNqChao4"
      }
    },
    {
      "cell_type": "code",
      "source": [
        "df_ubicaciones = df_ubicaciones.drop(columns='Dirección')"
      ],
      "metadata": {
        "id": "XCYfcwgkWPet"
      },
      "execution_count": 19,
      "outputs": []
    },
    {
      "cell_type": "code",
      "source": [
        "df_ubicaciones.columns #comprobamos las columnas que quedaron en el DataFrame"
      ],
      "metadata": {
        "colab": {
          "base_uri": "https://localhost:8080/"
        },
        "id": "LrBcRNeJXROD",
        "outputId": "e6a79b9b-3dc3-42d5-a005-d33570139733"
      },
      "execution_count": 20,
      "outputs": [
        {
          "output_type": "execute_result",
          "data": {
            "text/plain": [
              "Index(['Latitud', 'Longitud', 'Zona', 'Calles'], dtype='object')"
            ]
          },
          "metadata": {},
          "execution_count": 20
        }
      ]
    },
    {
      "cell_type": "code",
      "source": [
        "df_ubicaciones = df_ubicaciones.reindex(columns=['Calles','Zona','Latitud','Longitud']) #Reorganizamos el orden de las columnas para que el texto quede primero"
      ],
      "metadata": {
        "id": "GOdvB4l5XIr3"
      },
      "execution_count": 21,
      "outputs": []
    },
    {
      "cell_type": "markdown",
      "source": [
        "Exploramos el DataFrame ya reorganizado con las nuevas columnas"
      ],
      "metadata": {
        "id": "ipi0X3D8idbY"
      }
    },
    {
      "cell_type": "code",
      "source": [
        "df_ubicaciones.columns"
      ],
      "metadata": {
        "colab": {
          "base_uri": "https://localhost:8080/"
        },
        "id": "W5a44l8OYCgC",
        "outputId": "8593a99d-ff83-432f-fa3f-95213bc62ab1"
      },
      "execution_count": 22,
      "outputs": [
        {
          "output_type": "execute_result",
          "data": {
            "text/plain": [
              "Index(['Calles', 'Zona', 'Latitud', 'Longitud'], dtype='object')"
            ]
          },
          "metadata": {},
          "execution_count": 22
        }
      ]
    },
    {
      "cell_type": "code",
      "source": [
        "df_ubicaciones.dtypes"
      ],
      "metadata": {
        "colab": {
          "base_uri": "https://localhost:8080/"
        },
        "id": "to43rTxlYMEl",
        "outputId": "93581c63-d1a6-4002-81fe-412180780ffa"
      },
      "execution_count": 23,
      "outputs": [
        {
          "output_type": "execute_result",
          "data": {
            "text/plain": [
              "Calles       object\n",
              "Zona         object\n",
              "Latitud     float64\n",
              "Longitud    float64\n",
              "dtype: object"
            ]
          },
          "metadata": {},
          "execution_count": 23
        }
      ]
    },
    {
      "cell_type": "code",
      "source": [
        "df_ubicaciones.info()"
      ],
      "metadata": {
        "colab": {
          "base_uri": "https://localhost:8080/"
        },
        "id": "H3tXOHd2YSQs",
        "outputId": "d6e8a43f-269f-4bf2-ce5e-d20a0ebb84eb"
      },
      "execution_count": 24,
      "outputs": [
        {
          "output_type": "stream",
          "name": "stdout",
          "text": [
            "<class 'pandas.core.frame.DataFrame'>\n",
            "RangeIndex: 299 entries, 0 to 298\n",
            "Data columns (total 4 columns):\n",
            " #   Column    Non-Null Count  Dtype  \n",
            "---  ------    --------------  -----  \n",
            " 0   Calles    299 non-null    object \n",
            " 1   Zona      299 non-null    object \n",
            " 2   Latitud   299 non-null    float64\n",
            " 3   Longitud  299 non-null    float64\n",
            "dtypes: float64(2), object(2)\n",
            "memory usage: 9.5+ KB\n"
          ]
        }
      ]
    },
    {
      "cell_type": "markdown",
      "source": [
        "No se han encontrado irregularidades en los tipos de datos ni tamaño de las filas o columnas. \n",
        "\n",
        "Ahora vamos a explorar cuántas estaciones hay por cada municipio registrado. (Guadalajara (GDL), Zapopán (ZPN), Tlaquepaque(TLQ)) mediante str.contains de Pandas, que devuelve 'True' si encuentra la coincidencia de caracteres."
      ],
      "metadata": {
        "id": "QgOm1Xy3ik15"
      }
    },
    {
      "cell_type": "code",
      "source": [
        "estaciones_ZPN = df_ubicaciones[\"Zona\"].str.contains('ZPN').sum()\n",
        "estaciones_ZPN"
      ],
      "metadata": {
        "colab": {
          "base_uri": "https://localhost:8080/"
        },
        "id": "svBDuRkDu0xi",
        "outputId": "21e7f73a-0d5f-471f-cfb2-16e21367a925"
      },
      "execution_count": 25,
      "outputs": [
        {
          "output_type": "execute_result",
          "data": {
            "text/plain": [
              "61"
            ]
          },
          "metadata": {},
          "execution_count": 25
        }
      ]
    },
    {
      "cell_type": "code",
      "source": [
        "estaciones_TLQ = df_ubicaciones[\"Zona\"].str.contains('TLQ').sum()\n",
        "estaciones_TLQ"
      ],
      "metadata": {
        "colab": {
          "base_uri": "https://localhost:8080/"
        },
        "id": "Y0xLgTVYw1oT",
        "outputId": "5dcfc758-ab9c-4e5e-ca9d-3d10ac491048"
      },
      "execution_count": 26,
      "outputs": [
        {
          "output_type": "execute_result",
          "data": {
            "text/plain": [
              "12"
            ]
          },
          "metadata": {},
          "execution_count": 26
        }
      ]
    },
    {
      "cell_type": "code",
      "source": [
        "estaciones_GDL = df_ubicaciones[\"Zona\"].str.contains('GDL').sum()\n",
        "estaciones_GDL"
      ],
      "metadata": {
        "colab": {
          "base_uri": "https://localhost:8080/"
        },
        "id": "ZdoYG5Scwytw",
        "outputId": "39cfe161-4fc8-485c-d87c-0d2e0d825072"
      },
      "execution_count": 27,
      "outputs": [
        {
          "output_type": "execute_result",
          "data": {
            "text/plain": [
              "226"
            ]
          },
          "metadata": {},
          "execution_count": 27
        }
      ]
    },
    {
      "cell_type": "code",
      "source": [
        "total_estaciones = np.sum([estaciones_ZPN,estaciones_TLQ,estaciones_GDL])\n",
        "porcentaje_estaciones_GDL = np.multiply(np.divide(estaciones_GDL,total_estaciones),100)\n",
        "porcentaje_estaciones_GDL\n"
      ],
      "metadata": {
        "colab": {
          "base_uri": "https://localhost:8080/"
        },
        "id": "jbYOf_OLyqqx",
        "outputId": "0c01fea3-5f62-4ef2-e33f-6153c7c77651"
      },
      "execution_count": 28,
      "outputs": [
        {
          "output_type": "execute_result",
          "data": {
            "text/plain": [
              "75.58528428093646"
            ]
          },
          "metadata": {},
          "execution_count": 28
        }
      ]
    },
    {
      "cell_type": "markdown",
      "source": [
        "Se observa mayor presencia de estaciones de bicicletas en Guadalajara (75.58 %).\n",
        "\n",
        "Con esto ya tenemos un dataframe disponible para que cuando se proponga una ubicación para la tienda de bicicletas se puede analizar si es buena opción, en base a la cercanía con las estaciones del servicio MiBici. La presencia de estaciones podría ser poco estimulante para la venta de bicicletas pero quizás sí para accesorios. "
      ],
      "metadata": {
        "id": "KVBBE32HxGsv"
      }
    },
    {
      "cell_type": "code",
      "source": [
        "df_ubicaciones"
      ],
      "metadata": {
        "colab": {
          "base_uri": "https://localhost:8080/",
          "height": 424
        },
        "id": "ORUvXfvTYWpd",
        "outputId": "9a55c461-862c-464d-ddee-b811f4a0cca8"
      },
      "execution_count": 29,
      "outputs": [
        {
          "output_type": "execute_result",
          "data": {
            "text/plain": [
              "                                  Calles       Zona    Latitud    Longitud\n",
              "0               C. Ermita / C. Del Árbol  (ZPN-043)  20.659380 -103.401950\n",
              "1            Av. Tizoc / C. Iztaccíhuatl  (ZPN-045)  20.657010 -103.404640\n",
              "2           Av. Tizoc / Av. López Mateos  (ZPN-047)  20.653810 -103.401340\n",
              "3     C. Chimalhuacán / Av. López Mateos  (ZPN-067)  20.651592 -103.402769\n",
              "4        C.Hércules / Av. De la Arboleda  (GDL-218)  20.664447 -103.385311\n",
              "..                                   ...        ...        ...         ...\n",
              "294          Av. Hidalgo / C. Pedro Loza  (GDL-033)  20.677419 -103.347983\n",
              "295           C. Degollado / Av. Hidalgo  (GDL-032)  20.677263 -103.344908\n",
              "296     C. Agustín Yáñez / C. Fco Ugarte  (GDL-134)  20.670160 -103.384480\n",
              "297  Av. Periférico G. Morín / Av. J. Pa  (ZPN-051)  20.738370 -103.380570\n",
              "298        C. Escultores / Av. Guadalupe  (ZPN-057)  20.663707 -103.417817\n",
              "\n",
              "[299 rows x 4 columns]"
            ],
            "text/html": [
              "\n",
              "  <div id=\"df-37681fff-fda9-473b-abc1-26aa1bda54a0\">\n",
              "    <div class=\"colab-df-container\">\n",
              "      <div>\n",
              "<style scoped>\n",
              "    .dataframe tbody tr th:only-of-type {\n",
              "        vertical-align: middle;\n",
              "    }\n",
              "\n",
              "    .dataframe tbody tr th {\n",
              "        vertical-align: top;\n",
              "    }\n",
              "\n",
              "    .dataframe thead th {\n",
              "        text-align: right;\n",
              "    }\n",
              "</style>\n",
              "<table border=\"1\" class=\"dataframe\">\n",
              "  <thead>\n",
              "    <tr style=\"text-align: right;\">\n",
              "      <th></th>\n",
              "      <th>Calles</th>\n",
              "      <th>Zona</th>\n",
              "      <th>Latitud</th>\n",
              "      <th>Longitud</th>\n",
              "    </tr>\n",
              "  </thead>\n",
              "  <tbody>\n",
              "    <tr>\n",
              "      <th>0</th>\n",
              "      <td>C. Ermita / C. Del Árbol</td>\n",
              "      <td>(ZPN-043)</td>\n",
              "      <td>20.659380</td>\n",
              "      <td>-103.401950</td>\n",
              "    </tr>\n",
              "    <tr>\n",
              "      <th>1</th>\n",
              "      <td>Av. Tizoc / C. Iztaccíhuatl</td>\n",
              "      <td>(ZPN-045)</td>\n",
              "      <td>20.657010</td>\n",
              "      <td>-103.404640</td>\n",
              "    </tr>\n",
              "    <tr>\n",
              "      <th>2</th>\n",
              "      <td>Av. Tizoc / Av. López Mateos</td>\n",
              "      <td>(ZPN-047)</td>\n",
              "      <td>20.653810</td>\n",
              "      <td>-103.401340</td>\n",
              "    </tr>\n",
              "    <tr>\n",
              "      <th>3</th>\n",
              "      <td>C. Chimalhuacán / Av. López Mateos</td>\n",
              "      <td>(ZPN-067)</td>\n",
              "      <td>20.651592</td>\n",
              "      <td>-103.402769</td>\n",
              "    </tr>\n",
              "    <tr>\n",
              "      <th>4</th>\n",
              "      <td>C.Hércules / Av. De la Arboleda</td>\n",
              "      <td>(GDL-218)</td>\n",
              "      <td>20.664447</td>\n",
              "      <td>-103.385311</td>\n",
              "    </tr>\n",
              "    <tr>\n",
              "      <th>...</th>\n",
              "      <td>...</td>\n",
              "      <td>...</td>\n",
              "      <td>...</td>\n",
              "      <td>...</td>\n",
              "    </tr>\n",
              "    <tr>\n",
              "      <th>294</th>\n",
              "      <td>Av. Hidalgo / C. Pedro Loza</td>\n",
              "      <td>(GDL-033)</td>\n",
              "      <td>20.677419</td>\n",
              "      <td>-103.347983</td>\n",
              "    </tr>\n",
              "    <tr>\n",
              "      <th>295</th>\n",
              "      <td>C. Degollado / Av. Hidalgo</td>\n",
              "      <td>(GDL-032)</td>\n",
              "      <td>20.677263</td>\n",
              "      <td>-103.344908</td>\n",
              "    </tr>\n",
              "    <tr>\n",
              "      <th>296</th>\n",
              "      <td>C. Agustín Yáñez / C. Fco Ugarte</td>\n",
              "      <td>(GDL-134)</td>\n",
              "      <td>20.670160</td>\n",
              "      <td>-103.384480</td>\n",
              "    </tr>\n",
              "    <tr>\n",
              "      <th>297</th>\n",
              "      <td>Av. Periférico G. Morín / Av. J. Pa</td>\n",
              "      <td>(ZPN-051)</td>\n",
              "      <td>20.738370</td>\n",
              "      <td>-103.380570</td>\n",
              "    </tr>\n",
              "    <tr>\n",
              "      <th>298</th>\n",
              "      <td>C. Escultores / Av. Guadalupe</td>\n",
              "      <td>(ZPN-057)</td>\n",
              "      <td>20.663707</td>\n",
              "      <td>-103.417817</td>\n",
              "    </tr>\n",
              "  </tbody>\n",
              "</table>\n",
              "<p>299 rows × 4 columns</p>\n",
              "</div>\n",
              "      <button class=\"colab-df-convert\" onclick=\"convertToInteractive('df-37681fff-fda9-473b-abc1-26aa1bda54a0')\"\n",
              "              title=\"Convert this dataframe to an interactive table.\"\n",
              "              style=\"display:none;\">\n",
              "        \n",
              "  <svg xmlns=\"http://www.w3.org/2000/svg\" height=\"24px\"viewBox=\"0 0 24 24\"\n",
              "       width=\"24px\">\n",
              "    <path d=\"M0 0h24v24H0V0z\" fill=\"none\"/>\n",
              "    <path d=\"M18.56 5.44l.94 2.06.94-2.06 2.06-.94-2.06-.94-.94-2.06-.94 2.06-2.06.94zm-11 1L8.5 8.5l.94-2.06 2.06-.94-2.06-.94L8.5 2.5l-.94 2.06-2.06.94zm10 10l.94 2.06.94-2.06 2.06-.94-2.06-.94-.94-2.06-.94 2.06-2.06.94z\"/><path d=\"M17.41 7.96l-1.37-1.37c-.4-.4-.92-.59-1.43-.59-.52 0-1.04.2-1.43.59L10.3 9.45l-7.72 7.72c-.78.78-.78 2.05 0 2.83L4 21.41c.39.39.9.59 1.41.59.51 0 1.02-.2 1.41-.59l7.78-7.78 2.81-2.81c.8-.78.8-2.07 0-2.86zM5.41 20L4 18.59l7.72-7.72 1.47 1.35L5.41 20z\"/>\n",
              "  </svg>\n",
              "      </button>\n",
              "      \n",
              "  <style>\n",
              "    .colab-df-container {\n",
              "      display:flex;\n",
              "      flex-wrap:wrap;\n",
              "      gap: 12px;\n",
              "    }\n",
              "\n",
              "    .colab-df-convert {\n",
              "      background-color: #E8F0FE;\n",
              "      border: none;\n",
              "      border-radius: 50%;\n",
              "      cursor: pointer;\n",
              "      display: none;\n",
              "      fill: #1967D2;\n",
              "      height: 32px;\n",
              "      padding: 0 0 0 0;\n",
              "      width: 32px;\n",
              "    }\n",
              "\n",
              "    .colab-df-convert:hover {\n",
              "      background-color: #E2EBFA;\n",
              "      box-shadow: 0px 1px 2px rgba(60, 64, 67, 0.3), 0px 1px 3px 1px rgba(60, 64, 67, 0.15);\n",
              "      fill: #174EA6;\n",
              "    }\n",
              "\n",
              "    [theme=dark] .colab-df-convert {\n",
              "      background-color: #3B4455;\n",
              "      fill: #D2E3FC;\n",
              "    }\n",
              "\n",
              "    [theme=dark] .colab-df-convert:hover {\n",
              "      background-color: #434B5C;\n",
              "      box-shadow: 0px 1px 3px 1px rgba(0, 0, 0, 0.15);\n",
              "      filter: drop-shadow(0px 1px 2px rgba(0, 0, 0, 0.3));\n",
              "      fill: #FFFFFF;\n",
              "    }\n",
              "  </style>\n",
              "\n",
              "      <script>\n",
              "        const buttonEl =\n",
              "          document.querySelector('#df-37681fff-fda9-473b-abc1-26aa1bda54a0 button.colab-df-convert');\n",
              "        buttonEl.style.display =\n",
              "          google.colab.kernel.accessAllowed ? 'block' : 'none';\n",
              "\n",
              "        async function convertToInteractive(key) {\n",
              "          const element = document.querySelector('#df-37681fff-fda9-473b-abc1-26aa1bda54a0');\n",
              "          const dataTable =\n",
              "            await google.colab.kernel.invokeFunction('convertToInteractive',\n",
              "                                                     [key], {});\n",
              "          if (!dataTable) return;\n",
              "\n",
              "          const docLinkHtml = 'Like what you see? Visit the ' +\n",
              "            '<a target=\"_blank\" href=https://colab.research.google.com/notebooks/data_table.ipynb>data table notebook</a>'\n",
              "            + ' to learn more about interactive tables.';\n",
              "          element.innerHTML = '';\n",
              "          dataTable['output_type'] = 'display_data';\n",
              "          await google.colab.output.renderOutput(dataTable, element);\n",
              "          const docLink = document.createElement('div');\n",
              "          docLink.innerHTML = docLinkHtml;\n",
              "          element.appendChild(docLink);\n",
              "        }\n",
              "      </script>\n",
              "    </div>\n",
              "  </div>\n",
              "  "
            ]
          },
          "metadata": {},
          "execution_count": 29
        }
      ]
    }
  ]
}