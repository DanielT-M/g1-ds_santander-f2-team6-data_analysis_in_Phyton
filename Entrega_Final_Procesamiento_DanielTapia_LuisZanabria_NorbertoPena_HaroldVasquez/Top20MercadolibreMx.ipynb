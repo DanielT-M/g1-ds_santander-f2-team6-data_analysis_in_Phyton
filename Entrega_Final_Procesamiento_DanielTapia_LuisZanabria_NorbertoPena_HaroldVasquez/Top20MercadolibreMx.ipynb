{
  "cells": [
    {
      "cell_type": "markdown",
      "metadata": {
        "id": "view-in-github",
        "colab_type": "text"
      },
      "source": [
        "<a href=\"https://colab.research.google.com/github/hvasquez28/g1-ds_santander-f2-team7-Phyton/blob/Harold/Entrega_Final_Procesamiento_DanielTapia_LuisZanabria_NorbertoPena_HaroldVasquez/Top20MercadolibreMx.ipynb\" target=\"_parent\"><img src=\"https://colab.research.google.com/assets/colab-badge.svg\" alt=\"Open In Colab\"/></a>"
      ]
    },
    {
      "cell_type": "markdown",
      "metadata": {
        "id": "FSxrOBvAguUB"
      },
      "source": [
        "## Encontrar los top 20 productos más vendidos en MercadoLibre México\n",
        "\n",
        "Se quiere buscar los top 20 productos más vendidos en la API de MercadoLibre, específicamente en la página de México. Para esto, se utilizó la documentación de la siguiente página web: https://developers.mercadolibre.cl/es_ar/mas-vendidos-en-mercado-libre.\n",
        "\n"
      ]
    },
    {
      "cell_type": "markdown",
      "metadata": {
        "id": "RbnCOdgHguUM"
      },
      "source": [
        "### 1) Registro de la APP\n",
        "\n",
        "Vamos a implementar un programa que realice una llamada HTTP a la API de NASA.\n",
        "\n",
        "Puedes leer la documentación de la API [aquí](https://api.nasa.gov/), bajo el título de \"Asteroids NeoWs\"."
      ]
    },
    {
      "cell_type": "markdown",
      "metadata": {
        "id": "sHi0Mnzl5aOZ"
      },
      "source": [
        "### 2) Obtención del token\n",
        "\n",
        "se uso esta pagina https://developers.mercadolibre.com.ar/es_ar/autenticacion-y-autorizacion"
      ]
    },
    {
      "cell_type": "code",
      "execution_count": null,
      "metadata": {
        "id": "FPtb-e6hguUO"
      },
      "outputs": [],
      "source": [
        "## Imports necesarios\n",
        "import requests\n",
        "import pandas as pd"
      ]
    },
    {
      "cell_type": "code",
      "execution_count": null,
      "metadata": {
        "id": "KFRaSYcDguUQ"
      },
      "outputs": [],
      "source": [
        "token={ 'Authorization': 'Bearer <your_token>' }\n"
      ]
    },
    {
      "cell_type": "markdown",
      "metadata": {
        "id": "XkAO9tv4-hRk"
      },
      "source": [
        "### 3) Identificacion del site\n",
        "\n",
        "Cada una de las siguientes llamadas estan agrupadas por sites (paises).\n",
        "en la siquiente página web hay detalles de los sites cubiertos por ML https://developers.mercadolibre.cl/es_ar/categorias-y-publicaciones\n",
        "\n",
        "Por lo tanto, primero debemos consultar con todos ellos y buscar el que nos interesa: México."
      ]
    },
    {
      "cell_type": "code",
      "source": [
        "endpoint = 'https://api.mercadolibre.com/sites'\n",
        "r = requests.get(endpoint, headers=token)\n",
        "r.status_code"
      ],
      "metadata": {
        "id": "tE49lX2b_Sg0"
      },
      "execution_count": null,
      "outputs": []
    },
    {
      "cell_type": "code",
      "source": [
        "# si en la respuesta anterior obtenemos un 200, porcedemos a crear un DF con la respeusta obtenida\n",
        "\n",
        "json = r.json()\n",
        "sites =  pd.json_normalize(json['id','name'])\n",
        "sites"
      ],
      "metadata": {
        "id": "3qb09ultC6CC"
      },
      "execution_count": null,
      "outputs": []
    },
    {
      "cell_type": "code",
      "source": [
        "# Ahora buscamos el ID del site que nos interesa\n",
        "sites.loc[sites['name'] == 'Mexico', ['id']]\n",
        "# site_id"
      ],
      "metadata": {
        "id": "PUjFUcXtGt_i"
      },
      "execution_count": null,
      "outputs": []
    },
    {
      "cell_type": "markdown",
      "metadata": {
        "id": "qF3DoO0W58V_"
      },
      "source": [
        "### 4) Obtención del id de Categoria\n",
        "\n",
        "Dado que para hacer la consulta que requerimos, se necesita un id de la categoria de interes, debemos primero indentificar dicho id. Para ello, haremos una llamada al EndPoint descrito en esta página https://developers.mercadolibre.cl/categoriza-productos"
      ]
    },
    {
      "cell_type": "code",
      "execution_count": null,
      "metadata": {
        "id": "7lN6J2txguUS"
      },
      "outputs": [],
      "source": [
        "endpoint = 'https://api.mercadolibre.com/sites/'+site_id+'/categories'\n",
        "r = requests.get(endpoint, headers=token)\n",
        "r.status_code"
      ]
    },
    {
      "cell_type": "code",
      "source": [
        "# si en la respuesta anterior obtenemos un 200, procedemos a crear un DF con la respuesta obtenida\n",
        "\n",
        "json = r.json()\n",
        "categories =  pd.json_normalize(json['id','name'])\n",
        "categories"
      ],
      "metadata": {
        "id": "KdDMOR-fK7J-"
      },
      "execution_count": null,
      "outputs": []
    },
    {
      "cell_type": "code",
      "source": [
        "# Revisando la respuesta obtenida, se deduce que la categoria que nos interesa es 'Deportes y Fitness'. Por eso buscamos el Id de esta\n",
        "sites.loc[sites['name'] == 'Deportes y Fitness', ['id']]\n",
        "# category_id"
      ],
      "metadata": {
        "id": "bie_xBO1LeLK"
      },
      "execution_count": null,
      "outputs": []
    },
    {
      "cell_type": "markdown",
      "metadata": {
        "id": "AMpnMiCwODoZ"
      },
      "source": [
        "### 5) Obtención de los top 20 productos más vendidos en 'Deportes y Fitness' en MercadoLibre México\n",
        "\n",
        "Finalmente, podremos obtener lo que nos interesa para este Playbook, los 20 productos más vendidos en Mexico al momento de esta consulta.\n",
        "\n",
        "Fecha y hora de la cosnsulta: 9/17/2022 a las 4:00 pm CST"
      ]
    },
    {
      "cell_type": "code",
      "execution_count": null,
      "metadata": {
        "id": "R0ZZAn3WODog"
      },
      "outputs": [],
      "source": [
        "endpoint = 'https://api.mercadolibre.com/highlights/'+site_id+'/category/'+category_id\n",
        "r = requests.get(endpoint, headers=token)\n",
        "r.status_code"
      ]
    },
    {
      "cell_type": "code",
      "source": [
        "# si en la respuesta anterior obtenemos un 200, procedemos a crear un DF con la respuesta obtenida\n",
        "\n",
        "json = r.json()\n",
        "top20 =  pd.json_normalize(json['content'])\n",
        "top20"
      ],
      "metadata": {
        "id": "cqlxo7-8ODog"
      },
      "execution_count": null,
      "outputs": []
    },
    {
      "cell_type": "code",
      "source": [
        "# Para conocer los detalles de cada item, automatizamos la llamada al siguiente EndPoint (https://developers.mercadolibre.cl/buscador-de-productos)\n",
        "# con cada uno de ellos y creamos un data frame compleot con todos ellos\n",
        "\n",
        "\n",
        "\n",
        "dict_datos = {}\n",
        "\n",
        "for i in range(0, 20):\n",
        "    category_id = top20.loc[sites['position'] == i+1, ['id']]\n",
        "    endpoint = 'https://api.mercadolibre.com/products/' + category_id\n",
        "\n",
        "    try:\n",
        "        time.sleep(5)\n",
        "        r = requests.get(endpoint, headers=token, timeout=5)\n",
        "\n",
        "        if r.status_code == 200:\n",
        "            json = r.json()\n",
        "\n",
        "            data = json[]\n",
        "            dict_datos[i] = data\n",
        "    except:\n",
        "        continue\n",
        "\n",
        "for key in dict_datos:\n",
        "    normalized = pd.json_normalize(dict_datos[key])\n",
        "    df = pd.DataFrame.from_dict(normalized)\n",
        "    dict_datos[key] = df\n",
        "\n",
        "lista_de_dataframes = []\n",
        "\n",
        "for key in dict_datos:\n",
        "    lista_de_dataframes.append(dict_datos[key])\n",
        "\n",
        "df_completo = pd.concat(lista_de_dataframes, axis=0).reset_index(drop=True)\n",
        "df_completo"
      ],
      "metadata": {
        "id": "_g-coGFhWqYw"
      },
      "execution_count": null,
      "outputs": []
    }
  ],
  "metadata": {
    "kernelspec": {
      "display_name": "Python 3",
      "language": "python",
      "name": "python3"
    },
    "language_info": {
      "codemirror_mode": {
        "name": "ipython",
        "version": 3
      },
      "file_extension": ".py",
      "mimetype": "text/x-python",
      "name": "python",
      "nbconvert_exporter": "python",
      "pygments_lexer": "ipython3",
      "version": "3.8.3"
    },
    "colab": {
      "provenance": [],
      "include_colab_link": true
    }
  },
  "nbformat": 4,
  "nbformat_minor": 0
}